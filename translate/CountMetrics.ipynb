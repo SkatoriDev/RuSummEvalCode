{
 "cells": [
  {
   "cell_type": "code",
   "execution_count": 1,
   "id": "68aeae9b-db6c-466d-9c12-3c878beb4109",
   "metadata": {},
   "outputs": [],
   "source": [
    "import pandas as pd"
   ]
  },
  {
   "cell_type": "code",
   "execution_count": 2,
   "id": "67f725c9-442c-4f26-9daa-3c82e6a0d8d0",
   "metadata": {},
   "outputs": [],
   "source": [
    "data = pd.read_csv(\"translated_data.csv\")"
   ]
  },
  {
   "cell_type": "code",
   "execution_count": 3,
   "id": "2755e5fc-1733-467e-bf72-743619563a23",
   "metadata": {},
   "outputs": [
    {
     "data": {
      "text/html": [
       "<div>\n",
       "<style scoped>\n",
       "    .dataframe tbody tr th:only-of-type {\n",
       "        vertical-align: middle;\n",
       "    }\n",
       "\n",
       "    .dataframe tbody tr th {\n",
       "        vertical-align: top;\n",
       "    }\n",
       "\n",
       "    .dataframe thead th {\n",
       "        text-align: right;\n",
       "    }\n",
       "</style>\n",
       "<table border=\"1\" class=\"dataframe\">\n",
       "  <thead>\n",
       "    <tr style=\"text-align: right;\">\n",
       "      <th></th>\n",
       "      <th>text</th>\n",
       "      <th>summary</th>\n",
       "      <th>machine_summary</th>\n",
       "      <th>Актуальность</th>\n",
       "      <th>Последовательность</th>\n",
       "      <th>Беглость</th>\n",
       "      <th>Согласованность</th>\n",
       "    </tr>\n",
       "  </thead>\n",
       "  <tbody>\n",
       "    <tr>\n",
       "      <th>0</th>\n",
       "      <td>(CNN) В прошлом году расистские высказывания Д...</td>\n",
       "      <td>Стивиано должен вернуть 2,6 миллиона долларов ...</td>\n",
       "      <td>Дональд Стерлинг, игрок прошлогодней команды Н...</td>\n",
       "      <td>1.666667</td>\n",
       "      <td>1.000000</td>\n",
       "      <td>1.000000</td>\n",
       "      <td>1.333333</td>\n",
       "    </tr>\n",
       "    <tr>\n",
       "      <th>1</th>\n",
       "      <td>(CNN) В прошлом году расистские высказывания Д...</td>\n",
       "      <td>Стивиано должен вернуть 2,6 миллиона долларов ...</td>\n",
       "      <td>Дональд Стерлинг обвинил Стивиано в том, что о...</td>\n",
       "      <td>1.666667</td>\n",
       "      <td>2.333333</td>\n",
       "      <td>4.666667</td>\n",
       "      <td>3.000000</td>\n",
       "    </tr>\n",
       "    <tr>\n",
       "      <th>2</th>\n",
       "      <td>(CNN) В прошлом году расистские высказывания Д...</td>\n",
       "      <td>Стивиано должен вернуть 2,6 миллиона долларов ...</td>\n",
       "      <td>судья Лос-Анджелеса обязал В. Стивиано выплати...</td>\n",
       "      <td>2.333333</td>\n",
       "      <td>4.666667</td>\n",
       "      <td>4.333333</td>\n",
       "      <td>1.000000</td>\n",
       "    </tr>\n",
       "    <tr>\n",
       "      <th>3</th>\n",
       "      <td>(CNN) В прошлом году расистские высказывания Д...</td>\n",
       "      <td>Стивиано должен вернуть 2,6 миллиона долларов ...</td>\n",
       "      <td>Жена Дональда Стерлинга подала в суд на Стивиа...</td>\n",
       "      <td>3.333333</td>\n",
       "      <td>5.000000</td>\n",
       "      <td>4.333333</td>\n",
       "      <td>2.666667</td>\n",
       "    </tr>\n",
       "    <tr>\n",
       "      <th>4</th>\n",
       "      <td>(CNN) В прошлом году расистские высказывания Д...</td>\n",
       "      <td>Стивиано должен вернуть 2,6 миллиона долларов ...</td>\n",
       "      <td>расистские высказывания Дональда Стерлинга в п...</td>\n",
       "      <td>3.000000</td>\n",
       "      <td>5.000000</td>\n",
       "      <td>5.000000</td>\n",
       "      <td>4.666667</td>\n",
       "    </tr>\n",
       "  </tbody>\n",
       "</table>\n",
       "</div>"
      ],
      "text/plain": [
       "                                                text  \\\n",
       "0  (CNN) В прошлом году расистские высказывания Д...   \n",
       "1  (CNN) В прошлом году расистские высказывания Д...   \n",
       "2  (CNN) В прошлом году расистские высказывания Д...   \n",
       "3  (CNN) В прошлом году расистские высказывания Д...   \n",
       "4  (CNN) В прошлом году расистские высказывания Д...   \n",
       "\n",
       "                                             summary  \\\n",
       "0  Стивиано должен вернуть 2,6 миллиона долларов ...   \n",
       "1  Стивиано должен вернуть 2,6 миллиона долларов ...   \n",
       "2  Стивиано должен вернуть 2,6 миллиона долларов ...   \n",
       "3  Стивиано должен вернуть 2,6 миллиона долларов ...   \n",
       "4  Стивиано должен вернуть 2,6 миллиона долларов ...   \n",
       "\n",
       "                                     machine_summary  Актуальность  \\\n",
       "0  Дональд Стерлинг, игрок прошлогодней команды Н...      1.666667   \n",
       "1  Дональд Стерлинг обвинил Стивиано в том, что о...      1.666667   \n",
       "2  судья Лос-Анджелеса обязал В. Стивиано выплати...      2.333333   \n",
       "3  Жена Дональда Стерлинга подала в суд на Стивиа...      3.333333   \n",
       "4  расистские высказывания Дональда Стерлинга в п...      3.000000   \n",
       "\n",
       "   Последовательность  Беглость  Согласованность  \n",
       "0            1.000000  1.000000         1.333333  \n",
       "1            2.333333  4.666667         3.000000  \n",
       "2            4.666667  4.333333         1.000000  \n",
       "3            5.000000  4.333333         2.666667  \n",
       "4            5.000000  5.000000         4.666667  "
      ]
     },
     "execution_count": 3,
     "metadata": {},
     "output_type": "execute_result"
    }
   ],
   "source": [
    "data.head()"
   ]
  },
  {
   "cell_type": "markdown",
   "id": "f7325eed-eab2-4b1b-a440-da16ddf4fc68",
   "metadata": {},
   "source": [
    "## Metrics"
   ]
  },
  {
   "cell_type": "code",
   "execution_count": null,
   "id": "813408e6-b14f-4409-9b85-e49d3b0da6e6",
   "metadata": {},
   "outputs": [],
   "source": [
    "results = {}"
   ]
  },
  {
   "cell_type": "markdown",
   "id": "eb9ff972-3d5b-4c32-8ebc-6e7bf64bf602",
   "metadata": {},
   "source": [
    "### BERTScore"
   ]
  },
  {
   "cell_type": "code",
   "execution_count": 4,
   "id": "c145536a-523f-489f-af34-a4500c0f6c13",
   "metadata": {},
   "outputs": [
    {
     "name": "stdout",
     "output_type": "stream",
     "text": [
      "calculating scores...\n",
      "computing bert embedding.\n"
     ]
    },
    {
     "data": {
      "application/vnd.jupyter.widget-view+json": {
       "model_id": "db1ae4d99feb4f16932b90051b78d8b1",
       "version_major": 2,
       "version_minor": 0
      },
      "text/plain": [
       "  0%|          | 0/102 [00:00<?, ?it/s]"
      ]
     },
     "metadata": {},
     "output_type": "display_data"
    },
    {
     "name": "stdout",
     "output_type": "stream",
     "text": [
      "computing greedy matching.\n"
     ]
    },
    {
     "data": {
      "application/vnd.jupyter.widget-view+json": {
       "model_id": "96ee31a711bd49fe96f4094d60d6f436",
       "version_major": 2,
       "version_minor": 0
      },
      "text/plain": [
       "  0%|          | 0/100 [00:00<?, ?it/s]"
      ]
     },
     "metadata": {},
     "output_type": "display_data"
    },
    {
     "name": "stdout",
     "output_type": "stream",
     "text": [
      "done in 56907.13 seconds, 0.03 sentences/sec\n"
     ]
    }
   ],
   "source": [
    "from evaluate import load\n",
    "bertscore = load(\"bertscore\")\n",
    "references = list(data[\"summary\"])\n",
    "predictions = list(data[\"machine_summary\"])\n",
    "results[\"bertscore\"] = bertscore.compute(predictions=predictions, references=references, lang=\"ru\", verbose=True, model_type=\"microsoft/mdeberta-v3-base\", nthreads=16, batch_size=16, use_fast_tokenizer=False)"
   ]
  },
  {
   "cell_type": "code",
   "execution_count": 8,
   "id": "f4ff95cd-06c9-4ce4-8e73-b1ad2a70cd6b",
   "metadata": {},
   "outputs": [
    {
     "name": "stdout",
     "output_type": "stream",
     "text": [
      "1600\n"
     ]
    }
   ],
   "source": [
    "print(len(results[\"bertscore\"][\"f1\"]))"
   ]
  },
  {
   "cell_type": "code",
   "execution_count": 9,
   "id": "9052a9af-0df2-4ce2-9cd8-5395fbb99361",
   "metadata": {},
   "outputs": [],
   "source": [
    "data[\"bertscore_f1\"] = results[\"bertscore\"][\"f1\"]"
   ]
  },
  {
   "cell_type": "code",
   "execution_count": 10,
   "id": "c36da4d3-7c3e-48c3-bee0-d294f7faea38",
   "metadata": {},
   "outputs": [
    {
     "data": {
      "text/html": [
       "<div>\n",
       "<style scoped>\n",
       "    .dataframe tbody tr th:only-of-type {\n",
       "        vertical-align: middle;\n",
       "    }\n",
       "\n",
       "    .dataframe tbody tr th {\n",
       "        vertical-align: top;\n",
       "    }\n",
       "\n",
       "    .dataframe thead th {\n",
       "        text-align: right;\n",
       "    }\n",
       "</style>\n",
       "<table border=\"1\" class=\"dataframe\">\n",
       "  <thead>\n",
       "    <tr style=\"text-align: right;\">\n",
       "      <th></th>\n",
       "      <th>text</th>\n",
       "      <th>summary</th>\n",
       "      <th>machine_summary</th>\n",
       "      <th>Актуальность</th>\n",
       "      <th>Последовательность</th>\n",
       "      <th>Беглость</th>\n",
       "      <th>Согласованность</th>\n",
       "      <th>bertscore_f1</th>\n",
       "    </tr>\n",
       "  </thead>\n",
       "  <tbody>\n",
       "    <tr>\n",
       "      <th>0</th>\n",
       "      <td>(CNN) В прошлом году расистские высказывания Д...</td>\n",
       "      <td>Стивиано должен вернуть 2,6 миллиона долларов ...</td>\n",
       "      <td>Дональд Стерлинг, игрок прошлогодней команды Н...</td>\n",
       "      <td>1.666667</td>\n",
       "      <td>1.000000</td>\n",
       "      <td>1.000000</td>\n",
       "      <td>1.333333</td>\n",
       "      <td>0.688328</td>\n",
       "    </tr>\n",
       "    <tr>\n",
       "      <th>1</th>\n",
       "      <td>(CNN) В прошлом году расистские высказывания Д...</td>\n",
       "      <td>Стивиано должен вернуть 2,6 миллиона долларов ...</td>\n",
       "      <td>Дональд Стерлинг обвинил Стивиано в том, что о...</td>\n",
       "      <td>1.666667</td>\n",
       "      <td>2.333333</td>\n",
       "      <td>4.666667</td>\n",
       "      <td>3.000000</td>\n",
       "      <td>0.666818</td>\n",
       "    </tr>\n",
       "    <tr>\n",
       "      <th>2</th>\n",
       "      <td>(CNN) В прошлом году расистские высказывания Д...</td>\n",
       "      <td>Стивиано должен вернуть 2,6 миллиона долларов ...</td>\n",
       "      <td>судья Лос-Анджелеса обязал В. Стивиано выплати...</td>\n",
       "      <td>2.333333</td>\n",
       "      <td>4.666667</td>\n",
       "      <td>4.333333</td>\n",
       "      <td>1.000000</td>\n",
       "      <td>0.650881</td>\n",
       "    </tr>\n",
       "    <tr>\n",
       "      <th>3</th>\n",
       "      <td>(CNN) В прошлом году расистские высказывания Д...</td>\n",
       "      <td>Стивиано должен вернуть 2,6 миллиона долларов ...</td>\n",
       "      <td>Жена Дональда Стерлинга подала в суд на Стивиа...</td>\n",
       "      <td>3.333333</td>\n",
       "      <td>5.000000</td>\n",
       "      <td>4.333333</td>\n",
       "      <td>2.666667</td>\n",
       "      <td>0.684118</td>\n",
       "    </tr>\n",
       "    <tr>\n",
       "      <th>4</th>\n",
       "      <td>(CNN) В прошлом году расистские высказывания Д...</td>\n",
       "      <td>Стивиано должен вернуть 2,6 миллиона долларов ...</td>\n",
       "      <td>расистские высказывания Дональда Стерлинга в п...</td>\n",
       "      <td>3.000000</td>\n",
       "      <td>5.000000</td>\n",
       "      <td>5.000000</td>\n",
       "      <td>4.666667</td>\n",
       "      <td>0.676089</td>\n",
       "    </tr>\n",
       "  </tbody>\n",
       "</table>\n",
       "</div>"
      ],
      "text/plain": [
       "                                                text  \\\n",
       "0  (CNN) В прошлом году расистские высказывания Д...   \n",
       "1  (CNN) В прошлом году расистские высказывания Д...   \n",
       "2  (CNN) В прошлом году расистские высказывания Д...   \n",
       "3  (CNN) В прошлом году расистские высказывания Д...   \n",
       "4  (CNN) В прошлом году расистские высказывания Д...   \n",
       "\n",
       "                                             summary  \\\n",
       "0  Стивиано должен вернуть 2,6 миллиона долларов ...   \n",
       "1  Стивиано должен вернуть 2,6 миллиона долларов ...   \n",
       "2  Стивиано должен вернуть 2,6 миллиона долларов ...   \n",
       "3  Стивиано должен вернуть 2,6 миллиона долларов ...   \n",
       "4  Стивиано должен вернуть 2,6 миллиона долларов ...   \n",
       "\n",
       "                                     machine_summary  Актуальность  \\\n",
       "0  Дональд Стерлинг, игрок прошлогодней команды Н...      1.666667   \n",
       "1  Дональд Стерлинг обвинил Стивиано в том, что о...      1.666667   \n",
       "2  судья Лос-Анджелеса обязал В. Стивиано выплати...      2.333333   \n",
       "3  Жена Дональда Стерлинга подала в суд на Стивиа...      3.333333   \n",
       "4  расистские высказывания Дональда Стерлинга в п...      3.000000   \n",
       "\n",
       "   Последовательность  Беглость  Согласованность  bertscore_f1  \n",
       "0            1.000000  1.000000         1.333333      0.688328  \n",
       "1            2.333333  4.666667         3.000000      0.666818  \n",
       "2            4.666667  4.333333         1.000000      0.650881  \n",
       "3            5.000000  4.333333         2.666667      0.684118  \n",
       "4            5.000000  5.000000         4.666667      0.676089  "
      ]
     },
     "execution_count": 10,
     "metadata": {},
     "output_type": "execute_result"
    }
   ],
   "source": [
    "data.head()"
   ]
  },
  {
   "cell_type": "markdown",
   "id": "f21364ba-e56a-4940-835e-a57b569b814a",
   "metadata": {},
   "source": [
    "### BLEU"
   ]
  },
  {
   "cell_type": "code",
   "execution_count": 11,
   "id": "a4f81297-bdf9-4603-8557-f3d914a4cd26",
   "metadata": {},
   "outputs": [
    {
     "name": "stderr",
     "output_type": "stream",
     "text": [
      "1600it [00:02, 566.87it/s]\n"
     ]
    }
   ],
   "source": [
    "import razdel\n",
    "from evaluate import load\n",
    "from tqdm import tqdm\n",
    "# import nltk\n",
    "\n",
    "bleu = load('bleu')\n",
    "\n",
    "def a(x):\n",
    "    tokens = list(razdel.tokenize(x))\n",
    "    return [_.text for _ in tokens]\n",
    "\n",
    "references = list(data[\"summary\"])\n",
    "predictions = list(data[\"machine_summary\"])\n",
    "results[\"bleu\"] = []\n",
    "for ref, pred in tqdm(zip(references, predictions)):\n",
    "    bl = bleu.compute(predictions=[pred], references=[ref], tokenizer=a, smooth=True)\n",
    "    # bl = nltk.translate.bleu(pred, ref)\n",
    "    results[\"bleu\"].append(bl[\"bleu\"])\n"
   ]
  },
  {
   "cell_type": "code",
   "execution_count": 12,
   "id": "8f1d82e0-32c4-4d1d-9c3e-1ad54fd395cb",
   "metadata": {},
   "outputs": [
    {
     "name": "stdout",
     "output_type": "stream",
     "text": [
      "1600\n"
     ]
    }
   ],
   "source": [
    "print(len(results[\"bleu\"]))"
   ]
  },
  {
   "cell_type": "code",
   "execution_count": 13,
   "id": "d93902a6-0df1-46da-a0c0-b7c4c4050b79",
   "metadata": {},
   "outputs": [],
   "source": [
    "data[\"bleu\"] = results[\"bleu\"]"
   ]
  },
  {
   "cell_type": "code",
   "execution_count": 14,
   "id": "30048afa-a82b-4295-a03f-cfa0e889e90d",
   "metadata": {},
   "outputs": [
    {
     "data": {
      "text/html": [
       "<div>\n",
       "<style scoped>\n",
       "    .dataframe tbody tr th:only-of-type {\n",
       "        vertical-align: middle;\n",
       "    }\n",
       "\n",
       "    .dataframe tbody tr th {\n",
       "        vertical-align: top;\n",
       "    }\n",
       "\n",
       "    .dataframe thead th {\n",
       "        text-align: right;\n",
       "    }\n",
       "</style>\n",
       "<table border=\"1\" class=\"dataframe\">\n",
       "  <thead>\n",
       "    <tr style=\"text-align: right;\">\n",
       "      <th></th>\n",
       "      <th>text</th>\n",
       "      <th>summary</th>\n",
       "      <th>machine_summary</th>\n",
       "      <th>Актуальность</th>\n",
       "      <th>Последовательность</th>\n",
       "      <th>Беглость</th>\n",
       "      <th>Согласованность</th>\n",
       "      <th>bertscore_f1</th>\n",
       "      <th>bleu</th>\n",
       "    </tr>\n",
       "  </thead>\n",
       "  <tbody>\n",
       "    <tr>\n",
       "      <th>0</th>\n",
       "      <td>(CNN) В прошлом году расистские высказывания Д...</td>\n",
       "      <td>Стивиано должен вернуть 2,6 миллиона долларов ...</td>\n",
       "      <td>Дональд Стерлинг, игрок прошлогодней команды Н...</td>\n",
       "      <td>1.666667</td>\n",
       "      <td>1.000000</td>\n",
       "      <td>1.000000</td>\n",
       "      <td>1.333333</td>\n",
       "      <td>0.688328</td>\n",
       "      <td>0.101056</td>\n",
       "    </tr>\n",
       "    <tr>\n",
       "      <th>1</th>\n",
       "      <td>(CNN) В прошлом году расистские высказывания Д...</td>\n",
       "      <td>Стивиано должен вернуть 2,6 миллиона долларов ...</td>\n",
       "      <td>Дональд Стерлинг обвинил Стивиано в том, что о...</td>\n",
       "      <td>1.666667</td>\n",
       "      <td>2.333333</td>\n",
       "      <td>4.666667</td>\n",
       "      <td>3.000000</td>\n",
       "      <td>0.666818</td>\n",
       "      <td>0.055018</td>\n",
       "    </tr>\n",
       "    <tr>\n",
       "      <th>2</th>\n",
       "      <td>(CNN) В прошлом году расистские высказывания Д...</td>\n",
       "      <td>Стивиано должен вернуть 2,6 миллиона долларов ...</td>\n",
       "      <td>судья Лос-Анджелеса обязал В. Стивиано выплати...</td>\n",
       "      <td>2.333333</td>\n",
       "      <td>4.666667</td>\n",
       "      <td>4.333333</td>\n",
       "      <td>1.000000</td>\n",
       "      <td>0.650881</td>\n",
       "      <td>0.080116</td>\n",
       "    </tr>\n",
       "    <tr>\n",
       "      <th>3</th>\n",
       "      <td>(CNN) В прошлом году расистские высказывания Д...</td>\n",
       "      <td>Стивиано должен вернуть 2,6 миллиона долларов ...</td>\n",
       "      <td>Жена Дональда Стерлинга подала в суд на Стивиа...</td>\n",
       "      <td>3.333333</td>\n",
       "      <td>5.000000</td>\n",
       "      <td>4.333333</td>\n",
       "      <td>2.666667</td>\n",
       "      <td>0.684118</td>\n",
       "      <td>0.060453</td>\n",
       "    </tr>\n",
       "    <tr>\n",
       "      <th>4</th>\n",
       "      <td>(CNN) В прошлом году расистские высказывания Д...</td>\n",
       "      <td>Стивиано должен вернуть 2,6 миллиона долларов ...</td>\n",
       "      <td>расистские высказывания Дональда Стерлинга в п...</td>\n",
       "      <td>3.000000</td>\n",
       "      <td>5.000000</td>\n",
       "      <td>5.000000</td>\n",
       "      <td>4.666667</td>\n",
       "      <td>0.676089</td>\n",
       "      <td>0.109052</td>\n",
       "    </tr>\n",
       "  </tbody>\n",
       "</table>\n",
       "</div>"
      ],
      "text/plain": [
       "                                                text  \\\n",
       "0  (CNN) В прошлом году расистские высказывания Д...   \n",
       "1  (CNN) В прошлом году расистские высказывания Д...   \n",
       "2  (CNN) В прошлом году расистские высказывания Д...   \n",
       "3  (CNN) В прошлом году расистские высказывания Д...   \n",
       "4  (CNN) В прошлом году расистские высказывания Д...   \n",
       "\n",
       "                                             summary  \\\n",
       "0  Стивиано должен вернуть 2,6 миллиона долларов ...   \n",
       "1  Стивиано должен вернуть 2,6 миллиона долларов ...   \n",
       "2  Стивиано должен вернуть 2,6 миллиона долларов ...   \n",
       "3  Стивиано должен вернуть 2,6 миллиона долларов ...   \n",
       "4  Стивиано должен вернуть 2,6 миллиона долларов ...   \n",
       "\n",
       "                                     machine_summary  Актуальность  \\\n",
       "0  Дональд Стерлинг, игрок прошлогодней команды Н...      1.666667   \n",
       "1  Дональд Стерлинг обвинил Стивиано в том, что о...      1.666667   \n",
       "2  судья Лос-Анджелеса обязал В. Стивиано выплати...      2.333333   \n",
       "3  Жена Дональда Стерлинга подала в суд на Стивиа...      3.333333   \n",
       "4  расистские высказывания Дональда Стерлинга в п...      3.000000   \n",
       "\n",
       "   Последовательность  Беглость  Согласованность  bertscore_f1      bleu  \n",
       "0            1.000000  1.000000         1.333333      0.688328  0.101056  \n",
       "1            2.333333  4.666667         3.000000      0.666818  0.055018  \n",
       "2            4.666667  4.333333         1.000000      0.650881  0.080116  \n",
       "3            5.000000  4.333333         2.666667      0.684118  0.060453  \n",
       "4            5.000000  5.000000         4.666667      0.676089  0.109052  "
      ]
     },
     "execution_count": 14,
     "metadata": {},
     "output_type": "execute_result"
    }
   ],
   "source": [
    "data.head()"
   ]
  },
  {
   "cell_type": "markdown",
   "id": "7a4f0fac-0250-4ab2-b498-87a3fd957823",
   "metadata": {},
   "source": [
    "### ROUGE"
   ]
  },
  {
   "cell_type": "code",
   "execution_count": 15,
   "id": "6f360ed7-d4b9-49f8-919b-ffc95e779976",
   "metadata": {},
   "outputs": [],
   "source": [
    "import razdel\n",
    "from evaluate import load\n",
    "\n",
    "rouge = load('rouge')\n",
    "references = list(data[\"summary\"])\n",
    "predictions = list(data[\"machine_summary\"])\n",
    "\n",
    "def a(x):\n",
    "    tokens = list(razdel.tokenize(x))\n",
    "    return [_.text for _ in tokens]\n",
    "\n",
    "results[\"rouge\"] = rouge.compute(predictions=predictions, references=references, use_aggregator=False, tokenizer=a)"
   ]
  },
  {
   "cell_type": "code",
   "execution_count": 17,
   "id": "bb504250-4cdd-40a0-86b4-4fee73832c81",
   "metadata": {},
   "outputs": [
    {
     "name": "stdout",
     "output_type": "stream",
     "text": [
      "dict_keys(['rouge1', 'rouge2', 'rougeL', 'rougeLsum'])\n"
     ]
    }
   ],
   "source": [
    "print(results[\"rouge\"].keys())"
   ]
  },
  {
   "cell_type": "code",
   "execution_count": 18,
   "id": "095a8961-fa04-46be-9360-ee58d13de633",
   "metadata": {},
   "outputs": [
    {
     "name": "stdout",
     "output_type": "stream",
     "text": [
      "1600\n"
     ]
    }
   ],
   "source": [
    "print(len(results[\"rouge\"][\"rouge1\"]))"
   ]
  },
  {
   "cell_type": "code",
   "execution_count": 19,
   "id": "313299f8-47a2-4a71-9336-cc6f2d359143",
   "metadata": {},
   "outputs": [],
   "source": [
    "data[\"rouge1\"] = results[\"rouge\"][\"rouge1\"]"
   ]
  },
  {
   "cell_type": "code",
   "execution_count": 20,
   "id": "09a5cdce-873a-4c39-9047-d2c3a5b3dec4",
   "metadata": {},
   "outputs": [
    {
     "data": {
      "text/html": [
       "<div>\n",
       "<style scoped>\n",
       "    .dataframe tbody tr th:only-of-type {\n",
       "        vertical-align: middle;\n",
       "    }\n",
       "\n",
       "    .dataframe tbody tr th {\n",
       "        vertical-align: top;\n",
       "    }\n",
       "\n",
       "    .dataframe thead th {\n",
       "        text-align: right;\n",
       "    }\n",
       "</style>\n",
       "<table border=\"1\" class=\"dataframe\">\n",
       "  <thead>\n",
       "    <tr style=\"text-align: right;\">\n",
       "      <th></th>\n",
       "      <th>text</th>\n",
       "      <th>summary</th>\n",
       "      <th>machine_summary</th>\n",
       "      <th>Актуальность</th>\n",
       "      <th>Последовательность</th>\n",
       "      <th>Беглость</th>\n",
       "      <th>Согласованность</th>\n",
       "      <th>bertscore_f1</th>\n",
       "      <th>bleu</th>\n",
       "      <th>rouge1</th>\n",
       "    </tr>\n",
       "  </thead>\n",
       "  <tbody>\n",
       "    <tr>\n",
       "      <th>0</th>\n",
       "      <td>(CNN) В прошлом году расистские высказывания Д...</td>\n",
       "      <td>Стивиано должен вернуть 2,6 миллиона долларов ...</td>\n",
       "      <td>Дональд Стерлинг, игрок прошлогодней команды Н...</td>\n",
       "      <td>1.666667</td>\n",
       "      <td>1.000000</td>\n",
       "      <td>1.000000</td>\n",
       "      <td>1.333333</td>\n",
       "      <td>0.688328</td>\n",
       "      <td>0.101056</td>\n",
       "      <td>0.300885</td>\n",
       "    </tr>\n",
       "    <tr>\n",
       "      <th>1</th>\n",
       "      <td>(CNN) В прошлом году расистские высказывания Д...</td>\n",
       "      <td>Стивиано должен вернуть 2,6 миллиона долларов ...</td>\n",
       "      <td>Дональд Стерлинг обвинил Стивиано в том, что о...</td>\n",
       "      <td>1.666667</td>\n",
       "      <td>2.333333</td>\n",
       "      <td>4.666667</td>\n",
       "      <td>3.000000</td>\n",
       "      <td>0.666818</td>\n",
       "      <td>0.055018</td>\n",
       "      <td>0.297872</td>\n",
       "    </tr>\n",
       "    <tr>\n",
       "      <th>2</th>\n",
       "      <td>(CNN) В прошлом году расистские высказывания Д...</td>\n",
       "      <td>Стивиано должен вернуть 2,6 миллиона долларов ...</td>\n",
       "      <td>судья Лос-Анджелеса обязал В. Стивиано выплати...</td>\n",
       "      <td>2.333333</td>\n",
       "      <td>4.666667</td>\n",
       "      <td>4.333333</td>\n",
       "      <td>1.000000</td>\n",
       "      <td>0.650881</td>\n",
       "      <td>0.080116</td>\n",
       "      <td>0.285714</td>\n",
       "    </tr>\n",
       "    <tr>\n",
       "      <th>3</th>\n",
       "      <td>(CNN) В прошлом году расистские высказывания Д...</td>\n",
       "      <td>Стивиано должен вернуть 2,6 миллиона долларов ...</td>\n",
       "      <td>Жена Дональда Стерлинга подала в суд на Стивиа...</td>\n",
       "      <td>3.333333</td>\n",
       "      <td>5.000000</td>\n",
       "      <td>4.333333</td>\n",
       "      <td>2.666667</td>\n",
       "      <td>0.684118</td>\n",
       "      <td>0.060453</td>\n",
       "      <td>0.329897</td>\n",
       "    </tr>\n",
       "    <tr>\n",
       "      <th>4</th>\n",
       "      <td>(CNN) В прошлом году расистские высказывания Д...</td>\n",
       "      <td>Стивиано должен вернуть 2,6 миллиона долларов ...</td>\n",
       "      <td>расистские высказывания Дональда Стерлинга в п...</td>\n",
       "      <td>3.000000</td>\n",
       "      <td>5.000000</td>\n",
       "      <td>5.000000</td>\n",
       "      <td>4.666667</td>\n",
       "      <td>0.676089</td>\n",
       "      <td>0.109052</td>\n",
       "      <td>0.297297</td>\n",
       "    </tr>\n",
       "  </tbody>\n",
       "</table>\n",
       "</div>"
      ],
      "text/plain": [
       "                                                text  \\\n",
       "0  (CNN) В прошлом году расистские высказывания Д...   \n",
       "1  (CNN) В прошлом году расистские высказывания Д...   \n",
       "2  (CNN) В прошлом году расистские высказывания Д...   \n",
       "3  (CNN) В прошлом году расистские высказывания Д...   \n",
       "4  (CNN) В прошлом году расистские высказывания Д...   \n",
       "\n",
       "                                             summary  \\\n",
       "0  Стивиано должен вернуть 2,6 миллиона долларов ...   \n",
       "1  Стивиано должен вернуть 2,6 миллиона долларов ...   \n",
       "2  Стивиано должен вернуть 2,6 миллиона долларов ...   \n",
       "3  Стивиано должен вернуть 2,6 миллиона долларов ...   \n",
       "4  Стивиано должен вернуть 2,6 миллиона долларов ...   \n",
       "\n",
       "                                     machine_summary  Актуальность  \\\n",
       "0  Дональд Стерлинг, игрок прошлогодней команды Н...      1.666667   \n",
       "1  Дональд Стерлинг обвинил Стивиано в том, что о...      1.666667   \n",
       "2  судья Лос-Анджелеса обязал В. Стивиано выплати...      2.333333   \n",
       "3  Жена Дональда Стерлинга подала в суд на Стивиа...      3.333333   \n",
       "4  расистские высказывания Дональда Стерлинга в п...      3.000000   \n",
       "\n",
       "   Последовательность  Беглость  Согласованность  bertscore_f1      bleu  \\\n",
       "0            1.000000  1.000000         1.333333      0.688328  0.101056   \n",
       "1            2.333333  4.666667         3.000000      0.666818  0.055018   \n",
       "2            4.666667  4.333333         1.000000      0.650881  0.080116   \n",
       "3            5.000000  4.333333         2.666667      0.684118  0.060453   \n",
       "4            5.000000  5.000000         4.666667      0.676089  0.109052   \n",
       "\n",
       "     rouge1  \n",
       "0  0.300885  \n",
       "1  0.297872  \n",
       "2  0.285714  \n",
       "3  0.329897  \n",
       "4  0.297297  "
      ]
     },
     "execution_count": 20,
     "metadata": {},
     "output_type": "execute_result"
    }
   ],
   "source": [
    "data.head()"
   ]
  },
  {
   "cell_type": "markdown",
   "id": "54dd2639-d33e-4a70-885c-ff8cfe950a09",
   "metadata": {},
   "source": [
    "### METEOR"
   ]
  },
  {
   "cell_type": "code",
   "execution_count": 24,
   "id": "41733a7a-cac1-4c29-aaea-eebac48394a2",
   "metadata": {},
   "outputs": [
    {
     "name": "stderr",
     "output_type": "stream",
     "text": [
      "[nltk_data] Downloading package wordnet to /home/skatori/nltk_data...\n",
      "[nltk_data]   Package wordnet is already up-to-date!\n",
      "[nltk_data] Downloading package punkt to /home/skatori/nltk_data...\n",
      "[nltk_data]   Package punkt is already up-to-date!\n",
      "[nltk_data] Downloading package omw-1.4 to /home/skatori/nltk_data...\n",
      "[nltk_data]   Package omw-1.4 is already up-to-date!\n"
     ]
    }
   ],
   "source": [
    "from tqdm import tqdm\n",
    "from threading import Thread\n",
    "from evaluate import load\n",
    "import os, contextlib\n",
    "\n",
    "meteor = load('meteor')\n",
    "\n",
    "references = list(data[\"summary\"])\n",
    "predictions = list(data[\"machine_summary\"])\n",
    "\n",
    "results[\"meteor\"] = []\n",
    "for pred, ref in zip(predictions, references):\n",
    "    results[\"meteor\"].append(meteor.compute(predictions=[pred], references=[ref])[\"meteor\"])\n",
    "#results[\"meteor\"].append(meteor.compute(predictions=[predictions], references=[references]))\n",
    "\n"
   ]
  },
  {
   "cell_type": "code",
   "execution_count": 26,
   "id": "71104cd8-5892-4648-8d2a-1ffbfe5f6872",
   "metadata": {},
   "outputs": [
    {
     "name": "stdout",
     "output_type": "stream",
     "text": [
      "1600\n"
     ]
    }
   ],
   "source": [
    "print(len(results[\"meteor\"]))"
   ]
  },
  {
   "cell_type": "code",
   "execution_count": 27,
   "id": "3e619a68-6229-4e4c-a11c-d104195a09a3",
   "metadata": {},
   "outputs": [],
   "source": [
    "data[\"meteor\"] = results[\"meteor\"]"
   ]
  },
  {
   "cell_type": "code",
   "execution_count": 28,
   "id": "48bbf34b-443d-4347-8475-f6c43d21f3cc",
   "metadata": {},
   "outputs": [
    {
     "data": {
      "text/html": [
       "<div>\n",
       "<style scoped>\n",
       "    .dataframe tbody tr th:only-of-type {\n",
       "        vertical-align: middle;\n",
       "    }\n",
       "\n",
       "    .dataframe tbody tr th {\n",
       "        vertical-align: top;\n",
       "    }\n",
       "\n",
       "    .dataframe thead th {\n",
       "        text-align: right;\n",
       "    }\n",
       "</style>\n",
       "<table border=\"1\" class=\"dataframe\">\n",
       "  <thead>\n",
       "    <tr style=\"text-align: right;\">\n",
       "      <th></th>\n",
       "      <th>text</th>\n",
       "      <th>summary</th>\n",
       "      <th>machine_summary</th>\n",
       "      <th>Актуальность</th>\n",
       "      <th>Последовательность</th>\n",
       "      <th>Беглость</th>\n",
       "      <th>Согласованность</th>\n",
       "      <th>bertscore_f1</th>\n",
       "      <th>bleu</th>\n",
       "      <th>rouge1</th>\n",
       "      <th>meteor</th>\n",
       "    </tr>\n",
       "  </thead>\n",
       "  <tbody>\n",
       "    <tr>\n",
       "      <th>0</th>\n",
       "      <td>(CNN) В прошлом году расистские высказывания Д...</td>\n",
       "      <td>Стивиано должен вернуть 2,6 миллиона долларов ...</td>\n",
       "      <td>Дональд Стерлинг, игрок прошлогодней команды Н...</td>\n",
       "      <td>1.666667</td>\n",
       "      <td>1.000000</td>\n",
       "      <td>1.000000</td>\n",
       "      <td>1.333333</td>\n",
       "      <td>0.688328</td>\n",
       "      <td>0.101056</td>\n",
       "      <td>0.300885</td>\n",
       "      <td>0.270348</td>\n",
       "    </tr>\n",
       "    <tr>\n",
       "      <th>1</th>\n",
       "      <td>(CNN) В прошлом году расистские высказывания Д...</td>\n",
       "      <td>Стивиано должен вернуть 2,6 миллиона долларов ...</td>\n",
       "      <td>Дональд Стерлинг обвинил Стивиано в том, что о...</td>\n",
       "      <td>1.666667</td>\n",
       "      <td>2.333333</td>\n",
       "      <td>4.666667</td>\n",
       "      <td>3.000000</td>\n",
       "      <td>0.666818</td>\n",
       "      <td>0.055018</td>\n",
       "      <td>0.297872</td>\n",
       "      <td>0.352888</td>\n",
       "    </tr>\n",
       "    <tr>\n",
       "      <th>2</th>\n",
       "      <td>(CNN) В прошлом году расистские высказывания Д...</td>\n",
       "      <td>Стивиано должен вернуть 2,6 миллиона долларов ...</td>\n",
       "      <td>судья Лос-Анджелеса обязал В. Стивиано выплати...</td>\n",
       "      <td>2.333333</td>\n",
       "      <td>4.666667</td>\n",
       "      <td>4.333333</td>\n",
       "      <td>1.000000</td>\n",
       "      <td>0.650881</td>\n",
       "      <td>0.080116</td>\n",
       "      <td>0.285714</td>\n",
       "      <td>0.214511</td>\n",
       "    </tr>\n",
       "    <tr>\n",
       "      <th>3</th>\n",
       "      <td>(CNN) В прошлом году расистские высказывания Д...</td>\n",
       "      <td>Стивиано должен вернуть 2,6 миллиона долларов ...</td>\n",
       "      <td>Жена Дональда Стерлинга подала в суд на Стивиа...</td>\n",
       "      <td>3.333333</td>\n",
       "      <td>5.000000</td>\n",
       "      <td>4.333333</td>\n",
       "      <td>2.666667</td>\n",
       "      <td>0.684118</td>\n",
       "      <td>0.060453</td>\n",
       "      <td>0.329897</td>\n",
       "      <td>0.370017</td>\n",
       "    </tr>\n",
       "    <tr>\n",
       "      <th>4</th>\n",
       "      <td>(CNN) В прошлом году расистские высказывания Д...</td>\n",
       "      <td>Стивиано должен вернуть 2,6 миллиона долларов ...</td>\n",
       "      <td>расистские высказывания Дональда Стерлинга в п...</td>\n",
       "      <td>3.000000</td>\n",
       "      <td>5.000000</td>\n",
       "      <td>5.000000</td>\n",
       "      <td>4.666667</td>\n",
       "      <td>0.676089</td>\n",
       "      <td>0.109052</td>\n",
       "      <td>0.297297</td>\n",
       "      <td>0.226064</td>\n",
       "    </tr>\n",
       "  </tbody>\n",
       "</table>\n",
       "</div>"
      ],
      "text/plain": [
       "                                                text  \\\n",
       "0  (CNN) В прошлом году расистские высказывания Д...   \n",
       "1  (CNN) В прошлом году расистские высказывания Д...   \n",
       "2  (CNN) В прошлом году расистские высказывания Д...   \n",
       "3  (CNN) В прошлом году расистские высказывания Д...   \n",
       "4  (CNN) В прошлом году расистские высказывания Д...   \n",
       "\n",
       "                                             summary  \\\n",
       "0  Стивиано должен вернуть 2,6 миллиона долларов ...   \n",
       "1  Стивиано должен вернуть 2,6 миллиона долларов ...   \n",
       "2  Стивиано должен вернуть 2,6 миллиона долларов ...   \n",
       "3  Стивиано должен вернуть 2,6 миллиона долларов ...   \n",
       "4  Стивиано должен вернуть 2,6 миллиона долларов ...   \n",
       "\n",
       "                                     machine_summary  Актуальность  \\\n",
       "0  Дональд Стерлинг, игрок прошлогодней команды Н...      1.666667   \n",
       "1  Дональд Стерлинг обвинил Стивиано в том, что о...      1.666667   \n",
       "2  судья Лос-Анджелеса обязал В. Стивиано выплати...      2.333333   \n",
       "3  Жена Дональда Стерлинга подала в суд на Стивиа...      3.333333   \n",
       "4  расистские высказывания Дональда Стерлинга в п...      3.000000   \n",
       "\n",
       "   Последовательность  Беглость  Согласованность  bertscore_f1      bleu  \\\n",
       "0            1.000000  1.000000         1.333333      0.688328  0.101056   \n",
       "1            2.333333  4.666667         3.000000      0.666818  0.055018   \n",
       "2            4.666667  4.333333         1.000000      0.650881  0.080116   \n",
       "3            5.000000  4.333333         2.666667      0.684118  0.060453   \n",
       "4            5.000000  5.000000         4.666667      0.676089  0.109052   \n",
       "\n",
       "     rouge1    meteor  \n",
       "0  0.300885  0.270348  \n",
       "1  0.297872  0.352888  \n",
       "2  0.285714  0.214511  \n",
       "3  0.329897  0.370017  \n",
       "4  0.297297  0.226064  "
      ]
     },
     "execution_count": 28,
     "metadata": {},
     "output_type": "execute_result"
    }
   ],
   "source": [
    "data.head()"
   ]
  },
  {
   "cell_type": "markdown",
   "id": "f2f820ef-13a3-47ed-9ce9-002994b0033d",
   "metadata": {},
   "source": [
    "## Export"
   ]
  },
  {
   "cell_type": "code",
   "execution_count": 29,
   "id": "26053b26-a5f1-4d5a-9a44-6885adc24db8",
   "metadata": {},
   "outputs": [],
   "source": [
    "data.to_csv(\"data_and_metrics.csv\", index=False)"
   ]
  },
  {
   "cell_type": "code",
   "execution_count": null,
   "id": "0a6793c7-9f93-4af9-8c92-637bac3b80dc",
   "metadata": {},
   "outputs": [],
   "source": []
  }
 ],
 "metadata": {
  "kernelspec": {
   "display_name": "Python 3 (ipykernel)",
   "language": "python",
   "name": "python3"
  },
  "language_info": {
   "codemirror_mode": {
    "name": "ipython",
    "version": 3
   },
   "file_extension": ".py",
   "mimetype": "text/x-python",
   "name": "python",
   "nbconvert_exporter": "python",
   "pygments_lexer": "ipython3",
   "version": "3.12.3"
  }
 },
 "nbformat": 4,
 "nbformat_minor": 5
}
