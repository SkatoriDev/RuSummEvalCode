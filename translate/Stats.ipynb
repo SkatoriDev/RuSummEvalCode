{
 "cells": [
  {
   "cell_type": "code",
   "execution_count": null,
   "id": "9a5bb301-87e6-4c7f-be71-932b7f8d3f19",
   "metadata": {},
   "outputs": [],
   "source": []
  },
  {
   "cell_type": "code",
   "execution_count": 3,
   "id": "feeb131c-ce14-461d-b4cd-e1b88d06818d",
   "metadata": {},
   "outputs": [
    {
     "data": {
      "text/html": [
       "<div>\n",
       "<style scoped>\n",
       "    .dataframe tbody tr th:only-of-type {\n",
       "        vertical-align: middle;\n",
       "    }\n",
       "\n",
       "    .dataframe tbody tr th {\n",
       "        vertical-align: top;\n",
       "    }\n",
       "\n",
       "    .dataframe thead th {\n",
       "        text-align: right;\n",
       "    }\n",
       "</style>\n",
       "<table border=\"1\" class=\"dataframe\">\n",
       "  <thead>\n",
       "    <tr style=\"text-align: right;\">\n",
       "      <th></th>\n",
       "      <th>Unnamed: 0.1</th>\n",
       "      <th>Ind</th>\n",
       "      <th>title</th>\n",
       "      <th>text</th>\n",
       "      <th>summary</th>\n",
       "      <th>mbart_predictions</th>\n",
       "      <th>mt5_predictions</th>\n",
       "      <th>summarunner_predictions</th>\n",
       "      <th>llama_7b_predictions</th>\n",
       "      <th>starling_predictions</th>\n",
       "      <th>...</th>\n",
       "      <th>yagpt3_predictions_rouge2</th>\n",
       "      <th>yagpt3_predictions_rougeL</th>\n",
       "      <th>yagpt3_predictions_rougeLsum</th>\n",
       "      <th>mbart_predictions_meteor</th>\n",
       "      <th>mt5_predictions_meteor</th>\n",
       "      <th>summarunner_predictions_meteor</th>\n",
       "      <th>llama_7b_predictions_meteor</th>\n",
       "      <th>starling_predictions_meteor</th>\n",
       "      <th>yagpt_predictions_meteor</th>\n",
       "      <th>yagpt3_predictions_meteor</th>\n",
       "    </tr>\n",
       "  </thead>\n",
       "  <tbody>\n",
       "    <tr>\n",
       "      <th>0</th>\n",
       "      <td>53</td>\n",
       "      <td>53</td>\n",
       "      <td>Названа опасность постоянно включенного Blueto...</td>\n",
       "      <td>Постоянно включенный Bluetooth на смартфоне гр...</td>\n",
       "      <td>Активированный в смартфоне Bluetooth может пре...</td>\n",
       "      <td>Постоянно включенный Bluetooth на смартфоне гр...</td>\n",
       "      <td>Эксперты предупреждают о том, что отключать Bl...</td>\n",
       "      <td>постоянно включенный bluetooth на смартфоне гр...</td>\n",
       "      <td>Bluetooth постоянно включен, это опасно, так к...</td>\n",
       "      <td>Постоянно включенный Bluetooth может создавать...</td>\n",
       "      <td>...</td>\n",
       "      <td>0.011561</td>\n",
       "      <td>0.102857</td>\n",
       "      <td>0.114286</td>\n",
       "      <td>0.126459</td>\n",
       "      <td>0.053648</td>\n",
       "      <td>0.168245</td>\n",
       "      <td>0.207257</td>\n",
       "      <td>0.127202</td>\n",
       "      <td>0.168304</td>\n",
       "      <td>0.139373</td>\n",
       "    </tr>\n",
       "    <tr>\n",
       "      <th>1</th>\n",
       "      <td>244</td>\n",
       "      <td>244</td>\n",
       "      <td>Колесникова проходит подозреваемой по делу о з...</td>\n",
       "      <td>Член президиума координационного совета оппози...</td>\n",
       "      <td>Члена президиума оппозиционного Координационно...</td>\n",
       "      <td>Член президиума координационного совета оппози...</td>\n",
       "      <td>Член президиума координационного совета оппози...</td>\n",
       "      <td>член президиума координационного совета оппози...</td>\n",
       "      <td>Мария Колесникова, член президиума координацио...</td>\n",
       "      <td>Мария Колесникова, член президиума координацио...</td>\n",
       "      <td>...</td>\n",
       "      <td>0.031250</td>\n",
       "      <td>0.164948</td>\n",
       "      <td>0.175258</td>\n",
       "      <td>0.248829</td>\n",
       "      <td>0.101734</td>\n",
       "      <td>0.263807</td>\n",
       "      <td>0.231588</td>\n",
       "      <td>0.310913</td>\n",
       "      <td>0.327753</td>\n",
       "      <td>0.224195</td>\n",
       "    </tr>\n",
       "    <tr>\n",
       "      <th>2</th>\n",
       "      <td>260</td>\n",
       "      <td>260</td>\n",
       "      <td>Deutsche Bank: в мире наступает эпоха беспорядка</td>\n",
       "      <td>Аналитики Deutsche Bank обнародовали исследова...</td>\n",
       "      <td>В истории человечества наступает эпоха беспоря...</td>\n",
       "      <td>В 2020 году в мире наступит новая эпоха беспор...</td>\n",
       "      <td>Пандемия коронавируса привела к появлениям нов...</td>\n",
       "      <td>аналитики deutsche bank обнародовали исследова...</td>\n",
       "      <td>Аналитики Deutsche Bank предсказали наступлени...</td>\n",
       "      <td>Аналитики Deutsche Bank предполагают, что 2020...</td>\n",
       "      <td>...</td>\n",
       "      <td>0.078431</td>\n",
       "      <td>0.193548</td>\n",
       "      <td>0.245161</td>\n",
       "      <td>0.309631</td>\n",
       "      <td>0.086664</td>\n",
       "      <td>0.314012</td>\n",
       "      <td>0.262029</td>\n",
       "      <td>0.238650</td>\n",
       "      <td>0.295642</td>\n",
       "      <td>0.311487</td>\n",
       "    </tr>\n",
       "    <tr>\n",
       "      <th>3</th>\n",
       "      <td>355</td>\n",
       "      <td>355</td>\n",
       "      <td>«Ъ»: Минтранс подготовил проект поправок к ПДД</td>\n",
       "      <td>ГИБДД совместно с Минтрансом разработала масшт...</td>\n",
       "      <td>Масштабный проект изменений в ПДД подготовили ...</td>\n",
       "      <td>ГИБДД совместно с Минтрансом разработала масшт...</td>\n",
       "      <td>В Госдуму вступили в силу поправки в правила д...</td>\n",
       "      <td>гибдд совместно с минтрансом разработала масшт...</td>\n",
       "      <td>ГИБДД и Минтранс разработали проект изменений ...</td>\n",
       "      <td>ГИБДД и Минтранс разработали проект изменений ...</td>\n",
       "      <td>...</td>\n",
       "      <td>0.095238</td>\n",
       "      <td>0.224299</td>\n",
       "      <td>0.205607</td>\n",
       "      <td>0.306315</td>\n",
       "      <td>0.082645</td>\n",
       "      <td>0.233184</td>\n",
       "      <td>0.256739</td>\n",
       "      <td>0.270406</td>\n",
       "      <td>0.338463</td>\n",
       "      <td>0.296722</td>\n",
       "    </tr>\n",
       "    <tr>\n",
       "      <th>4</th>\n",
       "      <td>653</td>\n",
       "      <td>653</td>\n",
       "      <td>Tesla выпустит бюджетный беспилотник в 2023 году</td>\n",
       "      <td>Вечером 22 сентября на конференции Battery Day...</td>\n",
       "      <td>Миллиардер Илон Маск пообещал представить бюдж...</td>\n",
       "      <td>На конференции Battery Day глава Tesla Илон Ма...</td>\n",
       "      <td>Илон Маск рассчитывает вывести на рынок бюджет...</td>\n",
       "      <td>вечером 22 сентября на конференции battery day...</td>\n",
       "      <td>Илон Маск представил планы Tesla по выходу на ...</td>\n",
       "      <td>В ходе конференции Tesla Battery Day, Илон Мас...</td>\n",
       "      <td>...</td>\n",
       "      <td>0.108434</td>\n",
       "      <td>0.190476</td>\n",
       "      <td>0.238095</td>\n",
       "      <td>0.098891</td>\n",
       "      <td>0.100573</td>\n",
       "      <td>0.146562</td>\n",
       "      <td>0.227205</td>\n",
       "      <td>0.193430</td>\n",
       "      <td>0.202198</td>\n",
       "      <td>0.251442</td>\n",
       "    </tr>\n",
       "  </tbody>\n",
       "</table>\n",
       "<p>5 rows × 75 columns</p>\n",
       "</div>"
      ],
      "text/plain": [
       "   Unnamed: 0.1  Ind                                              title  \\\n",
       "0            53   53  Названа опасность постоянно включенного Blueto...   \n",
       "1           244  244  Колесникова проходит подозреваемой по делу о з...   \n",
       "2           260  260  Deutsche Bank: в мире наступает эпоха беспорядка    \n",
       "3           355  355    «Ъ»: Минтранс подготовил проект поправок к ПДД    \n",
       "4           653  653  Tesla выпустит бюджетный беспилотник в 2023 году    \n",
       "\n",
       "                                                text  \\\n",
       "0  Постоянно включенный Bluetooth на смартфоне гр...   \n",
       "1  Член президиума координационного совета оппози...   \n",
       "2  Аналитики Deutsche Bank обнародовали исследова...   \n",
       "3  ГИБДД совместно с Минтрансом разработала масшт...   \n",
       "4  Вечером 22 сентября на конференции Battery Day...   \n",
       "\n",
       "                                             summary  \\\n",
       "0  Активированный в смартфоне Bluetooth может пре...   \n",
       "1  Члена президиума оппозиционного Координационно...   \n",
       "2  В истории человечества наступает эпоха беспоря...   \n",
       "3  Масштабный проект изменений в ПДД подготовили ...   \n",
       "4  Миллиардер Илон Маск пообещал представить бюдж...   \n",
       "\n",
       "                                   mbart_predictions  \\\n",
       "0  Постоянно включенный Bluetooth на смартфоне гр...   \n",
       "1  Член президиума координационного совета оппози...   \n",
       "2  В 2020 году в мире наступит новая эпоха беспор...   \n",
       "3  ГИБДД совместно с Минтрансом разработала масшт...   \n",
       "4  На конференции Battery Day глава Tesla Илон Ма...   \n",
       "\n",
       "                                     mt5_predictions  \\\n",
       "0  Эксперты предупреждают о том, что отключать Bl...   \n",
       "1  Член президиума координационного совета оппози...   \n",
       "2  Пандемия коронавируса привела к появлениям нов...   \n",
       "3  В Госдуму вступили в силу поправки в правила д...   \n",
       "4  Илон Маск рассчитывает вывести на рынок бюджет...   \n",
       "\n",
       "                             summarunner_predictions  \\\n",
       "0  постоянно включенный bluetooth на смартфоне гр...   \n",
       "1  член президиума координационного совета оппози...   \n",
       "2  аналитики deutsche bank обнародовали исследова...   \n",
       "3  гибдд совместно с минтрансом разработала масшт...   \n",
       "4  вечером 22 сентября на конференции battery day...   \n",
       "\n",
       "                                llama_7b_predictions  \\\n",
       "0  Bluetooth постоянно включен, это опасно, так к...   \n",
       "1  Мария Колесникова, член президиума координацио...   \n",
       "2  Аналитики Deutsche Bank предсказали наступлени...   \n",
       "3  ГИБДД и Минтранс разработали проект изменений ...   \n",
       "4  Илон Маск представил планы Tesla по выходу на ...   \n",
       "\n",
       "                                starling_predictions  ...  \\\n",
       "0  Постоянно включенный Bluetooth может создавать...  ...   \n",
       "1  Мария Колесникова, член президиума координацио...  ...   \n",
       "2  Аналитики Deutsche Bank предполагают, что 2020...  ...   \n",
       "3  ГИБДД и Минтранс разработали проект изменений ...  ...   \n",
       "4  В ходе конференции Tesla Battery Day, Илон Мас...  ...   \n",
       "\n",
       "  yagpt3_predictions_rouge2 yagpt3_predictions_rougeL  \\\n",
       "0                  0.011561                  0.102857   \n",
       "1                  0.031250                  0.164948   \n",
       "2                  0.078431                  0.193548   \n",
       "3                  0.095238                  0.224299   \n",
       "4                  0.108434                  0.190476   \n",
       "\n",
       "   yagpt3_predictions_rougeLsum  mbart_predictions_meteor  \\\n",
       "0                      0.114286                  0.126459   \n",
       "1                      0.175258                  0.248829   \n",
       "2                      0.245161                  0.309631   \n",
       "3                      0.205607                  0.306315   \n",
       "4                      0.238095                  0.098891   \n",
       "\n",
       "   mt5_predictions_meteor  summarunner_predictions_meteor  \\\n",
       "0                0.053648                        0.168245   \n",
       "1                0.101734                        0.263807   \n",
       "2                0.086664                        0.314012   \n",
       "3                0.082645                        0.233184   \n",
       "4                0.100573                        0.146562   \n",
       "\n",
       "   llama_7b_predictions_meteor  starling_predictions_meteor  \\\n",
       "0                     0.207257                     0.127202   \n",
       "1                     0.231588                     0.310913   \n",
       "2                     0.262029                     0.238650   \n",
       "3                     0.256739                     0.270406   \n",
       "4                     0.227205                     0.193430   \n",
       "\n",
       "   yagpt_predictions_meteor  yagpt3_predictions_meteor  \n",
       "0                  0.168304                   0.139373  \n",
       "1                  0.327753                   0.224195  \n",
       "2                  0.295642                   0.311487  \n",
       "3                  0.338463                   0.296722  \n",
       "4                  0.202198                   0.251442  \n",
       "\n",
       "[5 rows x 75 columns]"
      ]
     },
     "execution_count": 3,
     "metadata": {},
     "output_type": "execute_result"
    }
   ],
   "source": [
    "import scipy.stats as stats\n",
    "import pandas as pd\n",
    "import statistics\n",
    "\n",
    "tau_metrics = metrics[:-1]\n",
    "models = [file.split(\".\")[0] for file in files[1:]]\n",
    "summary_dataset = pd.read_csv(\"summary_dataset_with_bertscore_bleu_rouge_meteor.csv\")\n",
    "summary_dataset.head()"
   ]
  },
  {
   "cell_type": "markdown",
   "id": "3b29cae4-7678-454a-9cbc-c0d07121b6eb",
   "metadata": {},
   "source": [
    "## BLEU"
   ]
  },
  {
   "cell_type": "code",
   "execution_count": 8,
   "id": "182af4ae-e9a4-4584-aa65-b448e985fc32",
   "metadata": {},
   "outputs": [],
   "source": [
    "auto_data = []\n",
    "human_data = []\n",
    "for model in models:\n",
    "    auto_metric_field_name = f\"{model}_bleu\"\n",
    "    auto_data.append(statistics.mean(list(summary_dataset[auto_metric_field_name])))\n",
    "\n",
    "    human_metrics_fields = [f\"{model}_{metric}\" for metric in tau_metrics]\n",
    "    human_data.append(statistics.mean([sum([statistics.mean(data_dict[field][i]) for field in human_metrics_fields if isinstance(data_dict[field][i], list) and len(data_dict[field][i]) > 0]) for i in range(100)]))"
   ]
  },
  {
   "cell_type": "code",
   "execution_count": 9,
   "id": "083c23a8-f8f2-4a22-b9e0-3851735a7a62",
   "metadata": {},
   "outputs": [
    {
     "name": "stdout",
     "output_type": "stream",
     "text": [
      "[0.08985309966715581, 0.031693260634797875, 0.07321440798080235, 0.04370721270815704, 0.06301473711344703, 0.044676210560170425, 0.057539004263777255]\n",
      "[18.16, 15.1, 17.53, 4.98, 4.76, 4.71, 5.2]\n"
     ]
    }
   ],
   "source": [
    "print(auto_data)\n",
    "print(human_data)"
   ]
  },
  {
   "cell_type": "code",
   "execution_count": 10,
   "id": "29416c47-c342-4ca1-8ba7-33dd1cd99744",
   "metadata": {},
   "outputs": [],
   "source": [
    "tau, p_value = stats.kendalltau(auto_data, human_data)"
   ]
  },
  {
   "cell_type": "code",
   "execution_count": 11,
   "id": "ebe55ac2-28c1-4bdd-8dcb-f7f68e2aa1a3",
   "metadata": {},
   "outputs": [
    {
     "name": "stdout",
     "output_type": "stream",
     "text": [
      "0.33333333333333337 0.3813492063492063\n"
     ]
    }
   ],
   "source": [
    "print(tau, p_value)"
   ]
  },
  {
   "cell_type": "markdown",
   "id": "c84455d5-f898-4692-8720-059882bc2181",
   "metadata": {},
   "source": [
    "### ROUGE1"
   ]
  },
  {
   "cell_type": "code",
   "execution_count": 10,
   "id": "c0c83fb4-155b-4c40-999f-cb66badc2f73",
   "metadata": {},
   "outputs": [],
   "source": [
    "auto_data = []\n",
    "human_data = []\n",
    "for model in models:\n",
    "    auto_metric_field_name = f\"{model}_rouge1\"\n",
    "    auto_data.append(statistics.mean(list(summary_dataset[auto_metric_field_name])))\n",
    "\n",
    "    human_metrics_fields = [f\"{model}_{metric}\" for metric in tau_metrics]\n",
    "    human_data.append(statistics.mean([sum([statistics.mean(data_dict[field][i]) for field in human_metrics_fields if isinstance(data_dict[field][i], list) and len(data_dict[field][i]) > 0]) for i in range(100)]))"
   ]
  },
  {
   "cell_type": "code",
   "execution_count": 11,
   "id": "a0605ddf-6d18-48f0-a0ff-0a6e01666d4a",
   "metadata": {},
   "outputs": [
    {
     "name": "stdout",
     "output_type": "stream",
     "text": [
      "[0.3132584410306658, 0.18770184990638483, 0.2773956250470432, 0.23633152652143022, 0.27970820232469806, 0.23762173845574566, 0.26362090158473467]\n",
      "[18.16, 15.1, 17.53, 4.98, 4.76, 4.71, 5.2]\n"
     ]
    }
   ],
   "source": [
    "print(auto_data)\n",
    "print(human_data)"
   ]
  },
  {
   "cell_type": "code",
   "execution_count": 12,
   "id": "b6428afe-6e81-475b-b83d-d77bb41d6806",
   "metadata": {},
   "outputs": [],
   "source": [
    "tau, p_value = stats.kendalltau(auto_data, human_data)"
   ]
  },
  {
   "cell_type": "code",
   "execution_count": 13,
   "id": "b109226a-2c9c-4293-9968-67795bc44ea2",
   "metadata": {
    "scrolled": true
   },
   "outputs": [
    {
     "name": "stdout",
     "output_type": "stream",
     "text": [
      "0.23809523809523814 0.5619047619047619\n"
     ]
    }
   ],
   "source": [
    "print(tau, p_value)"
   ]
  },
  {
   "cell_type": "markdown",
   "id": "461c5471-6f43-4ba3-9145-66df3d18b58c",
   "metadata": {},
   "source": [
    "### METEOR"
   ]
  },
  {
   "cell_type": "code",
   "execution_count": 14,
   "id": "669d2016-9146-4820-bc71-062827141655",
   "metadata": {},
   "outputs": [],
   "source": [
    "auto_data = []\n",
    "human_data = []\n",
    "for model in models:\n",
    "    auto_metric_field_name = f\"{model}_meteor\"\n",
    "    auto_data.append(statistics.mean(list(summary_dataset[auto_metric_field_name])))\n",
    "\n",
    "    human_metrics_fields = [f\"{model}_{metric}\" for metric in tau_metrics]\n",
    "    human_data.append(statistics.mean([sum([statistics.mean(data_dict[field][i]) for field in human_metrics_fields if isinstance(data_dict[field][i], list) and len(data_dict[field][i]) > 0]) for i in range(100)]))"
   ]
  },
  {
   "cell_type": "code",
   "execution_count": 15,
   "id": "81c110be-2edb-4b59-873e-d216984edeba",
   "metadata": {},
   "outputs": [
    {
     "name": "stdout",
     "output_type": "stream",
     "text": [
      "[0.24489541364112327, 0.10323753370134241, 0.2506747441997558, 0.24976855018268054, 0.24354940540884423, 0.24235216346974967, 0.2665891611576565]\n",
      "[18.16, 15.1, 17.53, 4.98, 4.76, 4.71, 5.2]\n"
     ]
    }
   ],
   "source": [
    "print(auto_data)\n",
    "print(human_data)"
   ]
  },
  {
   "cell_type": "code",
   "execution_count": 16,
   "id": "c2d4c1d1-7d84-47f4-900c-26c639701628",
   "metadata": {},
   "outputs": [],
   "source": [
    "tau, p_value = stats.kendalltau(auto_data, human_data)"
   ]
  },
  {
   "cell_type": "code",
   "execution_count": 17,
   "id": "bcd09a0b-e7a5-4169-bcb4-02ed1da9d217",
   "metadata": {},
   "outputs": [
    {
     "name": "stdout",
     "output_type": "stream",
     "text": [
      "0.23809523809523814 0.5619047619047619\n"
     ]
    }
   ],
   "source": [
    "print(tau, p_value)"
   ]
  },
  {
   "cell_type": "markdown",
   "id": "1970a033-5000-4944-9437-1d85f2f4a4fb",
   "metadata": {},
   "source": [
    "### BERTScore"
   ]
  },
  {
   "cell_type": "code",
   "execution_count": 18,
   "id": "ffda18c1-9322-426b-9aa2-704e3c2d3573",
   "metadata": {},
   "outputs": [],
   "source": [
    "auto_data = []\n",
    "human_data = []\n",
    "for model in models:\n",
    "    auto_metric_field_name = f\"{model}_bertscore_f1\"\n",
    "    auto_data.append(statistics.mean(list(summary_dataset[auto_metric_field_name])))\n",
    "\n",
    "    human_metrics_fields = [f\"{model}_{metric}\" for metric in tau_metrics]\n",
    "    human_data.append(statistics.mean([sum([statistics.mean(data_dict[field][i]) for field in human_metrics_fields if isinstance(data_dict[field][i], list) and len(data_dict[field][i]) > 0]) for i in range(100)]))"
   ]
  },
  {
   "cell_type": "code",
   "execution_count": 19,
   "id": "6143b394-c156-4699-b0b2-d594aac7f9b6",
   "metadata": {},
   "outputs": [
    {
     "name": "stdout",
     "output_type": "stream",
     "text": [
      "[0.6922733288544874, 0.6551174383897048, 0.669170290690202, 0.6805312119997464, 0.6846432328224182, 0.6843346494894761, 0.6859273704198691]\n",
      "[18.16, 15.1, 17.53, 4.98, 4.76, 4.71, 5.2]\n"
     ]
    }
   ],
   "source": [
    "print(auto_data)\n",
    "print(human_data)"
   ]
  },
  {
   "cell_type": "code",
   "execution_count": 20,
   "id": "ebf777c9-703a-4a6b-b934-63e99823fe58",
   "metadata": {},
   "outputs": [],
   "source": [
    "tau, p_value = stats.kendalltau(auto_data, human_data)"
   ]
  },
  {
   "cell_type": "code",
   "execution_count": 21,
   "id": "076d5a33-771b-4d26-85b7-aa91c5fd85ff",
   "metadata": {},
   "outputs": [
    {
     "name": "stdout",
     "output_type": "stream",
     "text": [
      "0.04761904761904762 1.0\n"
     ]
    }
   ],
   "source": [
    "print(tau, p_value)"
   ]
  },
  {
   "cell_type": "markdown",
   "id": "a0ab03ee-8a7b-4a82-9152-5f1fdec34150",
   "metadata": {},
   "source": [
    "## Correlation (per-system, M_judge)"
   ]
  },
  {
   "cell_type": "markdown",
   "id": "d31f9a47-6df6-4a37-9786-b2227e3718cd",
   "metadata": {},
   "source": [
    "### ROUGE1"
   ]
  },
  {
   "cell_type": "code",
   "execution_count": 22,
   "id": "b4cae6fe-9dfe-4429-b7b9-6deae6017160",
   "metadata": {},
   "outputs": [],
   "source": [
    "auto_data = []\n",
    "human_data = []\n",
    "for model in models:\n",
    "    auto_metric_field_name = f\"{model}_rouge1\"\n",
    "    auto_data.append(statistics.mean(list(summary_dataset[auto_metric_field_name])))\n",
    "\n",
    "    human_metrics_fields = [f\"{model}_{metric}\" for metric in tau_metrics]\n",
    "    human_data.append(statistics.mean([sum([statistics.mean(data_dict[field][i]) for field in human_metrics_fields if isinstance(data_dict[field][i], list) and len(data_dict[field][i]) > 0]) for i in range(100)]))"
   ]
  },
  {
   "cell_type": "code",
   "execution_count": 23,
   "id": "351bd4b3-e1c6-483d-8312-0340ce199b12",
   "metadata": {},
   "outputs": [
    {
     "name": "stdout",
     "output_type": "stream",
     "text": [
      "[0.3132584410306658, 0.18770184990638483, 0.2773956250470432, 0.23633152652143022, 0.27970820232469806, 0.23762173845574566, 0.26362090158473467]\n",
      "[18.16, 15.1, 17.53, 4.98, 4.76, 4.71, 5.2]\n"
     ]
    }
   ],
   "source": [
    "print(auto_data)\n",
    "print(human_data)"
   ]
  },
  {
   "cell_type": "code",
   "execution_count": 24,
   "id": "42448345-f12b-4f3f-ba7b-405fa9d7f575",
   "metadata": {},
   "outputs": [],
   "source": [
    "tau, p_value = stats.kendalltau(auto_data, human_data)"
   ]
  },
  {
   "cell_type": "code",
   "execution_count": 25,
   "id": "6acc99e5-abc4-44b1-9e9e-2cc9eb9d5555",
   "metadata": {},
   "outputs": [
    {
     "name": "stdout",
     "output_type": "stream",
     "text": [
      "0.23809523809523814 0.5619047619047619\n"
     ]
    }
   ],
   "source": [
    "print(tau, p_value)"
   ]
  },
  {
   "cell_type": "code",
   "execution_count": 26,
   "id": "e1349069-6255-4cdc-93f5-da5d38617019",
   "metadata": {},
   "outputs": [
    {
     "name": "stdout",
     "output_type": "stream",
     "text": [
      "0.47368421052631565\n",
      "0.09999999999999999\n",
      "-0.2\n",
      "0.23809523809523814\n",
      "-0.06666666666666665\n",
      "0.4666666666666666\n",
      "0.06666666666666665\n",
      "0.3333333333333333\n",
      "0.4666666666666666\n",
      "0.2\n",
      "0.2\n"
     ]
    }
   ],
   "source": [
    "from scipy.stats import bootstrap\n",
    "import numpy as np\n",
    "import math\n",
    "\n",
    "def calc_kendalltau(x, y):\n",
    "    tau = stats.kendalltau(x, y)[0]\n",
    "    print(tau)\n",
    "    if math.isnan(tau):\n",
    "        tau = 0\n",
    "    return tau\n",
    "\n",
    "rng = np.random.default_rng(seed=42)\n",
    "data = (auto_data, human_data)\n",
    "bootstrap_samples = bootstrap(data, calc_kendalltau, n_resamples=3, confidence_level=0.9, random_state=rng, paired=True, vectorized=False)"
   ]
  },
  {
   "cell_type": "code",
   "execution_count": 27,
   "id": "a5c559ca-c369-405b-81ff-6a57d15e77ac",
   "metadata": {},
   "outputs": [
    {
     "name": "stdout",
     "output_type": "stream",
     "text": [
      "ConfidenceInterval(low=-0.0667777624066126, high=0.46978770336040715)\n"
     ]
    }
   ],
   "source": [
    "print(bootstrap_samples.confidence_interval)"
   ]
  },
  {
   "cell_type": "markdown",
   "id": "4abd50d6-b982-42e4-8b58-a8fd1db25845",
   "metadata": {},
   "source": [
    "### METEOR"
   ]
  },
  {
   "cell_type": "code",
   "execution_count": 28,
   "id": "0a5ba16a-a464-4ca2-87f7-48afb5497a15",
   "metadata": {},
   "outputs": [],
   "source": [
    "auto_data = []\n",
    "human_data = []\n",
    "for model in models:\n",
    "    auto_metric_field_name = f\"{model}_meteor\"\n",
    "    auto_data.append(statistics.mean(list(summary_dataset[auto_metric_field_name])))\n",
    "\n",
    "    human_metrics_fields = [f\"{model}_{metric}\" for metric in tau_metrics]\n",
    "    human_data.append(statistics.mean([sum([statistics.mean(data_dict[field][i]) for field in human_metrics_fields if isinstance(data_dict[field][i], list) and len(data_dict[field][i]) > 0]) for i in range(100)]))"
   ]
  },
  {
   "cell_type": "code",
   "execution_count": 29,
   "id": "85d001ae-9934-4923-b232-7ba09a67bdf6",
   "metadata": {},
   "outputs": [
    {
     "name": "stdout",
     "output_type": "stream",
     "text": [
      "[0.24489541364112327, 0.10323753370134241, 0.2506747441997558, 0.24976855018268054, 0.24354940540884423, 0.24235216346974967, 0.2665891611576565]\n",
      "[18.16, 15.1, 17.53, 4.98, 4.76, 4.71, 5.2]\n"
     ]
    }
   ],
   "source": [
    "print(auto_data)\n",
    "print(human_data)"
   ]
  },
  {
   "cell_type": "code",
   "execution_count": 30,
   "id": "278c2504-80c1-4692-a840-7b3b1f8d78b7",
   "metadata": {},
   "outputs": [],
   "source": [
    "tau, p_value = stats.kendalltau(auto_data, human_data)"
   ]
  },
  {
   "cell_type": "code",
   "execution_count": 31,
   "id": "88c5f6a6-14d3-41bb-b3a2-c751cd413a7a",
   "metadata": {},
   "outputs": [
    {
     "name": "stdout",
     "output_type": "stream",
     "text": [
      "0.23809523809523814 0.5619047619047619\n"
     ]
    }
   ],
   "source": [
    "print(tau, p_value)"
   ]
  },
  {
   "cell_type": "code",
   "execution_count": 32,
   "id": "37e7d670-abf3-4718-9226-f515e0d3cae7",
   "metadata": {},
   "outputs": [
    {
     "name": "stdout",
     "output_type": "stream",
     "text": [
      "0.36842105263157887\n",
      "0.3\n",
      "0.6\n",
      "0.23809523809523814\n",
      "0.3333333333333333\n",
      "0.4666666666666666\n",
      "0.2\n",
      "0.2\n",
      "0.06666666666666665\n",
      "0.06666666666666665\n",
      "0.3333333333333333\n",
      "ConfidenceInterval(low=nan, high=nan)\n"
     ]
    },
    {
     "name": "stderr",
     "output_type": "stream",
     "text": [
      "/home/skatori/.local/lib/python3.12/site-packages/scipy/stats/_resampling.py:153: RuntimeWarning: invalid value encountered in scalar divide\n",
      "  alpha_1 = ndtr(z0_hat + num1/(1 - a_hat*num1))\n",
      "/home/skatori/.local/lib/python3.12/site-packages/scipy/stats/_resampling.py:155: RuntimeWarning: invalid value encountered in scalar divide\n",
      "  alpha_2 = ndtr(z0_hat + num2/(1 - a_hat*num2))\n",
      "/tmp/ipykernel_314443/4012814051.py:13: DegenerateDataWarning: The BCa confidence interval cannot be calculated. This problem is known to occur when the distribution is degenerate or the statistic is np.min.\n",
      "  bootstrap_samples = bootstrap(data, calc_kendalltau, n_resamples=3, confidence_level=0.9, random_state=rng, paired=True, vectorized=False)\n"
     ]
    }
   ],
   "source": [
    "from scipy.stats import bootstrap\n",
    "import numpy as np\n",
    "\n",
    "def calc_kendalltau(x, y):\n",
    "    tau = stats.kendalltau(x, y)[0]\n",
    "    print(tau)\n",
    "    if math.isnan(tau):\n",
    "        tau = 0\n",
    "    return tau\n",
    "\n",
    "rng = np.random.default_rng(seed=42)\n",
    "data = (auto_data, human_data)\n",
    "bootstrap_samples = bootstrap(data, calc_kendalltau, n_resamples=3, confidence_level=0.9, random_state=rng, paired=True, vectorized=False)\n",
    "print(bootstrap_samples.confidence_interval)"
   ]
  },
  {
   "cell_type": "markdown",
   "id": "b2f77e74-1cdd-408b-90e8-af3c96b70086",
   "metadata": {},
   "source": [
    "### BERTScore"
   ]
  },
  {
   "cell_type": "code",
   "execution_count": 33,
   "id": "2bafec3c-6326-49f5-a414-8038a055a7d2",
   "metadata": {},
   "outputs": [],
   "source": [
    "auto_data = []\n",
    "human_data = []\n",
    "for model in models:\n",
    "    auto_metric_field_name = f\"{model}_bertscore_f1\"\n",
    "    auto_data.append(statistics.mean(list(summary_dataset[auto_metric_field_name])))\n",
    "\n",
    "    human_metrics_fields = [f\"{model}_{metric}\" for metric in tau_metrics]\n",
    "    human_data.append(statistics.mean([sum([statistics.mean(data_dict[field][i]) for field in human_metrics_fields if isinstance(data_dict[field][i], list) and len(data_dict[field][i]) > 0]) for i in range(100)]))"
   ]
  },
  {
   "cell_type": "code",
   "execution_count": 34,
   "id": "3164ca4a-e8d8-47e7-bd55-41ed5fa1826d",
   "metadata": {},
   "outputs": [
    {
     "name": "stdout",
     "output_type": "stream",
     "text": [
      "[0.6922733288544874, 0.6551174383897048, 0.669170290690202, 0.6805312119997464, 0.6846432328224182, 0.6843346494894761, 0.6859273704198691]\n",
      "[18.16, 15.1, 17.53, 4.98, 4.76, 4.71, 5.2]\n"
     ]
    }
   ],
   "source": [
    "print(auto_data)\n",
    "print(human_data)"
   ]
  },
  {
   "cell_type": "code",
   "execution_count": 35,
   "id": "4b67f953-cecd-45da-bdc8-a94c14bc148f",
   "metadata": {},
   "outputs": [],
   "source": [
    "tau, p_value = stats.kendalltau(auto_data, human_data)"
   ]
  },
  {
   "cell_type": "code",
   "execution_count": 36,
   "id": "429bf01f-2e68-445b-bc72-3bc5f948c609",
   "metadata": {},
   "outputs": [
    {
     "name": "stdout",
     "output_type": "stream",
     "text": [
      "0.04761904761904762 1.0\n"
     ]
    }
   ],
   "source": [
    "print(tau, p_value)"
   ]
  },
  {
   "cell_type": "code",
   "execution_count": 37,
   "id": "efae67d3-f655-4396-ac1a-da2055d6c912",
   "metadata": {},
   "outputs": [
    {
     "name": "stdout",
     "output_type": "stream",
     "text": [
      "ConfidenceInterval(low=-0.6842105263157894, high=0.6565388046206376)\n"
     ]
    }
   ],
   "source": [
    "from scipy.stats import bootstrap\n",
    "import numpy as np\n",
    "\n",
    "def calc_kendalltau(x, y):\n",
    "    tau = stats.kendalltau(x, y)[0]\n",
    "    if math.isnan(tau):\n",
    "        tau = 0\n",
    "    return tau\n",
    "\n",
    "rng = np.random.default_rng(seed=42)\n",
    "data = (auto_data, human_data)\n",
    "bootstrap_samples = bootstrap(data, calc_kendalltau, n_resamples=1000, confidence_level=0.9, random_state=rng, paired=True, vectorized=False)\n",
    "print(bootstrap_samples.confidence_interval)"
   ]
  },
  {
   "cell_type": "markdown",
   "id": "8162ad94-5344-4ecb-be43-cb396bf702d6",
   "metadata": {},
   "source": [
    "## Correlation (per-input)"
   ]
  },
  {
   "cell_type": "markdown",
   "id": "f2455680-2f6b-47cc-b0d4-47806012b777",
   "metadata": {},
   "source": [
    "### ROUGE1"
   ]
  },
  {
   "cell_type": "code",
   "execution_count": 38,
   "id": "ad806bb2-e913-40d1-a660-5f081e5778e8",
   "metadata": {},
   "outputs": [
    {
     "name": "stderr",
     "output_type": "stream",
     "text": [
      "/tmp/ipykernel_314443/3963064570.py:16: DegenerateDataWarning: The BCa confidence interval cannot be calculated. This problem is known to occur when the distribution is degenerate or the statistic is np.min.\n",
      "  bootstrap_samples = bootstrap((auto_data_temp, human_data_temp), calc_kendalltau, n_resamples=3, confidence_level=0.9, random_state=rng, paired=True, vectorized=False)\n"
     ]
    }
   ],
   "source": [
    "import math\n",
    "res = []\n",
    "ci_min = []\n",
    "ci_max = []\n",
    "for i in range(len(data_dict)):\n",
    "    auto_data_temp = []\n",
    "    human_data_temp = []\n",
    "    for model in models:\n",
    "        auto_metric_field_name = f\"{model}_rouge1\"\n",
    "        auto_data_temp.append(summary_dataset[auto_metric_field_name][i])\n",
    "    \n",
    "        human_metrics_fields = [f\"{model}_{metric}\" for metric in tau_metrics]\n",
    "        human_data_temp.append(sum([statistics.mean(data_dict[field][i]) for field in human_metrics_fields if len(data_dict[field][i]) > 0]))\n",
    "\n",
    "    \n",
    "    bootstrap_samples = bootstrap((auto_data_temp, human_data_temp), calc_kendalltau, n_resamples=3, confidence_level=0.9, random_state=rng, paired=True, vectorized=False)\n",
    "    ci = bootstrap_samples.confidence_interval\n",
    "    if not math.isnan(ci.low):\n",
    "        ci_min.append(ci.low)\n",
    "    if not math.isnan(ci.high):\n",
    "        ci_max.append(ci.high)\n",
    "    # ci_min.append(ci.low)\n",
    "    # ci_max.append(ci.high)\n",
    "    \n",
    "    tau_temp = stats.kendalltau(auto_data_temp, human_data_temp)[0]\n",
    "    if math.isnan(tau_temp):\n",
    "        tau_temp = 0\n",
    "    res.append(tau_temp)\n",
    "tau = statistics.mean(res)\n",
    "ci = [statistics.mean(ci_min), statistics.mean(ci_max)]"
   ]
  },
  {
   "cell_type": "code",
   "execution_count": 39,
   "id": "f32fbcc5-1abd-465a-842e-77157e61a36f",
   "metadata": {},
   "outputs": [
    {
     "name": "stdout",
     "output_type": "stream",
     "text": [
      "0.13303612813646604\n",
      "[-0.18694582140273278, 0.38310102928040046]\n"
     ]
    }
   ],
   "source": [
    "print(tau)\n",
    "print(ci)"
   ]
  },
  {
   "cell_type": "markdown",
   "id": "271b7754-b37a-4f62-ad46-3b285f065b9d",
   "metadata": {},
   "source": [
    "### METEOR"
   ]
  },
  {
   "cell_type": "code",
   "execution_count": 40,
   "id": "57e40a91-f117-42f0-a3f7-7497a8491d84",
   "metadata": {},
   "outputs": [
    {
     "name": "stderr",
     "output_type": "stream",
     "text": [
      "/tmp/ipykernel_314443/3418075589.py:15: DegenerateDataWarning: The BCa confidence interval cannot be calculated. This problem is known to occur when the distribution is degenerate or the statistic is np.min.\n",
      "  bootstrap_samples = bootstrap((auto_data_temp, human_data_temp), calc_kendalltau, n_resamples=3, confidence_level=0.9, random_state=rng, paired=True, vectorized=False)\n"
     ]
    }
   ],
   "source": [
    "import math\n",
    "res = []\n",
    "ci_min = []\n",
    "ci_max = []\n",
    "for i in range(len(data_dict)):\n",
    "    auto_data_temp = []\n",
    "    human_data_temp = []\n",
    "    for model in models:\n",
    "        auto_metric_field_name = f\"{model}_meteor\"\n",
    "        auto_data_temp.append(summary_dataset[auto_metric_field_name][i])\n",
    "    \n",
    "        human_metrics_fields = [f\"{model}_{metric}\" for metric in tau_metrics]\n",
    "        human_data_temp.append(sum([statistics.mean(data_dict[field][i]) for field in human_metrics_fields if len(data_dict[field][i]) > 0]))\n",
    "\n",
    "    bootstrap_samples = bootstrap((auto_data_temp, human_data_temp), calc_kendalltau, n_resamples=3, confidence_level=0.9, random_state=rng, paired=True, vectorized=False)\n",
    "    ci = bootstrap_samples.confidence_interval\n",
    "    if not math.isnan(ci.low):\n",
    "        ci_min.append(ci.low)\n",
    "    if not math.isnan(ci.high):\n",
    "        ci_max.append(ci.high)\n",
    "        \n",
    "    tau_temp = stats.kendalltau(auto_data_temp, human_data_temp)[0]\n",
    "    if math.isnan(tau_temp):\n",
    "        tau_temp = 0\n",
    "    res.append(tau_temp)\n",
    "tau = statistics.mean(res)\n",
    "ci = [statistics.mean(ci_min), statistics.mean(ci_max)]"
   ]
  },
  {
   "cell_type": "code",
   "execution_count": 41,
   "id": "549f6c4a-7d3a-4bce-84d2-6c723417d5b5",
   "metadata": {},
   "outputs": [
    {
     "name": "stdout",
     "output_type": "stream",
     "text": [
      "-0.045395280600320276\n",
      "[-0.2926788720528339, 0.1736328686756069]\n"
     ]
    }
   ],
   "source": [
    "print(tau)\n",
    "print(ci)"
   ]
  },
  {
   "cell_type": "markdown",
   "id": "d4e05b1f-4707-4951-b5fe-bb0ec7e7b4eb",
   "metadata": {},
   "source": [
    "### BERTScore"
   ]
  },
  {
   "cell_type": "code",
   "execution_count": 42,
   "id": "6e3e88bb-2391-41b4-a699-d87bb747b6a9",
   "metadata": {},
   "outputs": [
    {
     "name": "stderr",
     "output_type": "stream",
     "text": [
      "/tmp/ipykernel_314443/1676639163.py:15: DegenerateDataWarning: The BCa confidence interval cannot be calculated. This problem is known to occur when the distribution is degenerate or the statistic is np.min.\n",
      "  bootstrap_samples = bootstrap((auto_data_temp, human_data_temp), calc_kendalltau, n_resamples=3, confidence_level=0.9, random_state=rng, paired=True, vectorized=False)\n"
     ]
    }
   ],
   "source": [
    "import math\n",
    "res = []\n",
    "ci_min = []\n",
    "ci_max = []\n",
    "for i in range(len(data_dict)):\n",
    "    auto_data_temp = []\n",
    "    human_data_temp = []\n",
    "    for model in models:\n",
    "        auto_metric_field_name = f\"{model}_bertscore_f1\"\n",
    "        auto_data_temp.append(summary_dataset[auto_metric_field_name][i])\n",
    "    \n",
    "        human_metrics_fields = [f\"{model}_{metric}\" for metric in tau_metrics]\n",
    "        human_data_temp.append(sum([statistics.mean(data_dict[field][i]) for field in human_metrics_fields if len(data_dict[field][i]) > 0]))\n",
    "\n",
    "    bootstrap_samples = bootstrap((auto_data_temp, human_data_temp), calc_kendalltau, n_resamples=3, confidence_level=0.9, random_state=rng, paired=True, vectorized=False)\n",
    "    ci = bootstrap_samples.confidence_interval\n",
    "    if not math.isnan(ci.low):\n",
    "        ci_min.append(ci.low)\n",
    "    if not math.isnan(ci.high):\n",
    "        ci_max.append(ci.high)\n",
    "        \n",
    "    tau_temp = stats.kendalltau(auto_data_temp, human_data_temp)[0]\n",
    "    if math.isnan(tau_temp):\n",
    "        tau_temp = 0\n",
    "    res.append(tau_temp)\n",
    "tau = statistics.mean(res)\n",
    "ci = [statistics.mean(ci_min), statistics.mean(ci_max)]"
   ]
  },
  {
   "cell_type": "code",
   "execution_count": 43,
   "id": "dafab4a2-4d55-4767-9c78-ba612d06c7d4",
   "metadata": {},
   "outputs": [
    {
     "name": "stdout",
     "output_type": "stream",
     "text": [
      "-0.020348936189821608\n",
      "[-0.3490099670808464, 0.24013315140571592]\n"
     ]
    }
   ],
   "source": [
    "print(tau)\n",
    "print(ci)"
   ]
  }
 ],
 "metadata": {
  "kernelspec": {
   "display_name": "Python 3 (ipykernel)",
   "language": "python",
   "name": "python3"
  },
  "language_info": {
   "codemirror_mode": {
    "name": "ipython",
    "version": 3
   },
   "file_extension": ".py",
   "mimetype": "text/x-python",
   "name": "python",
   "nbconvert_exporter": "python",
   "pygments_lexer": "ipython3",
   "version": "3.12.3"
  }
 },
 "nbformat": 4,
 "nbformat_minor": 5
}
