{
 "cells": [
  {
   "cell_type": "markdown",
   "id": "8f80d8c3-b11f-4f89-9ea2-d12f2ea972df",
   "metadata": {},
   "source": [
    "# Process expert evaluation"
   ]
  },
  {
   "cell_type": "code",
   "execution_count": 8,
   "id": "b72eaa34-8d28-4190-9a8c-7d55ab3bfcfb",
   "metadata": {},
   "outputs": [],
   "source": [
    "import pandas as pd"
   ]
  },
  {
   "cell_type": "code",
   "execution_count": 9,
   "id": "803fde61-f211-45d6-9a79-56cb3aebc867",
   "metadata": {},
   "outputs": [],
   "source": [
    "index = \"Ind\"\n",
    "title = \"title\"\n",
    "article = \"text\"\n",
    "ground_truth = \"summary\"\n",
    "\n",
    "files = [\n",
    "    f\"{ground_truth}.txt\", # Dummy for summary field\n",
    "    \"mbart_predictions.txt\",\n",
    "    \"mt5_predictions.txt\",\n",
    "    \"summarunner_predictions.txt\",\n",
    "    \"llama_7b_predictions.csv\",\n",
    "    \"starling_predictions.csv\",\n",
    "    \"yagpt_predictions.csv\",\n",
    "    \"yagpt3_predictions.csv\"\n",
    "]\n",
    "summaries_fields = []\n",
    "metrics = [\n",
    "    \"Актуальность\",\n",
    "    \"Последовательность\",\n",
    "    \"Беглость\",\n",
    "    \"Согласованность\",\n",
    "    \"Комментарий\"\n",
    "]\n",
    "\n",
    "for file in files:\n",
    "    model_name = file.split(\".\")[0]\n",
    "    summaries_fields.append(model_name)\n",
    "    for metric in metrics:\n",
    "        summaries_fields.append(f\"{model_name}_{metric}\")"
   ]
  },
  {
   "cell_type": "code",
   "execution_count": 10,
   "id": "9e87ab91-8487-4537-b6e6-0df316ed7922",
   "metadata": {},
   "outputs": [
    {
     "name": "stdout",
     "output_type": "stream",
     "text": [
      "{'summary': <class 'str'>, 'summary_Актуальность': 'Int64', 'summary_Последовательность': 'Int64', 'summary_Беглость': 'Int64', 'summary_Согласованность': 'Int64', 'summary_Комментарий': <class 'str'>, 'mbart_predictions': <class 'str'>, 'mbart_predictions_Актуальность': 'Int64', 'mbart_predictions_Последовательность': 'Int64', 'mbart_predictions_Беглость': 'Int64', 'mbart_predictions_Согласованность': 'Int64', 'mbart_predictions_Комментарий': <class 'str'>, 'mt5_predictions': <class 'str'>, 'mt5_predictions_Актуальность': 'Int64', 'mt5_predictions_Последовательность': 'Int64', 'mt5_predictions_Беглость': 'Int64', 'mt5_predictions_Согласованность': 'Int64', 'mt5_predictions_Комментарий': <class 'str'>, 'summarunner_predictions': <class 'str'>, 'summarunner_predictions_Актуальность': 'Int64', 'summarunner_predictions_Последовательность': 'Int64', 'summarunner_predictions_Беглость': 'Int64', 'summarunner_predictions_Согласованность': 'Int64', 'summarunner_predictions_Комментарий': <class 'str'>, 'llama_7b_predictions': <class 'str'>, 'llama_7b_predictions_Актуальность': 'Int64', 'llama_7b_predictions_Последовательность': 'Int64', 'llama_7b_predictions_Беглость': 'Int64', 'llama_7b_predictions_Согласованность': 'Int64', 'llama_7b_predictions_Комментарий': <class 'str'>, 'starling_predictions': <class 'str'>, 'starling_predictions_Актуальность': 'Int64', 'starling_predictions_Последовательность': 'Int64', 'starling_predictions_Беглость': 'Int64', 'starling_predictions_Согласованность': 'Int64', 'starling_predictions_Комментарий': <class 'str'>, 'yagpt_predictions': <class 'str'>, 'yagpt_predictions_Актуальность': 'Int64', 'yagpt_predictions_Последовательность': 'Int64', 'yagpt_predictions_Беглость': 'Int64', 'yagpt_predictions_Согласованность': 'Int64', 'yagpt_predictions_Комментарий': <class 'str'>, 'yagpt3_predictions': <class 'str'>, 'yagpt3_predictions_Актуальность': 'Int64', 'yagpt3_predictions_Последовательность': 'Int64', 'yagpt3_predictions_Беглость': 'Int64', 'yagpt3_predictions_Согласованность': 'Int64', 'yagpt3_predictions_Комментарий': <class 'str'>}\n"
     ]
    }
   ],
   "source": [
    "summaries_fields_types = {field : ('Int64' if field.split(\"_\")[-1] != metrics[-1] and field + \".txt\" not in files and field + \".csv\" not in files else str) for field in summaries_fields}\n",
    "print(summaries_fields_types)\n",
    "summaries_fields_types[index] = 'Int64'\n",
    "summaries_fields_types[article] = summaries_fields_types[ground_truth] = str"
   ]
  },
  {
   "cell_type": "code",
   "execution_count": 11,
   "id": "219fe482-0e89-48a0-b45c-131052a8848a",
   "metadata": {},
   "outputs": [],
   "source": [
    "# folder = \"./human_annotations\"\n",
    "# annotations_files = [\n",
    "#     \"part1.csv\",\n",
    "#     \"part2.csv\",\n",
    "#     \"part3.csv\",\n",
    "#     \"part4.csv\",\n",
    "#     \"part5.csv\"\n",
    "# ]\n",
    "\n",
    "# data_dict = {}\n",
    "# for file in annotations_files:\n",
    "#     data = pd.read_csv(f\"{folder}/{file}\", dtype=summaries_fields_types)\n",
    "#     temp_data_dict = data.to_dict()\n",
    "#     for key, value in temp_data_dict.items():\n",
    "#         if key.split(\"_\")[-1] in metrics:\n",
    "#             for i in range(len(temp_data_dict[key])):\n",
    "#                 temp_data_dict[key][i] = [temp_data_dict[key][i]] if temp_data_dict[key][i] is not None else []\n",
    "#         if key not in data_dict:\n",
    "#             data_dict[key] = list(value.values())\n",
    "#             continue\n",
    "#         elif key.split(\"_\")[-1] in metrics[:-1]:\n",
    "#             for i, val in enumerate(temp_data_dict[key].values()):\n",
    "#                 try:\n",
    "#                     data_dict[key][i] += val\n",
    "#                 except:\n",
    "#                     print(key, data_dict[key], \"\\n\", temp_data_dict[key], val)\n",
    "#                     raise\n",
    "        "
   ]
  },
  {
   "cell_type": "code",
   "execution_count": 12,
   "id": "5b303c7d-6ad5-4df6-96f2-3900534ada76",
   "metadata": {},
   "outputs": [],
   "source": [
    "#print(data_dict.keys())"
   ]
  },
  {
   "cell_type": "markdown",
   "id": "6799be03-bfd7-49c1-bfe0-d3f15b5bef80",
   "metadata": {},
   "source": [
    "# Metrics"
   ]
  },
  {
   "cell_type": "code",
   "execution_count": 13,
   "id": "396fb72f-87bc-4535-b532-80b3c70a7aa3",
   "metadata": {},
   "outputs": [
    {
     "name": "stdout",
     "output_type": "stream",
     "text": [
      "65 35\n"
     ]
    }
   ],
   "source": [
    "import pandas as pd\n",
    "gazeta_metrics = pd.read_csv(\"gazeta_metrics.csv\")\n",
    "wikilingua_metrics = pd.read_csv(\"wikilingua_metrics.csv\")\n",
    "\n",
    "print(len(gazeta_metrics), len(wikilingua_metrics))"
   ]
  },
  {
   "cell_type": "code",
   "execution_count": 14,
   "id": "d51aaebd-4a25-458f-afa0-6238bf6aa8de",
   "metadata": {},
   "outputs": [
    {
     "data": {
      "text/html": [
       "<div>\n",
       "<style scoped>\n",
       "    .dataframe tbody tr th:only-of-type {\n",
       "        vertical-align: middle;\n",
       "    }\n",
       "\n",
       "    .dataframe tbody tr th {\n",
       "        vertical-align: top;\n",
       "    }\n",
       "\n",
       "    .dataframe thead th {\n",
       "        text-align: right;\n",
       "    }\n",
       "</style>\n",
       "<table border=\"1\" class=\"dataframe\">\n",
       "  <thead>\n",
       "    <tr style=\"text-align: right;\">\n",
       "      <th></th>\n",
       "      <th>Unnamed: 0.1</th>\n",
       "      <th>Ind</th>\n",
       "      <th>title</th>\n",
       "      <th>text</th>\n",
       "      <th>summary</th>\n",
       "      <th>mbart_predictions</th>\n",
       "      <th>mt5_predictions</th>\n",
       "      <th>summarunner_predictions</th>\n",
       "      <th>llama_7b_predictions</th>\n",
       "      <th>starling_predictions</th>\n",
       "      <th>...</th>\n",
       "      <th>yagpt3_predictions_rouge2</th>\n",
       "      <th>yagpt3_predictions_rougeL</th>\n",
       "      <th>yagpt3_predictions_rougeLsum</th>\n",
       "      <th>mbart_predictions_meteor</th>\n",
       "      <th>mt5_predictions_meteor</th>\n",
       "      <th>summarunner_predictions_meteor</th>\n",
       "      <th>llama_7b_predictions_meteor</th>\n",
       "      <th>starling_predictions_meteor</th>\n",
       "      <th>yagpt_predictions_meteor</th>\n",
       "      <th>yagpt3_predictions_meteor</th>\n",
       "    </tr>\n",
       "  </thead>\n",
       "  <tbody>\n",
       "    <tr>\n",
       "      <th>0</th>\n",
       "      <td>53</td>\n",
       "      <td>53</td>\n",
       "      <td>Названа опасность постоянно включенного Blueto...</td>\n",
       "      <td>Постоянно включенный Bluetooth на смартфоне гр...</td>\n",
       "      <td>Активированный в смартфоне Bluetooth может пре...</td>\n",
       "      <td>Постоянно включенный Bluetooth на смартфоне гр...</td>\n",
       "      <td>Эксперты предупреждают о том, что отключать Bl...</td>\n",
       "      <td>постоянно включенный bluetooth на смартфоне гр...</td>\n",
       "      <td>Bluetooth постоянно включен, это опасно, так к...</td>\n",
       "      <td>Постоянно включенный Bluetooth может создавать...</td>\n",
       "      <td>...</td>\n",
       "      <td>0.011561</td>\n",
       "      <td>0.102857</td>\n",
       "      <td>0.114286</td>\n",
       "      <td>0.126459</td>\n",
       "      <td>0.053648</td>\n",
       "      <td>0.168245</td>\n",
       "      <td>0.207257</td>\n",
       "      <td>0.127202</td>\n",
       "      <td>0.168304</td>\n",
       "      <td>0.139373</td>\n",
       "    </tr>\n",
       "    <tr>\n",
       "      <th>1</th>\n",
       "      <td>244</td>\n",
       "      <td>244</td>\n",
       "      <td>Колесникова проходит подозреваемой по делу о з...</td>\n",
       "      <td>Член президиума координационного совета оппози...</td>\n",
       "      <td>Члена президиума оппозиционного Координационно...</td>\n",
       "      <td>Член президиума координационного совета оппози...</td>\n",
       "      <td>Член президиума координационного совета оппози...</td>\n",
       "      <td>член президиума координационного совета оппози...</td>\n",
       "      <td>Мария Колесникова, член президиума координацио...</td>\n",
       "      <td>Мария Колесникова, член президиума координацио...</td>\n",
       "      <td>...</td>\n",
       "      <td>0.031250</td>\n",
       "      <td>0.164948</td>\n",
       "      <td>0.175258</td>\n",
       "      <td>0.248829</td>\n",
       "      <td>0.101734</td>\n",
       "      <td>0.263807</td>\n",
       "      <td>0.231588</td>\n",
       "      <td>0.310913</td>\n",
       "      <td>0.327753</td>\n",
       "      <td>0.224195</td>\n",
       "    </tr>\n",
       "    <tr>\n",
       "      <th>2</th>\n",
       "      <td>260</td>\n",
       "      <td>260</td>\n",
       "      <td>Deutsche Bank: в мире наступает эпоха беспорядка</td>\n",
       "      <td>Аналитики Deutsche Bank обнародовали исследова...</td>\n",
       "      <td>В истории человечества наступает эпоха беспоря...</td>\n",
       "      <td>В 2020 году в мире наступит новая эпоха беспор...</td>\n",
       "      <td>Пандемия коронавируса привела к появлениям нов...</td>\n",
       "      <td>аналитики deutsche bank обнародовали исследова...</td>\n",
       "      <td>Аналитики Deutsche Bank предсказали наступлени...</td>\n",
       "      <td>Аналитики Deutsche Bank предполагают, что 2020...</td>\n",
       "      <td>...</td>\n",
       "      <td>0.078431</td>\n",
       "      <td>0.193548</td>\n",
       "      <td>0.245161</td>\n",
       "      <td>0.309631</td>\n",
       "      <td>0.086664</td>\n",
       "      <td>0.314012</td>\n",
       "      <td>0.262029</td>\n",
       "      <td>0.238650</td>\n",
       "      <td>0.295642</td>\n",
       "      <td>0.311487</td>\n",
       "    </tr>\n",
       "    <tr>\n",
       "      <th>3</th>\n",
       "      <td>355</td>\n",
       "      <td>355</td>\n",
       "      <td>«Ъ»: Минтранс подготовил проект поправок к ПДД</td>\n",
       "      <td>ГИБДД совместно с Минтрансом разработала масшт...</td>\n",
       "      <td>Масштабный проект изменений в ПДД подготовили ...</td>\n",
       "      <td>ГИБДД совместно с Минтрансом разработала масшт...</td>\n",
       "      <td>В Госдуму вступили в силу поправки в правила д...</td>\n",
       "      <td>гибдд совместно с минтрансом разработала масшт...</td>\n",
       "      <td>ГИБДД и Минтранс разработали проект изменений ...</td>\n",
       "      <td>ГИБДД и Минтранс разработали проект изменений ...</td>\n",
       "      <td>...</td>\n",
       "      <td>0.095238</td>\n",
       "      <td>0.224299</td>\n",
       "      <td>0.205607</td>\n",
       "      <td>0.306315</td>\n",
       "      <td>0.082645</td>\n",
       "      <td>0.233184</td>\n",
       "      <td>0.256739</td>\n",
       "      <td>0.270406</td>\n",
       "      <td>0.338463</td>\n",
       "      <td>0.296722</td>\n",
       "    </tr>\n",
       "    <tr>\n",
       "      <th>4</th>\n",
       "      <td>653</td>\n",
       "      <td>653</td>\n",
       "      <td>Tesla выпустит бюджетный беспилотник в 2023 году</td>\n",
       "      <td>Вечером 22 сентября на конференции Battery Day...</td>\n",
       "      <td>Миллиардер Илон Маск пообещал представить бюдж...</td>\n",
       "      <td>На конференции Battery Day глава Tesla Илон Ма...</td>\n",
       "      <td>Илон Маск рассчитывает вывести на рынок бюджет...</td>\n",
       "      <td>вечером 22 сентября на конференции battery day...</td>\n",
       "      <td>Илон Маск представил планы Tesla по выходу на ...</td>\n",
       "      <td>В ходе конференции Tesla Battery Day, Илон Мас...</td>\n",
       "      <td>...</td>\n",
       "      <td>0.108434</td>\n",
       "      <td>0.190476</td>\n",
       "      <td>0.238095</td>\n",
       "      <td>0.098891</td>\n",
       "      <td>0.100573</td>\n",
       "      <td>0.146562</td>\n",
       "      <td>0.227205</td>\n",
       "      <td>0.193430</td>\n",
       "      <td>0.202198</td>\n",
       "      <td>0.251442</td>\n",
       "    </tr>\n",
       "  </tbody>\n",
       "</table>\n",
       "<p>5 rows × 75 columns</p>\n",
       "</div>"
      ],
      "text/plain": [
       "   Unnamed: 0.1  Ind                                              title  \\\n",
       "0            53   53  Названа опасность постоянно включенного Blueto...   \n",
       "1           244  244  Колесникова проходит подозреваемой по делу о з...   \n",
       "2           260  260  Deutsche Bank: в мире наступает эпоха беспорядка    \n",
       "3           355  355    «Ъ»: Минтранс подготовил проект поправок к ПДД    \n",
       "4           653  653  Tesla выпустит бюджетный беспилотник в 2023 году    \n",
       "\n",
       "                                                text  \\\n",
       "0  Постоянно включенный Bluetooth на смартфоне гр...   \n",
       "1  Член президиума координационного совета оппози...   \n",
       "2  Аналитики Deutsche Bank обнародовали исследова...   \n",
       "3  ГИБДД совместно с Минтрансом разработала масшт...   \n",
       "4  Вечером 22 сентября на конференции Battery Day...   \n",
       "\n",
       "                                             summary  \\\n",
       "0  Активированный в смартфоне Bluetooth может пре...   \n",
       "1  Члена президиума оппозиционного Координационно...   \n",
       "2  В истории человечества наступает эпоха беспоря...   \n",
       "3  Масштабный проект изменений в ПДД подготовили ...   \n",
       "4  Миллиардер Илон Маск пообещал представить бюдж...   \n",
       "\n",
       "                                   mbart_predictions  \\\n",
       "0  Постоянно включенный Bluetooth на смартфоне гр...   \n",
       "1  Член президиума координационного совета оппози...   \n",
       "2  В 2020 году в мире наступит новая эпоха беспор...   \n",
       "3  ГИБДД совместно с Минтрансом разработала масшт...   \n",
       "4  На конференции Battery Day глава Tesla Илон Ма...   \n",
       "\n",
       "                                     mt5_predictions  \\\n",
       "0  Эксперты предупреждают о том, что отключать Bl...   \n",
       "1  Член президиума координационного совета оппози...   \n",
       "2  Пандемия коронавируса привела к появлениям нов...   \n",
       "3  В Госдуму вступили в силу поправки в правила д...   \n",
       "4  Илон Маск рассчитывает вывести на рынок бюджет...   \n",
       "\n",
       "                             summarunner_predictions  \\\n",
       "0  постоянно включенный bluetooth на смартфоне гр...   \n",
       "1  член президиума координационного совета оппози...   \n",
       "2  аналитики deutsche bank обнародовали исследова...   \n",
       "3  гибдд совместно с минтрансом разработала масшт...   \n",
       "4  вечером 22 сентября на конференции battery day...   \n",
       "\n",
       "                                llama_7b_predictions  \\\n",
       "0  Bluetooth постоянно включен, это опасно, так к...   \n",
       "1  Мария Колесникова, член президиума координацио...   \n",
       "2  Аналитики Deutsche Bank предсказали наступлени...   \n",
       "3  ГИБДД и Минтранс разработали проект изменений ...   \n",
       "4  Илон Маск представил планы Tesla по выходу на ...   \n",
       "\n",
       "                                starling_predictions  ...  \\\n",
       "0  Постоянно включенный Bluetooth может создавать...  ...   \n",
       "1  Мария Колесникова, член президиума координацио...  ...   \n",
       "2  Аналитики Deutsche Bank предполагают, что 2020...  ...   \n",
       "3  ГИБДД и Минтранс разработали проект изменений ...  ...   \n",
       "4  В ходе конференции Tesla Battery Day, Илон Мас...  ...   \n",
       "\n",
       "  yagpt3_predictions_rouge2 yagpt3_predictions_rougeL  \\\n",
       "0                  0.011561                  0.102857   \n",
       "1                  0.031250                  0.164948   \n",
       "2                  0.078431                  0.193548   \n",
       "3                  0.095238                  0.224299   \n",
       "4                  0.108434                  0.190476   \n",
       "\n",
       "   yagpt3_predictions_rougeLsum  mbart_predictions_meteor  \\\n",
       "0                      0.114286                  0.126459   \n",
       "1                      0.175258                  0.248829   \n",
       "2                      0.245161                  0.309631   \n",
       "3                      0.205607                  0.306315   \n",
       "4                      0.238095                  0.098891   \n",
       "\n",
       "   mt5_predictions_meteor  summarunner_predictions_meteor  \\\n",
       "0                0.053648                        0.168245   \n",
       "1                0.101734                        0.263807   \n",
       "2                0.086664                        0.314012   \n",
       "3                0.082645                        0.233184   \n",
       "4                0.100573                        0.146562   \n",
       "\n",
       "   llama_7b_predictions_meteor  starling_predictions_meteor  \\\n",
       "0                     0.207257                     0.127202   \n",
       "1                     0.231588                     0.310913   \n",
       "2                     0.262029                     0.238650   \n",
       "3                     0.256739                     0.270406   \n",
       "4                     0.227205                     0.193430   \n",
       "\n",
       "   yagpt_predictions_meteor  yagpt3_predictions_meteor  \n",
       "0                  0.168304                   0.139373  \n",
       "1                  0.327753                   0.224195  \n",
       "2                  0.295642                   0.311487  \n",
       "3                  0.338463                   0.296722  \n",
       "4                  0.202198                   0.251442  \n",
       "\n",
       "[5 rows x 75 columns]"
      ]
     },
     "execution_count": 14,
     "metadata": {},
     "output_type": "execute_result"
    }
   ],
   "source": [
    "gazeta_metrics.head()"
   ]
  },
  {
   "cell_type": "code",
   "execution_count": 15,
   "id": "3375ddca-0238-40a8-9725-c950ee0e6c3d",
   "metadata": {},
   "outputs": [
    {
     "data": {
      "text/html": [
       "<div>\n",
       "<style scoped>\n",
       "    .dataframe tbody tr th:only-of-type {\n",
       "        vertical-align: middle;\n",
       "    }\n",
       "\n",
       "    .dataframe tbody tr th {\n",
       "        vertical-align: top;\n",
       "    }\n",
       "\n",
       "    .dataframe thead th {\n",
       "        text-align: right;\n",
       "    }\n",
       "</style>\n",
       "<table border=\"1\" class=\"dataframe\">\n",
       "  <thead>\n",
       "    <tr style=\"text-align: right;\">\n",
       "      <th></th>\n",
       "      <th>Ind</th>\n",
       "      <th>title</th>\n",
       "      <th>text</th>\n",
       "      <th>summary</th>\n",
       "      <th>mbart_predictions</th>\n",
       "      <th>mt5_predictions</th>\n",
       "      <th>summarunner_predictions</th>\n",
       "      <th>mbart_predictions_bleu</th>\n",
       "      <th>mt5_predictions_bleu</th>\n",
       "      <th>summarunner_predictions_bleu</th>\n",
       "      <th>...</th>\n",
       "      <th>yagpt3_predictions_rouge2</th>\n",
       "      <th>yagpt3_predictions_rougeL</th>\n",
       "      <th>yagpt3_predictions_rougeLsum</th>\n",
       "      <th>mbart_predictions_meteor</th>\n",
       "      <th>mt5_predictions_meteor</th>\n",
       "      <th>summarunner_predictions_meteor</th>\n",
       "      <th>llama_7b_predictions_meteor</th>\n",
       "      <th>starling_predictions_meteor</th>\n",
       "      <th>yagpt_predictions_meteor</th>\n",
       "      <th>yagpt3_predictions_meteor</th>\n",
       "    </tr>\n",
       "  </thead>\n",
       "  <tbody>\n",
       "    <tr>\n",
       "      <th>0</th>\n",
       "      <td>156</td>\n",
       "      <td>wikilingua_multilingual-val-36988</td>\n",
       "      <td>Лучший путь поддержания здоровья зубов и предо...</td>\n",
       "      <td>Чистите зубы и используйте зубную нить. Не заб...</td>\n",
       "      <td>Российские стоматологи рассказали о том, как з...</td>\n",
       "      <td>Существует множество способов защитить зубы от...</td>\n",
       "      <td>выберите синюю водолазку и темный блеск для гу...</td>\n",
       "      <td>0.017496</td>\n",
       "      <td>0.005383</td>\n",
       "      <td>0.060654</td>\n",
       "      <td>...</td>\n",
       "      <td>0.034682</td>\n",
       "      <td>0.182857</td>\n",
       "      <td>0.125714</td>\n",
       "      <td>0.047393</td>\n",
       "      <td>0.036145</td>\n",
       "      <td>0.181536</td>\n",
       "      <td>0.182509</td>\n",
       "      <td>0.115063</td>\n",
       "      <td>0.231934</td>\n",
       "      <td>0.204158</td>\n",
       "    </tr>\n",
       "    <tr>\n",
       "      <th>1</th>\n",
       "      <td>400</td>\n",
       "      <td>wikilingua_multilingual-val-37232</td>\n",
       "      <td>Ваши руки - ваше сокровище, ухаживайте за ними...</td>\n",
       "      <td>Чрезмерный уход за руками. Не бросайте свою ос...</td>\n",
       "      <td>На этой неделе мы расскажем о том, как правиль...</td>\n",
       "      <td>Если вы когда-нибудь станете топ моделью, то н...</td>\n",
       "      <td>регулярно мажьте руки питательным кремом. если...</td>\n",
       "      <td>0.016922</td>\n",
       "      <td>0.011950</td>\n",
       "      <td>0.075167</td>\n",
       "      <td>...</td>\n",
       "      <td>0.033898</td>\n",
       "      <td>0.150000</td>\n",
       "      <td>0.083333</td>\n",
       "      <td>0.037221</td>\n",
       "      <td>0.050000</td>\n",
       "      <td>0.183860</td>\n",
       "      <td>0.165975</td>\n",
       "      <td>0.170541</td>\n",
       "      <td>0.162835</td>\n",
       "      <td>0.169991</td>\n",
       "    </tr>\n",
       "    <tr>\n",
       "      <th>2</th>\n",
       "      <td>472</td>\n",
       "      <td>wikilingua_multilingual-val-37304</td>\n",
       "      <td>Или поместите ее в посудомоечную машину. Когда...</td>\n",
       "      <td>После еды сложите посуду в раковину и споласки...</td>\n",
       "      <td>В сегодняшнем обзоре мы расскажем о том, как п...</td>\n",
       "      <td>Вы можете вывести пятна из стиральной машины.\\n</td>\n",
       "      <td>когда вы заметите, что она заполнена, запустит...</td>\n",
       "      <td>0.023233</td>\n",
       "      <td>0.002937</td>\n",
       "      <td>0.036801</td>\n",
       "      <td>...</td>\n",
       "      <td>0.020202</td>\n",
       "      <td>0.178218</td>\n",
       "      <td>0.217822</td>\n",
       "      <td>0.099200</td>\n",
       "      <td>0.013587</td>\n",
       "      <td>0.121951</td>\n",
       "      <td>0.192115</td>\n",
       "      <td>0.143198</td>\n",
       "      <td>0.194789</td>\n",
       "      <td>0.199416</td>\n",
       "    </tr>\n",
       "    <tr>\n",
       "      <th>3</th>\n",
       "      <td>500</td>\n",
       "      <td>wikilingua_multilingual-val-37332</td>\n",
       "      <td>Все люди видят сны, и часто не по одному за но...</td>\n",
       "      <td>Ведите дневник сновидений. Делайте записи в дн...</td>\n",
       "      <td>В преддверии ночи, когда вы проснетесь из-за с...</td>\n",
       "      <td>Сношения во сне могут помочь вам лучше понимат...</td>\n",
       "      <td>записывайте все мельчайшие детали, а также фик...</td>\n",
       "      <td>0.066542</td>\n",
       "      <td>0.058565</td>\n",
       "      <td>0.039209</td>\n",
       "      <td>...</td>\n",
       "      <td>0.000000</td>\n",
       "      <td>0.074627</td>\n",
       "      <td>0.059701</td>\n",
       "      <td>0.103093</td>\n",
       "      <td>0.051546</td>\n",
       "      <td>0.225160</td>\n",
       "      <td>0.174309</td>\n",
       "      <td>0.226337</td>\n",
       "      <td>0.250197</td>\n",
       "      <td>0.104895</td>\n",
       "    </tr>\n",
       "    <tr>\n",
       "      <th>4</th>\n",
       "      <td>501</td>\n",
       "      <td>wikilingua_multilingual-val-37333</td>\n",
       "      <td>. Прежде всего вам необходимо начинать поиски ...</td>\n",
       "      <td>Найдите свое определение любви Учитывайте разн...</td>\n",
       "      <td>В сегодняшнем материале мы поговорим о том, ка...</td>\n",
       "      <td>Любовь - это явление, которое можно описать ка...</td>\n",
       "      <td>в контексте романтической любви многие нередко...</td>\n",
       "      <td>0.051349</td>\n",
       "      <td>0.049504</td>\n",
       "      <td>0.029521</td>\n",
       "      <td>...</td>\n",
       "      <td>0.012987</td>\n",
       "      <td>0.115385</td>\n",
       "      <td>0.128205</td>\n",
       "      <td>0.106007</td>\n",
       "      <td>0.054945</td>\n",
       "      <td>0.182371</td>\n",
       "      <td>0.241204</td>\n",
       "      <td>0.163728</td>\n",
       "      <td>0.169492</td>\n",
       "      <td>0.171053</td>\n",
       "    </tr>\n",
       "  </tbody>\n",
       "</table>\n",
       "<p>5 rows × 77 columns</p>\n",
       "</div>"
      ],
      "text/plain": [
       "   Ind                              title  \\\n",
       "0  156  wikilingua_multilingual-val-36988   \n",
       "1  400  wikilingua_multilingual-val-37232   \n",
       "2  472  wikilingua_multilingual-val-37304   \n",
       "3  500  wikilingua_multilingual-val-37332   \n",
       "4  501  wikilingua_multilingual-val-37333   \n",
       "\n",
       "                                                text  \\\n",
       "0  Лучший путь поддержания здоровья зубов и предо...   \n",
       "1  Ваши руки - ваше сокровище, ухаживайте за ними...   \n",
       "2  Или поместите ее в посудомоечную машину. Когда...   \n",
       "3  Все люди видят сны, и часто не по одному за но...   \n",
       "4  . Прежде всего вам необходимо начинать поиски ...   \n",
       "\n",
       "                                             summary  \\\n",
       "0  Чистите зубы и используйте зубную нить. Не заб...   \n",
       "1  Чрезмерный уход за руками. Не бросайте свою ос...   \n",
       "2  После еды сложите посуду в раковину и споласки...   \n",
       "3  Ведите дневник сновидений. Делайте записи в дн...   \n",
       "4  Найдите свое определение любви Учитывайте разн...   \n",
       "\n",
       "                                   mbart_predictions  \\\n",
       "0  Российские стоматологи рассказали о том, как з...   \n",
       "1  На этой неделе мы расскажем о том, как правиль...   \n",
       "2  В сегодняшнем обзоре мы расскажем о том, как п...   \n",
       "3  В преддверии ночи, когда вы проснетесь из-за с...   \n",
       "4  В сегодняшнем материале мы поговорим о том, ка...   \n",
       "\n",
       "                                     mt5_predictions  \\\n",
       "0  Существует множество способов защитить зубы от...   \n",
       "1  Если вы когда-нибудь станете топ моделью, то н...   \n",
       "2    Вы можете вывести пятна из стиральной машины.\\n   \n",
       "3  Сношения во сне могут помочь вам лучше понимат...   \n",
       "4  Любовь - это явление, которое можно описать ка...   \n",
       "\n",
       "                             summarunner_predictions  mbart_predictions_bleu  \\\n",
       "0  выберите синюю водолазку и темный блеск для гу...                0.017496   \n",
       "1  регулярно мажьте руки питательным кремом. если...                0.016922   \n",
       "2  когда вы заметите, что она заполнена, запустит...                0.023233   \n",
       "3  записывайте все мельчайшие детали, а также фик...                0.066542   \n",
       "4  в контексте романтической любви многие нередко...                0.051349   \n",
       "\n",
       "   mt5_predictions_bleu  summarunner_predictions_bleu  ...  \\\n",
       "0              0.005383                      0.060654  ...   \n",
       "1              0.011950                      0.075167  ...   \n",
       "2              0.002937                      0.036801  ...   \n",
       "3              0.058565                      0.039209  ...   \n",
       "4              0.049504                      0.029521  ...   \n",
       "\n",
       "  yagpt3_predictions_rouge2 yagpt3_predictions_rougeL  \\\n",
       "0                  0.034682                  0.182857   \n",
       "1                  0.033898                  0.150000   \n",
       "2                  0.020202                  0.178218   \n",
       "3                  0.000000                  0.074627   \n",
       "4                  0.012987                  0.115385   \n",
       "\n",
       "  yagpt3_predictions_rougeLsum mbart_predictions_meteor  \\\n",
       "0                     0.125714                 0.047393   \n",
       "1                     0.083333                 0.037221   \n",
       "2                     0.217822                 0.099200   \n",
       "3                     0.059701                 0.103093   \n",
       "4                     0.128205                 0.106007   \n",
       "\n",
       "   mt5_predictions_meteor  summarunner_predictions_meteor  \\\n",
       "0                0.036145                        0.181536   \n",
       "1                0.050000                        0.183860   \n",
       "2                0.013587                        0.121951   \n",
       "3                0.051546                        0.225160   \n",
       "4                0.054945                        0.182371   \n",
       "\n",
       "   llama_7b_predictions_meteor  starling_predictions_meteor  \\\n",
       "0                     0.182509                     0.115063   \n",
       "1                     0.165975                     0.170541   \n",
       "2                     0.192115                     0.143198   \n",
       "3                     0.174309                     0.226337   \n",
       "4                     0.241204                     0.163728   \n",
       "\n",
       "   yagpt_predictions_meteor  yagpt3_predictions_meteor  \n",
       "0                  0.231934                   0.204158  \n",
       "1                  0.162835                   0.169991  \n",
       "2                  0.194789                   0.199416  \n",
       "3                  0.250197                   0.104895  \n",
       "4                  0.169492                   0.171053  \n",
       "\n",
       "[5 rows x 77 columns]"
      ]
     },
     "execution_count": 15,
     "metadata": {},
     "output_type": "execute_result"
    }
   ],
   "source": [
    "wikilingua_metrics.head()"
   ]
  },
  {
   "cell_type": "code",
   "execution_count": 16,
   "id": "3d2413b4-5efb-4f21-9f37-47c196814ee4",
   "metadata": {},
   "outputs": [
    {
     "name": "stdout",
     "output_type": "stream",
     "text": [
      "65 35\n"
     ]
    }
   ],
   "source": [
    "wikilingua_metrics = wikilingua_metrics[[column for column in wikilingua_metrics.columns if \"Ind\" not in column and \"Unnamed\" not in column]]\n",
    "gazeta_metrics = gazeta_metrics[[column for column in gazeta_metrics.columns if \"Ind\" not in column and \"Unnamed\" not in column]]\n",
    "\n",
    "print(len(gazeta_metrics), len(wikilingua_metrics))"
   ]
  },
  {
   "cell_type": "code",
   "execution_count": 17,
   "id": "54d4dc64-e057-48e3-9efa-7c6e41b1795e",
   "metadata": {},
   "outputs": [
    {
     "data": {
      "text/html": [
       "<div>\n",
       "<style scoped>\n",
       "    .dataframe tbody tr th:only-of-type {\n",
       "        vertical-align: middle;\n",
       "    }\n",
       "\n",
       "    .dataframe tbody tr th {\n",
       "        vertical-align: top;\n",
       "    }\n",
       "\n",
       "    .dataframe thead th {\n",
       "        text-align: right;\n",
       "    }\n",
       "</style>\n",
       "<table border=\"1\" class=\"dataframe\">\n",
       "  <thead>\n",
       "    <tr style=\"text-align: right;\">\n",
       "      <th></th>\n",
       "      <th>title</th>\n",
       "      <th>text</th>\n",
       "      <th>summary</th>\n",
       "      <th>mbart_predictions</th>\n",
       "      <th>mt5_predictions</th>\n",
       "      <th>summarunner_predictions</th>\n",
       "      <th>mbart_predictions_bleu</th>\n",
       "      <th>mt5_predictions_bleu</th>\n",
       "      <th>summarunner_predictions_bleu</th>\n",
       "      <th>llama_7b_predictions</th>\n",
       "      <th>...</th>\n",
       "      <th>yagpt3_predictions_rouge2</th>\n",
       "      <th>yagpt3_predictions_rougeL</th>\n",
       "      <th>yagpt3_predictions_rougeLsum</th>\n",
       "      <th>mbart_predictions_meteor</th>\n",
       "      <th>mt5_predictions_meteor</th>\n",
       "      <th>summarunner_predictions_meteor</th>\n",
       "      <th>llama_7b_predictions_meteor</th>\n",
       "      <th>starling_predictions_meteor</th>\n",
       "      <th>yagpt_predictions_meteor</th>\n",
       "      <th>yagpt3_predictions_meteor</th>\n",
       "    </tr>\n",
       "  </thead>\n",
       "  <tbody>\n",
       "    <tr>\n",
       "      <th>0</th>\n",
       "      <td>wikilingua_multilingual-val-36988</td>\n",
       "      <td>Лучший путь поддержания здоровья зубов и предо...</td>\n",
       "      <td>Чистите зубы и используйте зубную нить. Не заб...</td>\n",
       "      <td>Российские стоматологи рассказали о том, как з...</td>\n",
       "      <td>Существует множество способов защитить зубы от...</td>\n",
       "      <td>выберите синюю водолазку и темный блеск для гу...</td>\n",
       "      <td>0.017496</td>\n",
       "      <td>0.005383</td>\n",
       "      <td>0.060654</td>\n",
       "      <td>Чистите зубы каждый день, пользовайтесь зубной...</td>\n",
       "      <td>...</td>\n",
       "      <td>0.034682</td>\n",
       "      <td>0.182857</td>\n",
       "      <td>0.125714</td>\n",
       "      <td>0.047393</td>\n",
       "      <td>0.036145</td>\n",
       "      <td>0.181536</td>\n",
       "      <td>0.182509</td>\n",
       "      <td>0.115063</td>\n",
       "      <td>0.231934</td>\n",
       "      <td>0.204158</td>\n",
       "    </tr>\n",
       "    <tr>\n",
       "      <th>1</th>\n",
       "      <td>wikilingua_multilingual-val-37232</td>\n",
       "      <td>Ваши руки - ваше сокровище, ухаживайте за ними...</td>\n",
       "      <td>Чрезмерный уход за руками. Не бросайте свою ос...</td>\n",
       "      <td>На этой неделе мы расскажем о том, как правиль...</td>\n",
       "      <td>Если вы когда-нибудь станете топ моделью, то н...</td>\n",
       "      <td>регулярно мажьте руки питательным кремом. если...</td>\n",
       "      <td>0.016922</td>\n",
       "      <td>0.011950</td>\n",
       "      <td>0.075167</td>\n",
       "      <td>Ваши руки - ваше сокровище, ухаживайте за ними...</td>\n",
       "      <td>...</td>\n",
       "      <td>0.033898</td>\n",
       "      <td>0.150000</td>\n",
       "      <td>0.083333</td>\n",
       "      <td>0.037221</td>\n",
       "      <td>0.050000</td>\n",
       "      <td>0.183860</td>\n",
       "      <td>0.165975</td>\n",
       "      <td>0.170541</td>\n",
       "      <td>0.162835</td>\n",
       "      <td>0.169991</td>\n",
       "    </tr>\n",
       "    <tr>\n",
       "      <th>2</th>\n",
       "      <td>wikilingua_multilingual-val-37304</td>\n",
       "      <td>Или поместите ее в посудомоечную машину. Когда...</td>\n",
       "      <td>После еды сложите посуду в раковину и споласки...</td>\n",
       "      <td>В сегодняшнем обзоре мы расскажем о том, как п...</td>\n",
       "      <td>Вы можете вывести пятна из стиральной машины.\\n</td>\n",
       "      <td>когда вы заметите, что она заполнена, запустит...</td>\n",
       "      <td>0.023233</td>\n",
       "      <td>0.002937</td>\n",
       "      <td>0.036801</td>\n",
       "      <td>Используйте посудомоечную машину для стирки од...</td>\n",
       "      <td>...</td>\n",
       "      <td>0.020202</td>\n",
       "      <td>0.178218</td>\n",
       "      <td>0.217822</td>\n",
       "      <td>0.099200</td>\n",
       "      <td>0.013587</td>\n",
       "      <td>0.121951</td>\n",
       "      <td>0.192115</td>\n",
       "      <td>0.143198</td>\n",
       "      <td>0.194789</td>\n",
       "      <td>0.199416</td>\n",
       "    </tr>\n",
       "    <tr>\n",
       "      <th>3</th>\n",
       "      <td>wikilingua_multilingual-val-37332</td>\n",
       "      <td>Все люди видят сны, и часто не по одному за но...</td>\n",
       "      <td>Ведите дневник сновидений. Делайте записи в дн...</td>\n",
       "      <td>В преддверии ночи, когда вы проснетесь из-за с...</td>\n",
       "      <td>Сношения во сне могут помочь вам лучше понимат...</td>\n",
       "      <td>записывайте все мельчайшие детали, а также фик...</td>\n",
       "      <td>0.066542</td>\n",
       "      <td>0.058565</td>\n",
       "      <td>0.039209</td>\n",
       "      <td>Записывайте сны сразу после пробуждения, чтобы...</td>\n",
       "      <td>...</td>\n",
       "      <td>0.000000</td>\n",
       "      <td>0.074627</td>\n",
       "      <td>0.059701</td>\n",
       "      <td>0.103093</td>\n",
       "      <td>0.051546</td>\n",
       "      <td>0.225160</td>\n",
       "      <td>0.174309</td>\n",
       "      <td>0.226337</td>\n",
       "      <td>0.250197</td>\n",
       "      <td>0.104895</td>\n",
       "    </tr>\n",
       "    <tr>\n",
       "      <th>4</th>\n",
       "      <td>wikilingua_multilingual-val-37333</td>\n",
       "      <td>. Прежде всего вам необходимо начинать поиски ...</td>\n",
       "      <td>Найдите свое определение любви Учитывайте разн...</td>\n",
       "      <td>В сегодняшнем материале мы поговорим о том, ка...</td>\n",
       "      <td>Любовь - это явление, которое можно описать ка...</td>\n",
       "      <td>в контексте романтической любви многие нередко...</td>\n",
       "      <td>0.051349</td>\n",
       "      <td>0.049504</td>\n",
       "      <td>0.029521</td>\n",
       "      <td>Любовь — это сильное расположение и привязанно...</td>\n",
       "      <td>...</td>\n",
       "      <td>0.012987</td>\n",
       "      <td>0.115385</td>\n",
       "      <td>0.128205</td>\n",
       "      <td>0.106007</td>\n",
       "      <td>0.054945</td>\n",
       "      <td>0.182371</td>\n",
       "      <td>0.241204</td>\n",
       "      <td>0.163728</td>\n",
       "      <td>0.169492</td>\n",
       "      <td>0.171053</td>\n",
       "    </tr>\n",
       "  </tbody>\n",
       "</table>\n",
       "<p>5 rows × 76 columns</p>\n",
       "</div>"
      ],
      "text/plain": [
       "                               title  \\\n",
       "0  wikilingua_multilingual-val-36988   \n",
       "1  wikilingua_multilingual-val-37232   \n",
       "2  wikilingua_multilingual-val-37304   \n",
       "3  wikilingua_multilingual-val-37332   \n",
       "4  wikilingua_multilingual-val-37333   \n",
       "\n",
       "                                                text  \\\n",
       "0  Лучший путь поддержания здоровья зубов и предо...   \n",
       "1  Ваши руки - ваше сокровище, ухаживайте за ними...   \n",
       "2  Или поместите ее в посудомоечную машину. Когда...   \n",
       "3  Все люди видят сны, и часто не по одному за но...   \n",
       "4  . Прежде всего вам необходимо начинать поиски ...   \n",
       "\n",
       "                                             summary  \\\n",
       "0  Чистите зубы и используйте зубную нить. Не заб...   \n",
       "1  Чрезмерный уход за руками. Не бросайте свою ос...   \n",
       "2  После еды сложите посуду в раковину и споласки...   \n",
       "3  Ведите дневник сновидений. Делайте записи в дн...   \n",
       "4  Найдите свое определение любви Учитывайте разн...   \n",
       "\n",
       "                                   mbart_predictions  \\\n",
       "0  Российские стоматологи рассказали о том, как з...   \n",
       "1  На этой неделе мы расскажем о том, как правиль...   \n",
       "2  В сегодняшнем обзоре мы расскажем о том, как п...   \n",
       "3  В преддверии ночи, когда вы проснетесь из-за с...   \n",
       "4  В сегодняшнем материале мы поговорим о том, ка...   \n",
       "\n",
       "                                     mt5_predictions  \\\n",
       "0  Существует множество способов защитить зубы от...   \n",
       "1  Если вы когда-нибудь станете топ моделью, то н...   \n",
       "2    Вы можете вывести пятна из стиральной машины.\\n   \n",
       "3  Сношения во сне могут помочь вам лучше понимат...   \n",
       "4  Любовь - это явление, которое можно описать ка...   \n",
       "\n",
       "                             summarunner_predictions  mbart_predictions_bleu  \\\n",
       "0  выберите синюю водолазку и темный блеск для гу...                0.017496   \n",
       "1  регулярно мажьте руки питательным кремом. если...                0.016922   \n",
       "2  когда вы заметите, что она заполнена, запустит...                0.023233   \n",
       "3  записывайте все мельчайшие детали, а также фик...                0.066542   \n",
       "4  в контексте романтической любви многие нередко...                0.051349   \n",
       "\n",
       "   mt5_predictions_bleu  summarunner_predictions_bleu  \\\n",
       "0              0.005383                      0.060654   \n",
       "1              0.011950                      0.075167   \n",
       "2              0.002937                      0.036801   \n",
       "3              0.058565                      0.039209   \n",
       "4              0.049504                      0.029521   \n",
       "\n",
       "                                llama_7b_predictions  ...  \\\n",
       "0  Чистите зубы каждый день, пользовайтесь зубной...  ...   \n",
       "1  Ваши руки - ваше сокровище, ухаживайте за ними...  ...   \n",
       "2  Используйте посудомоечную машину для стирки од...  ...   \n",
       "3  Записывайте сны сразу после пробуждения, чтобы...  ...   \n",
       "4  Любовь — это сильное расположение и привязанно...  ...   \n",
       "\n",
       "  yagpt3_predictions_rouge2 yagpt3_predictions_rougeL  \\\n",
       "0                  0.034682                  0.182857   \n",
       "1                  0.033898                  0.150000   \n",
       "2                  0.020202                  0.178218   \n",
       "3                  0.000000                  0.074627   \n",
       "4                  0.012987                  0.115385   \n",
       "\n",
       "  yagpt3_predictions_rougeLsum  mbart_predictions_meteor  \\\n",
       "0                     0.125714                  0.047393   \n",
       "1                     0.083333                  0.037221   \n",
       "2                     0.217822                  0.099200   \n",
       "3                     0.059701                  0.103093   \n",
       "4                     0.128205                  0.106007   \n",
       "\n",
       "   mt5_predictions_meteor  summarunner_predictions_meteor  \\\n",
       "0                0.036145                        0.181536   \n",
       "1                0.050000                        0.183860   \n",
       "2                0.013587                        0.121951   \n",
       "3                0.051546                        0.225160   \n",
       "4                0.054945                        0.182371   \n",
       "\n",
       "   llama_7b_predictions_meteor  starling_predictions_meteor  \\\n",
       "0                     0.182509                     0.115063   \n",
       "1                     0.165975                     0.170541   \n",
       "2                     0.192115                     0.143198   \n",
       "3                     0.174309                     0.226337   \n",
       "4                     0.241204                     0.163728   \n",
       "\n",
       "   yagpt_predictions_meteor  yagpt3_predictions_meteor  \n",
       "0                  0.231934                   0.204158  \n",
       "1                  0.162835                   0.169991  \n",
       "2                  0.194789                   0.199416  \n",
       "3                  0.250197                   0.104895  \n",
       "4                  0.169492                   0.171053  \n",
       "\n",
       "[5 rows x 76 columns]"
      ]
     },
     "execution_count": 17,
     "metadata": {},
     "output_type": "execute_result"
    }
   ],
   "source": [
    "wikilingua_metrics.head()"
   ]
  },
  {
   "cell_type": "code",
   "execution_count": 18,
   "id": "601aede6-c270-48a7-8a75-3efbcb34f456",
   "metadata": {},
   "outputs": [
    {
     "data": {
      "text/html": [
       "<div>\n",
       "<style scoped>\n",
       "    .dataframe tbody tr th:only-of-type {\n",
       "        vertical-align: middle;\n",
       "    }\n",
       "\n",
       "    .dataframe tbody tr th {\n",
       "        vertical-align: top;\n",
       "    }\n",
       "\n",
       "    .dataframe thead th {\n",
       "        text-align: right;\n",
       "    }\n",
       "</style>\n",
       "<table border=\"1\" class=\"dataframe\">\n",
       "  <thead>\n",
       "    <tr style=\"text-align: right;\">\n",
       "      <th></th>\n",
       "      <th>title</th>\n",
       "      <th>text</th>\n",
       "      <th>summary</th>\n",
       "      <th>mbart_predictions</th>\n",
       "      <th>mt5_predictions</th>\n",
       "      <th>summarunner_predictions</th>\n",
       "      <th>llama_7b_predictions</th>\n",
       "      <th>starling_predictions</th>\n",
       "      <th>yagpt_predictions</th>\n",
       "      <th>yagpt3_predictions</th>\n",
       "      <th>...</th>\n",
       "      <th>yagpt3_predictions_rouge2</th>\n",
       "      <th>yagpt3_predictions_rougeL</th>\n",
       "      <th>yagpt3_predictions_rougeLsum</th>\n",
       "      <th>mbart_predictions_meteor</th>\n",
       "      <th>mt5_predictions_meteor</th>\n",
       "      <th>summarunner_predictions_meteor</th>\n",
       "      <th>llama_7b_predictions_meteor</th>\n",
       "      <th>starling_predictions_meteor</th>\n",
       "      <th>yagpt_predictions_meteor</th>\n",
       "      <th>yagpt3_predictions_meteor</th>\n",
       "    </tr>\n",
       "  </thead>\n",
       "  <tbody>\n",
       "    <tr>\n",
       "      <th>0</th>\n",
       "      <td>Названа опасность постоянно включенного Blueto...</td>\n",
       "      <td>Постоянно включенный Bluetooth на смартфоне гр...</td>\n",
       "      <td>Активированный в смартфоне Bluetooth может пре...</td>\n",
       "      <td>Постоянно включенный Bluetooth на смартфоне гр...</td>\n",
       "      <td>Эксперты предупреждают о том, что отключать Bl...</td>\n",
       "      <td>постоянно включенный bluetooth на смартфоне гр...</td>\n",
       "      <td>Bluetooth постоянно включен, это опасно, так к...</td>\n",
       "      <td>Постоянно включенный Bluetooth может создавать...</td>\n",
       "      <td>- Постоянно включенный Bluetooth на смартфоне ...</td>\n",
       "      <td>Доцент кафедры информатики РЭУ им. Плеханова А...</td>\n",
       "      <td>...</td>\n",
       "      <td>0.011561</td>\n",
       "      <td>0.102857</td>\n",
       "      <td>0.114286</td>\n",
       "      <td>0.126459</td>\n",
       "      <td>0.053648</td>\n",
       "      <td>0.168245</td>\n",
       "      <td>0.207257</td>\n",
       "      <td>0.127202</td>\n",
       "      <td>0.168304</td>\n",
       "      <td>0.139373</td>\n",
       "    </tr>\n",
       "    <tr>\n",
       "      <th>1</th>\n",
       "      <td>Колесникова проходит подозреваемой по делу о з...</td>\n",
       "      <td>Член президиума координационного совета оппози...</td>\n",
       "      <td>Члена президиума оппозиционного Координационно...</td>\n",
       "      <td>Член президиума координационного совета оппози...</td>\n",
       "      <td>Член президиума координационного совета оппози...</td>\n",
       "      <td>член президиума координационного совета оппози...</td>\n",
       "      <td>Мария Колесникова, член президиума координацио...</td>\n",
       "      <td>Мария Колесникова, член президиума координацио...</td>\n",
       "      <td>- Член президиума координационного совета оппо...</td>\n",
       "      <td>Мария Колесникова, член президиума координацио...</td>\n",
       "      <td>...</td>\n",
       "      <td>0.031250</td>\n",
       "      <td>0.164948</td>\n",
       "      <td>0.175258</td>\n",
       "      <td>0.248829</td>\n",
       "      <td>0.101734</td>\n",
       "      <td>0.263807</td>\n",
       "      <td>0.231588</td>\n",
       "      <td>0.310913</td>\n",
       "      <td>0.327753</td>\n",
       "      <td>0.224195</td>\n",
       "    </tr>\n",
       "    <tr>\n",
       "      <th>2</th>\n",
       "      <td>Deutsche Bank: в мире наступает эпоха беспорядка</td>\n",
       "      <td>Аналитики Deutsche Bank обнародовали исследова...</td>\n",
       "      <td>В истории человечества наступает эпоха беспоря...</td>\n",
       "      <td>В 2020 году в мире наступит новая эпоха беспор...</td>\n",
       "      <td>Пандемия коронавируса привела к появлениям нов...</td>\n",
       "      <td>аналитики deutsche bank обнародовали исследова...</td>\n",
       "      <td>Аналитики Deutsche Bank предсказали наступлени...</td>\n",
       "      <td>Аналитики Deutsche Bank предполагают, что 2020...</td>\n",
       "      <td>- Аналитики Deutsche Bank предсказали наступле...</td>\n",
       "      <td>Аналитики Deutsche Bank предсказали наступлени...</td>\n",
       "      <td>...</td>\n",
       "      <td>0.078431</td>\n",
       "      <td>0.193548</td>\n",
       "      <td>0.245161</td>\n",
       "      <td>0.309631</td>\n",
       "      <td>0.086664</td>\n",
       "      <td>0.314012</td>\n",
       "      <td>0.262029</td>\n",
       "      <td>0.238650</td>\n",
       "      <td>0.295642</td>\n",
       "      <td>0.311487</td>\n",
       "    </tr>\n",
       "    <tr>\n",
       "      <th>3</th>\n",
       "      <td>«Ъ»: Минтранс подготовил проект поправок к ПДД</td>\n",
       "      <td>ГИБДД совместно с Минтрансом разработала масшт...</td>\n",
       "      <td>Масштабный проект изменений в ПДД подготовили ...</td>\n",
       "      <td>ГИБДД совместно с Минтрансом разработала масшт...</td>\n",
       "      <td>В Госдуму вступили в силу поправки в правила д...</td>\n",
       "      <td>гибдд совместно с минтрансом разработала масшт...</td>\n",
       "      <td>ГИБДД и Минтранс разработали проект изменений ...</td>\n",
       "      <td>ГИБДД и Минтранс разработали проект изменений ...</td>\n",
       "      <td>- ГИБДД и Минтранс разработали масштабный прое...</td>\n",
       "      <td>ГИБДД совместно с Минтрансом разработали масшт...</td>\n",
       "      <td>...</td>\n",
       "      <td>0.095238</td>\n",
       "      <td>0.224299</td>\n",
       "      <td>0.205607</td>\n",
       "      <td>0.306315</td>\n",
       "      <td>0.082645</td>\n",
       "      <td>0.233184</td>\n",
       "      <td>0.256739</td>\n",
       "      <td>0.270406</td>\n",
       "      <td>0.338463</td>\n",
       "      <td>0.296722</td>\n",
       "    </tr>\n",
       "    <tr>\n",
       "      <th>4</th>\n",
       "      <td>Tesla выпустит бюджетный беспилотник в 2023 году</td>\n",
       "      <td>Вечером 22 сентября на конференции Battery Day...</td>\n",
       "      <td>Миллиардер Илон Маск пообещал представить бюдж...</td>\n",
       "      <td>На конференции Battery Day глава Tesla Илон Ма...</td>\n",
       "      <td>Илон Маск рассчитывает вывести на рынок бюджет...</td>\n",
       "      <td>вечером 22 сентября на конференции battery day...</td>\n",
       "      <td>Илон Маск представил планы Tesla по выходу на ...</td>\n",
       "      <td>В ходе конференции Tesla Battery Day, Илон Мас...</td>\n",
       "      <td>- Глава Tesla Илон Маск анонсировал вывод на р...</td>\n",
       "      <td>На конференции Battery Day Илон Маск объявил о...</td>\n",
       "      <td>...</td>\n",
       "      <td>0.108434</td>\n",
       "      <td>0.190476</td>\n",
       "      <td>0.238095</td>\n",
       "      <td>0.098891</td>\n",
       "      <td>0.100573</td>\n",
       "      <td>0.146562</td>\n",
       "      <td>0.227205</td>\n",
       "      <td>0.193430</td>\n",
       "      <td>0.202198</td>\n",
       "      <td>0.251442</td>\n",
       "    </tr>\n",
       "  </tbody>\n",
       "</table>\n",
       "<p>5 rows × 73 columns</p>\n",
       "</div>"
      ],
      "text/plain": [
       "                                               title  \\\n",
       "0  Названа опасность постоянно включенного Blueto...   \n",
       "1  Колесникова проходит подозреваемой по делу о з...   \n",
       "2  Deutsche Bank: в мире наступает эпоха беспорядка    \n",
       "3    «Ъ»: Минтранс подготовил проект поправок к ПДД    \n",
       "4  Tesla выпустит бюджетный беспилотник в 2023 году    \n",
       "\n",
       "                                                text  \\\n",
       "0  Постоянно включенный Bluetooth на смартфоне гр...   \n",
       "1  Член президиума координационного совета оппози...   \n",
       "2  Аналитики Deutsche Bank обнародовали исследова...   \n",
       "3  ГИБДД совместно с Минтрансом разработала масшт...   \n",
       "4  Вечером 22 сентября на конференции Battery Day...   \n",
       "\n",
       "                                             summary  \\\n",
       "0  Активированный в смартфоне Bluetooth может пре...   \n",
       "1  Члена президиума оппозиционного Координационно...   \n",
       "2  В истории человечества наступает эпоха беспоря...   \n",
       "3  Масштабный проект изменений в ПДД подготовили ...   \n",
       "4  Миллиардер Илон Маск пообещал представить бюдж...   \n",
       "\n",
       "                                   mbart_predictions  \\\n",
       "0  Постоянно включенный Bluetooth на смартфоне гр...   \n",
       "1  Член президиума координационного совета оппози...   \n",
       "2  В 2020 году в мире наступит новая эпоха беспор...   \n",
       "3  ГИБДД совместно с Минтрансом разработала масшт...   \n",
       "4  На конференции Battery Day глава Tesla Илон Ма...   \n",
       "\n",
       "                                     mt5_predictions  \\\n",
       "0  Эксперты предупреждают о том, что отключать Bl...   \n",
       "1  Член президиума координационного совета оппози...   \n",
       "2  Пандемия коронавируса привела к появлениям нов...   \n",
       "3  В Госдуму вступили в силу поправки в правила д...   \n",
       "4  Илон Маск рассчитывает вывести на рынок бюджет...   \n",
       "\n",
       "                             summarunner_predictions  \\\n",
       "0  постоянно включенный bluetooth на смартфоне гр...   \n",
       "1  член президиума координационного совета оппози...   \n",
       "2  аналитики deutsche bank обнародовали исследова...   \n",
       "3  гибдд совместно с минтрансом разработала масшт...   \n",
       "4  вечером 22 сентября на конференции battery day...   \n",
       "\n",
       "                                llama_7b_predictions  \\\n",
       "0  Bluetooth постоянно включен, это опасно, так к...   \n",
       "1  Мария Колесникова, член президиума координацио...   \n",
       "2  Аналитики Deutsche Bank предсказали наступлени...   \n",
       "3  ГИБДД и Минтранс разработали проект изменений ...   \n",
       "4  Илон Маск представил планы Tesla по выходу на ...   \n",
       "\n",
       "                                starling_predictions  \\\n",
       "0  Постоянно включенный Bluetooth может создавать...   \n",
       "1  Мария Колесникова, член президиума координацио...   \n",
       "2  Аналитики Deutsche Bank предполагают, что 2020...   \n",
       "3  ГИБДД и Минтранс разработали проект изменений ...   \n",
       "4  В ходе конференции Tesla Battery Day, Илон Мас...   \n",
       "\n",
       "                                   yagpt_predictions  \\\n",
       "0  - Постоянно включенный Bluetooth на смартфоне ...   \n",
       "1  - Член президиума координационного совета оппо...   \n",
       "2  - Аналитики Deutsche Bank предсказали наступле...   \n",
       "3  - ГИБДД и Минтранс разработали масштабный прое...   \n",
       "4  - Глава Tesla Илон Маск анонсировал вывод на р...   \n",
       "\n",
       "                                  yagpt3_predictions  ...  \\\n",
       "0  Доцент кафедры информатики РЭУ им. Плеханова А...  ...   \n",
       "1  Мария Колесникова, член президиума координацио...  ...   \n",
       "2  Аналитики Deutsche Bank предсказали наступлени...  ...   \n",
       "3  ГИБДД совместно с Минтрансом разработали масшт...  ...   \n",
       "4  На конференции Battery Day Илон Маск объявил о...  ...   \n",
       "\n",
       "   yagpt3_predictions_rouge2  yagpt3_predictions_rougeL  \\\n",
       "0                   0.011561                   0.102857   \n",
       "1                   0.031250                   0.164948   \n",
       "2                   0.078431                   0.193548   \n",
       "3                   0.095238                   0.224299   \n",
       "4                   0.108434                   0.190476   \n",
       "\n",
       "   yagpt3_predictions_rougeLsum  mbart_predictions_meteor  \\\n",
       "0                      0.114286                  0.126459   \n",
       "1                      0.175258                  0.248829   \n",
       "2                      0.245161                  0.309631   \n",
       "3                      0.205607                  0.306315   \n",
       "4                      0.238095                  0.098891   \n",
       "\n",
       "   mt5_predictions_meteor  summarunner_predictions_meteor  \\\n",
       "0                0.053648                        0.168245   \n",
       "1                0.101734                        0.263807   \n",
       "2                0.086664                        0.314012   \n",
       "3                0.082645                        0.233184   \n",
       "4                0.100573                        0.146562   \n",
       "\n",
       "   llama_7b_predictions_meteor  starling_predictions_meteor  \\\n",
       "0                     0.207257                     0.127202   \n",
       "1                     0.231588                     0.310913   \n",
       "2                     0.262029                     0.238650   \n",
       "3                     0.256739                     0.270406   \n",
       "4                     0.227205                     0.193430   \n",
       "\n",
       "   yagpt_predictions_meteor  yagpt3_predictions_meteor  \n",
       "0                  0.168304                   0.139373  \n",
       "1                  0.327753                   0.224195  \n",
       "2                  0.295642                   0.311487  \n",
       "3                  0.338463                   0.296722  \n",
       "4                  0.202198                   0.251442  \n",
       "\n",
       "[5 rows x 73 columns]"
      ]
     },
     "execution_count": 18,
     "metadata": {},
     "output_type": "execute_result"
    }
   ],
   "source": [
    "gazeta_metrics.head()"
   ]
  },
  {
   "cell_type": "code",
   "execution_count": 19,
   "id": "2b1c8ebc-028b-45fc-9cd5-417986396556",
   "metadata": {},
   "outputs": [],
   "source": [
    "metrics_data = pd.concat([gazeta_metrics, wikilingua_metrics])"
   ]
  },
  {
   "cell_type": "code",
   "execution_count": 20,
   "id": "f87a3266-6e40-4f9f-9ec8-402cf5c197f4",
   "metadata": {},
   "outputs": [
    {
     "name": "stdout",
     "output_type": "stream",
     "text": [
      "100\n"
     ]
    }
   ],
   "source": [
    "print(len(metrics_data))"
   ]
  },
  {
   "cell_type": "code",
   "execution_count": 21,
   "id": "13f1a13e-40ce-487b-bda0-8f7f03bf55e8",
   "metadata": {},
   "outputs": [],
   "source": [
    "metrics_data.to_csv(\"metrics_data.csv\", index=False)\n",
    "metrics_data.to_csv(\"metrics_data_ind.csv\", index=\"Ind\")"
   ]
  },
  {
   "cell_type": "markdown",
   "id": "d759e8dd-1fbf-4e22-9c1e-19d55879852e",
   "metadata": {},
   "source": [
    "# Human annotations"
   ]
  },
  {
   "cell_type": "code",
   "execution_count": 22,
   "id": "89ba4781-3891-46ea-863a-aac06021392d",
   "metadata": {},
   "outputs": [],
   "source": [
    "gazeta_expert = pd.read_csv(\"compiled_expert_data_gazeta.csv\")\n",
    "wikilingua_expert = pd.read_csv(\"compiled_expert_data_wikilingua.csv\")"
   ]
  },
  {
   "cell_type": "code",
   "execution_count": 23,
   "id": "45f53c24-0801-4059-86bd-5bd0391447f3",
   "metadata": {},
   "outputs": [],
   "source": [
    "gazeta_expert = gazeta_expert[[column for column in gazeta_expert.columns if \"Ind\" not in column and \"Комментарий\" not in column]]\n",
    "wikilingua_expert = wikilingua_expert[[column for column in wikilingua_expert.columns if \"Ind\" not in column and \"Комментарий\" not in column]]"
   ]
  },
  {
   "cell_type": "code",
   "execution_count": 24,
   "id": "bf5c033c-0f49-44a1-9e2a-3017561f5ef0",
   "metadata": {},
   "outputs": [
    {
     "name": "stdout",
     "output_type": "stream",
     "text": [
      "41 Index(['text', 'summary', 'summary_Актуальность', 'summary_Последовательность',\n",
      "       'summary_Беглость', 'summary_Согласованность', 'mbart_predictions',\n",
      "       'mbart_predictions_Актуальность',\n",
      "       'mbart_predictions_Последовательность', 'mbart_predictions_Беглость',\n",
      "       'mbart_predictions_Согласованность', 'mt5_predictions',\n",
      "       'mt5_predictions_Актуальность', 'mt5_predictions_Последовательность',\n",
      "       'mt5_predictions_Беглость', 'mt5_predictions_Согласованность',\n",
      "       'summarunner_predictions', 'summarunner_predictions_Актуальность',\n",
      "       'summarunner_predictions_Последовательность',\n",
      "       'summarunner_predictions_Беглость',\n",
      "       'summarunner_predictions_Согласованность', 'llama_7b_predictions',\n",
      "       'llama_7b_predictions_Актуальность',\n",
      "       'llama_7b_predictions_Последовательность',\n",
      "       'llama_7b_predictions_Беглость', 'llama_7b_predictions_Согласованность',\n",
      "       'starling_predictions', 'starling_predictions_Актуальность',\n",
      "       'starling_predictions_Последовательность',\n",
      "       'starling_predictions_Беглость', 'starling_predictions_Согласованность',\n",
      "       'yagpt_predictions', 'yagpt_predictions_Актуальность',\n",
      "       'yagpt_predictions_Последовательность', 'yagpt_predictions_Беглость',\n",
      "       'yagpt_predictions_Согласованность', 'yagpt3_predictions',\n",
      "       'yagpt3_predictions_Актуальность',\n",
      "       'yagpt3_predictions_Последовательность', 'yagpt3_predictions_Беглость',\n",
      "       'yagpt3_predictions_Согласованность'],\n",
      "      dtype='object')\n",
      "41 Index(['text', 'summary', 'summary_Актуальность', 'summary_Последовательность',\n",
      "       'summary_Беглость', 'summary_Согласованность', 'mbart_predictions',\n",
      "       'mbart_predictions_Актуальность',\n",
      "       'mbart_predictions_Последовательность', 'mbart_predictions_Беглость',\n",
      "       'mbart_predictions_Согласованность', 'mt5_predictions',\n",
      "       'mt5_predictions_Актуальность', 'mt5_predictions_Последовательность',\n",
      "       'mt5_predictions_Беглость', 'mt5_predictions_Согласованность',\n",
      "       'summarunner_predictions', 'summarunner_predictions_Актуальность',\n",
      "       'summarunner_predictions_Последовательность',\n",
      "       'summarunner_predictions_Беглость',\n",
      "       'summarunner_predictions_Согласованность', 'llama_7b_predictions',\n",
      "       'llama_7b_predictions_Актуальность',\n",
      "       'llama_7b_predictions_Последовательность',\n",
      "       'llama_7b_predictions_Беглость', 'llama_7b_predictions_Согласованность',\n",
      "       'starling_predictions', 'starling_predictions_Актуальность',\n",
      "       'starling_predictions_Последовательность',\n",
      "       'starling_predictions_Беглость', 'starling_predictions_Согласованность',\n",
      "       'yagpt_predictions', 'yagpt_predictions_Актуальность',\n",
      "       'yagpt_predictions_Последовательность', 'yagpt_predictions_Беглость',\n",
      "       'yagpt_predictions_Согласованность', 'yagpt3_predictions',\n",
      "       'yagpt3_predictions_Актуальность',\n",
      "       'yagpt3_predictions_Последовательность', 'yagpt3_predictions_Беглость',\n",
      "       'yagpt3_predictions_Согласованность'],\n",
      "      dtype='object')\n"
     ]
    }
   ],
   "source": [
    "print(len(gazeta_expert.columns), gazeta_expert.columns)\n",
    "print(len(wikilingua_expert.columns), wikilingua_expert.columns)"
   ]
  },
  {
   "cell_type": "code",
   "execution_count": 25,
   "id": "3487e398-9372-4985-8fe7-ca576022b65a",
   "metadata": {},
   "outputs": [
    {
     "name": "stdout",
     "output_type": "stream",
     "text": [
      "100\n"
     ]
    }
   ],
   "source": [
    "expert_data = pd.concat(\n",
    "    [gazeta_expert, wikilingua_expert], ignore_index=True\n",
    ")\n",
    "print(len(expert_data))"
   ]
  },
  {
   "cell_type": "code",
   "execution_count": 26,
   "id": "819675cb-5705-4435-bb4b-c96f70f687b4",
   "metadata": {},
   "outputs": [],
   "source": [
    "# expert_data.to_csv(\"compiled_expert_data.csv\", index=False)\n",
    "# expert_data.to_csv(\"compiled_expert_data_ind.csv\")"
   ]
  },
  {
   "cell_type": "code",
   "execution_count": 28,
   "id": "f723e31b-10aa-4b09-9405-e001a408b611",
   "metadata": {},
   "outputs": [],
   "source": [
    "expert_data = pd.read_csv(\"compiled_expert_data.csv\")"
   ]
  },
  {
   "cell_type": "markdown",
   "id": "5e8a56cd-6573-4f8d-946f-f86397ed026b",
   "metadata": {},
   "source": [
    "## Statistics"
   ]
  },
  {
   "cell_type": "code",
   "execution_count": 29,
   "id": "a855d257-893d-4177-ab5f-51bfaa9faf0c",
   "metadata": {},
   "outputs": [],
   "source": [
    "index = \"Ind\"\n",
    "title = \"title\"\n",
    "article = \"text\"\n",
    "ground_truth = \"summary\"\n",
    "\n",
    "files = [\n",
    "    f\"{ground_truth}.txt\", # Dummy for summary field\n",
    "    \"mbart_predictions.txt\",\n",
    "    \"mt5_predictions.txt\",\n",
    "    \"summarunner_predictions.txt\",\n",
    "    \"llama_7b_predictions.csv\",\n",
    "    \"starling_predictions.csv\",\n",
    "    \"yagpt_predictions.csv\",\n",
    "    \"yagpt3_predictions.csv\"\n",
    "]\n",
    "summaries_fields = []\n",
    "metrics = [\n",
    "    \"Актуальность\",\n",
    "    \"Последовательность\",\n",
    "    \"Беглость\",\n",
    "    \"Согласованность\",\n",
    "    \"Комментарий\"\n",
    "]\n",
    "\n",
    "for file in files:\n",
    "    model_name = file.split(\".\")[0]\n",
    "    summaries_fields.append(model_name)\n",
    "    for metric in metrics:\n",
    "        summaries_fields.append(f\"{model_name}_{metric}\")"
   ]
  },
  {
   "cell_type": "code",
   "execution_count": 30,
   "id": "e2286554-a8e0-4db2-aba3-39dd2cf7d6a3",
   "metadata": {},
   "outputs": [
    {
     "name": "stdout",
     "output_type": "stream",
     "text": [
      "['summary_Актуальность', 'summary_Последовательность', 'summary_Беглость', 'summary_Согласованность', 'mbart_predictions_Актуальность', 'mbart_predictions_Последовательность', 'mbart_predictions_Беглость', 'mbart_predictions_Согласованность', 'mt5_predictions_Актуальность', 'mt5_predictions_Последовательность', 'mt5_predictions_Беглость', 'mt5_predictions_Согласованность', 'summarunner_predictions_Актуальность', 'summarunner_predictions_Последовательность', 'summarunner_predictions_Беглость', 'summarunner_predictions_Согласованность', 'llama_7b_predictions_Актуальность', 'llama_7b_predictions_Последовательность', 'llama_7b_predictions_Беглость', 'llama_7b_predictions_Согласованность', 'starling_predictions_Актуальность', 'starling_predictions_Последовательность', 'starling_predictions_Беглость', 'starling_predictions_Согласованность', 'yagpt_predictions_Актуальность', 'yagpt_predictions_Последовательность', 'yagpt_predictions_Беглость', 'yagpt_predictions_Согласованность', 'yagpt3_predictions_Актуальность', 'yagpt3_predictions_Последовательность', 'yagpt3_predictions_Беглость', 'yagpt3_predictions_Согласованность']\n"
     ]
    }
   ],
   "source": [
    "summary_fields = [field for field in summaries_fields if field.split(\"_\")[-1] != metrics[-1] and (field + \".txt\") not in files and (field + \".csv\") not in files]\n",
    "print(summary_fields)"
   ]
  },
  {
   "cell_type": "code",
   "execution_count": 31,
   "id": "e5dab151-1cfe-4add-a400-f181458f36b3",
   "metadata": {},
   "outputs": [
    {
     "data": {
      "image/png": "[encoded data removed]",
      "text/plain": [
       "<Figure size 2500x2000 with 32 Axes>"
      ]
     },
     "metadata": {},
     "output_type": "display_data"
    }
   ],
   "source": [
    "from matplotlib import pyplot as plt\n",
    "import matplotlib\n",
    "\n",
    "fig, axs = plt.subplots(len(files), len(metrics[:-1]))\n",
    "fig.set_figheight(20)\n",
    "fig.set_figwidth(25)\n",
    "fig.tight_layout()\n",
    "matplotlib.rcParams.update({'font.size': 15})\n",
    "\n",
    "data_dict = expert_data.to_dict()\n",
    "\n",
    "for i, field in enumerate(summary_fields):\n",
    "    ind = (i // len(metrics[:-1]), i % len(metrics[:-1]))\n",
    "    axs[*ind].set_title(field)\n",
    "    axs[*ind].hist(data_dict[field].values(), bins=[b + 0.5 for b in range(0, 6)], )\n",
    "    axs[*ind].locator_params(axis='x', integer=True)\n",
    "plt.show()"
   ]
  },
  {
   "cell_type": "markdown",
   "id": "a1c45f4b-1592-467f-8974-6d3f96602c27",
   "metadata": {},
   "source": [
    "## Text clusters"
   ]
  },
  {
   "cell_type": "code",
   "execution_count": 32,
   "id": "3afc0ce9-1b75-450d-8cff-05ff489c8567",
   "metadata": {},
   "outputs": [
    {
     "data": {
      "image/png": "[encoded data removed]",
      "text/plain": [
       "<Figure size 2500x500 with 4 Axes>"
      ]
     },
     "metadata": {},
     "output_type": "display_data"
    }
   ],
   "source": [
    "auto_data = []\n",
    "human_data = []\n",
    "cluster_metrics = [\n",
    "    \"bleu\",\n",
    "    \"rouge1\",\n",
    "    \"meteor\",\n",
    "    \"bertscore_f1\"\n",
    "]\n",
    "models = [file.split(\".\")[0] for file in files[1:]]\n",
    "summary_dataset = pd.read_csv(\"metrics_data.csv\")\n",
    "\n",
    "fig, axs = plt.subplots(1, len(cluster_metrics))\n",
    "fig.set_figheight(5)\n",
    "fig.set_figwidth(25)\n",
    "for i, metric in enumerate(cluster_metrics):\n",
    "    values = []\n",
    "    for model in models:\n",
    "        auto_metric_field_name = f\"{model}_{metric}\"\n",
    "        values += list(summary_dataset[auto_metric_field_name])\n",
    "    axs[i].set_title(metric)\n",
    "    axs[i].hist(values, bins=50)\n",
    "\n",
    "plt.show()"
   ]
  },
  {
   "cell_type": "markdown",
   "id": "d5ab4054-99fb-4e68-bf62-fe903a097e13",
   "metadata": {},
   "source": [
    "## Correlation (Kendall, per-system)"
   ]
  },
  {
   "attachments": {
    "8e6dd505-a54a-4124-a457-8914c04f04ad.png": {
     "image/png": "[encoded data removed]"
    }
   },
   "cell_type": "markdown",
   "id": "b09966a6-5bfa-4836-996d-8db146135c98",
   "metadata": {},
   "source": [
    "![image.png](attachment:8e6dd505-a54a-4124-a457-8914c04f04ad.png)"
   ]
  },
  {
   "cell_type": "code",
   "execution_count": 33,
   "id": "63a5388a-283c-4d1b-b0fe-f56bcb6db525",
   "metadata": {},
   "outputs": [
    {
     "data": {
      "text/html": [
       "<div>\n",
       "<style scoped>\n",
       "    .dataframe tbody tr th:only-of-type {\n",
       "        vertical-align: middle;\n",
       "    }\n",
       "\n",
       "    .dataframe tbody tr th {\n",
       "        vertical-align: top;\n",
       "    }\n",
       "\n",
       "    .dataframe thead th {\n",
       "        text-align: right;\n",
       "    }\n",
       "</style>\n",
       "<table border=\"1\" class=\"dataframe\">\n",
       "  <thead>\n",
       "    <tr style=\"text-align: right;\">\n",
       "      <th></th>\n",
       "      <th>title</th>\n",
       "      <th>text</th>\n",
       "      <th>summary</th>\n",
       "      <th>mbart_predictions</th>\n",
       "      <th>mt5_predictions</th>\n",
       "      <th>summarunner_predictions</th>\n",
       "      <th>llama_7b_predictions</th>\n",
       "      <th>starling_predictions</th>\n",
       "      <th>yagpt_predictions</th>\n",
       "      <th>yagpt3_predictions</th>\n",
       "      <th>...</th>\n",
       "      <th>mbart_predictions_meteor</th>\n",
       "      <th>mt5_predictions_meteor</th>\n",
       "      <th>summarunner_predictions_meteor</th>\n",
       "      <th>llama_7b_predictions_meteor</th>\n",
       "      <th>starling_predictions_meteor</th>\n",
       "      <th>yagpt_predictions_meteor</th>\n",
       "      <th>yagpt3_predictions_meteor</th>\n",
       "      <th>mbart_predictions_bleu.1</th>\n",
       "      <th>mt5_predictions_bleu.1</th>\n",
       "      <th>summarunner_predictions_bleu.1</th>\n",
       "    </tr>\n",
       "  </thead>\n",
       "  <tbody>\n",
       "    <tr>\n",
       "      <th>0</th>\n",
       "      <td>Названа опасность постоянно включенного Blueto...</td>\n",
       "      <td>Постоянно включенный Bluetooth на смартфоне гр...</td>\n",
       "      <td>Активированный в смартфоне Bluetooth может пре...</td>\n",
       "      <td>Постоянно включенный Bluetooth на смартфоне гр...</td>\n",
       "      <td>Эксперты предупреждают о том, что отключать Bl...</td>\n",
       "      <td>постоянно включенный bluetooth на смартфоне гр...</td>\n",
       "      <td>Bluetooth постоянно включен, это опасно, так к...</td>\n",
       "      <td>Постоянно включенный Bluetooth может создавать...</td>\n",
       "      <td>- Постоянно включенный Bluetooth на смартфоне ...</td>\n",
       "      <td>Доцент кафедры информатики РЭУ им. Плеханова А...</td>\n",
       "      <td>...</td>\n",
       "      <td>0.126459</td>\n",
       "      <td>0.053648</td>\n",
       "      <td>0.168245</td>\n",
       "      <td>0.207257</td>\n",
       "      <td>0.127202</td>\n",
       "      <td>0.168304</td>\n",
       "      <td>0.139373</td>\n",
       "      <td>NaN</td>\n",
       "      <td>NaN</td>\n",
       "      <td>NaN</td>\n",
       "    </tr>\n",
       "    <tr>\n",
       "      <th>1</th>\n",
       "      <td>Колесникова проходит подозреваемой по делу о з...</td>\n",
       "      <td>Член президиума координационного совета оппози...</td>\n",
       "      <td>Члена президиума оппозиционного Координационно...</td>\n",
       "      <td>Член президиума координационного совета оппози...</td>\n",
       "      <td>Член президиума координационного совета оппози...</td>\n",
       "      <td>член президиума координационного совета оппози...</td>\n",
       "      <td>Мария Колесникова, член президиума координацио...</td>\n",
       "      <td>Мария Колесникова, член президиума координацио...</td>\n",
       "      <td>- Член президиума координационного совета оппо...</td>\n",
       "      <td>Мария Колесникова, член президиума координацио...</td>\n",
       "      <td>...</td>\n",
       "      <td>0.248829</td>\n",
       "      <td>0.101734</td>\n",
       "      <td>0.263807</td>\n",
       "      <td>0.231588</td>\n",
       "      <td>0.310913</td>\n",
       "      <td>0.327753</td>\n",
       "      <td>0.224195</td>\n",
       "      <td>NaN</td>\n",
       "      <td>NaN</td>\n",
       "      <td>NaN</td>\n",
       "    </tr>\n",
       "    <tr>\n",
       "      <th>2</th>\n",
       "      <td>Deutsche Bank: в мире наступает эпоха беспорядка</td>\n",
       "      <td>Аналитики Deutsche Bank обнародовали исследова...</td>\n",
       "      <td>В истории человечества наступает эпоха беспоря...</td>\n",
       "      <td>В 2020 году в мире наступит новая эпоха беспор...</td>\n",
       "      <td>Пандемия коронавируса привела к появлениям нов...</td>\n",
       "      <td>аналитики deutsche bank обнародовали исследова...</td>\n",
       "      <td>Аналитики Deutsche Bank предсказали наступлени...</td>\n",
       "      <td>Аналитики Deutsche Bank предполагают, что 2020...</td>\n",
       "      <td>- Аналитики Deutsche Bank предсказали наступле...</td>\n",
       "      <td>Аналитики Deutsche Bank предсказали наступлени...</td>\n",
       "      <td>...</td>\n",
       "      <td>0.309631</td>\n",
       "      <td>0.086664</td>\n",
       "      <td>0.314012</td>\n",
       "      <td>0.262029</td>\n",
       "      <td>0.238650</td>\n",
       "      <td>0.295642</td>\n",
       "      <td>0.311487</td>\n",
       "      <td>NaN</td>\n",
       "      <td>NaN</td>\n",
       "      <td>NaN</td>\n",
       "    </tr>\n",
       "    <tr>\n",
       "      <th>3</th>\n",
       "      <td>«Ъ»: Минтранс подготовил проект поправок к ПДД</td>\n",
       "      <td>ГИБДД совместно с Минтрансом разработала масшт...</td>\n",
       "      <td>Масштабный проект изменений в ПДД подготовили ...</td>\n",
       "      <td>ГИБДД совместно с Минтрансом разработала масшт...</td>\n",
       "      <td>В Госдуму вступили в силу поправки в правила д...</td>\n",
       "      <td>гибдд совместно с минтрансом разработала масшт...</td>\n",
       "      <td>ГИБДД и Минтранс разработали проект изменений ...</td>\n",
       "      <td>ГИБДД и Минтранс разработали проект изменений ...</td>\n",
       "      <td>- ГИБДД и Минтранс разработали масштабный прое...</td>\n",
       "      <td>ГИБДД совместно с Минтрансом разработали масшт...</td>\n",
       "      <td>...</td>\n",
       "      <td>0.306315</td>\n",
       "      <td>0.082645</td>\n",
       "      <td>0.233184</td>\n",
       "      <td>0.256739</td>\n",
       "      <td>0.270406</td>\n",
       "      <td>0.338463</td>\n",
       "      <td>0.296722</td>\n",
       "      <td>NaN</td>\n",
       "      <td>NaN</td>\n",
       "      <td>NaN</td>\n",
       "    </tr>\n",
       "    <tr>\n",
       "      <th>4</th>\n",
       "      <td>Tesla выпустит бюджетный беспилотник в 2023 году</td>\n",
       "      <td>Вечером 22 сентября на конференции Battery Day...</td>\n",
       "      <td>Миллиардер Илон Маск пообещал представить бюдж...</td>\n",
       "      <td>На конференции Battery Day глава Tesla Илон Ма...</td>\n",
       "      <td>Илон Маск рассчитывает вывести на рынок бюджет...</td>\n",
       "      <td>вечером 22 сентября на конференции battery day...</td>\n",
       "      <td>Илон Маск представил планы Tesla по выходу на ...</td>\n",
       "      <td>В ходе конференции Tesla Battery Day, Илон Мас...</td>\n",
       "      <td>- Глава Tesla Илон Маск анонсировал вывод на р...</td>\n",
       "      <td>На конференции Battery Day Илон Маск объявил о...</td>\n",
       "      <td>...</td>\n",
       "      <td>0.098891</td>\n",
       "      <td>0.100573</td>\n",
       "      <td>0.146562</td>\n",
       "      <td>0.227205</td>\n",
       "      <td>0.193430</td>\n",
       "      <td>0.202198</td>\n",
       "      <td>0.251442</td>\n",
       "      <td>NaN</td>\n",
       "      <td>NaN</td>\n",
       "      <td>NaN</td>\n",
       "    </tr>\n",
       "  </tbody>\n",
       "</table>\n",
       "<p>5 rows × 76 columns</p>\n",
       "</div>"
      ],
      "text/plain": [
       "                                               title  \\\n",
       "0  Названа опасность постоянно включенного Blueto...   \n",
       "1  Колесникова проходит подозреваемой по делу о з...   \n",
       "2  Deutsche Bank: в мире наступает эпоха беспорядка    \n",
       "3    «Ъ»: Минтранс подготовил проект поправок к ПДД    \n",
       "4  Tesla выпустит бюджетный беспилотник в 2023 году    \n",
       "\n",
       "                                                text  \\\n",
       "0  Постоянно включенный Bluetooth на смартфоне гр...   \n",
       "1  Член президиума координационного совета оппози...   \n",
       "2  Аналитики Deutsche Bank обнародовали исследова...   \n",
       "3  ГИБДД совместно с Минтрансом разработала масшт...   \n",
       "4  Вечером 22 сентября на конференции Battery Day...   \n",
       "\n",
       "                                             summary  \\\n",
       "0  Активированный в смартфоне Bluetooth может пре...   \n",
       "1  Члена президиума оппозиционного Координационно...   \n",
       "2  В истории человечества наступает эпоха беспоря...   \n",
       "3  Масштабный проект изменений в ПДД подготовили ...   \n",
       "4  Миллиардер Илон Маск пообещал представить бюдж...   \n",
       "\n",
       "                                   mbart_predictions  \\\n",
       "0  Постоянно включенный Bluetooth на смартфоне гр...   \n",
       "1  Член президиума координационного совета оппози...   \n",
       "2  В 2020 году в мире наступит новая эпоха беспор...   \n",
       "3  ГИБДД совместно с Минтрансом разработала масшт...   \n",
       "4  На конференции Battery Day глава Tesla Илон Ма...   \n",
       "\n",
       "                                     mt5_predictions  \\\n",
       "0  Эксперты предупреждают о том, что отключать Bl...   \n",
       "1  Член президиума координационного совета оппози...   \n",
       "2  Пандемия коронавируса привела к появлениям нов...   \n",
       "3  В Госдуму вступили в силу поправки в правила д...   \n",
       "4  Илон Маск рассчитывает вывести на рынок бюджет...   \n",
       "\n",
       "                             summarunner_predictions  \\\n",
       "0  постоянно включенный bluetooth на смартфоне гр...   \n",
       "1  член президиума координационного совета оппози...   \n",
       "2  аналитики deutsche bank обнародовали исследова...   \n",
       "3  гибдд совместно с минтрансом разработала масшт...   \n",
       "4  вечером 22 сентября на конференции battery day...   \n",
       "\n",
       "                                llama_7b_predictions  \\\n",
       "0  Bluetooth постоянно включен, это опасно, так к...   \n",
       "1  Мария Колесникова, член президиума координацио...   \n",
       "2  Аналитики Deutsche Bank предсказали наступлени...   \n",
       "3  ГИБДД и Минтранс разработали проект изменений ...   \n",
       "4  Илон Маск представил планы Tesla по выходу на ...   \n",
       "\n",
       "                                starling_predictions  \\\n",
       "0  Постоянно включенный Bluetooth может создавать...   \n",
       "1  Мария Колесникова, член президиума координацио...   \n",
       "2  Аналитики Deutsche Bank предполагают, что 2020...   \n",
       "3  ГИБДД и Минтранс разработали проект изменений ...   \n",
       "4  В ходе конференции Tesla Battery Day, Илон Мас...   \n",
       "\n",
       "                                   yagpt_predictions  \\\n",
       "0  - Постоянно включенный Bluetooth на смартфоне ...   \n",
       "1  - Член президиума координационного совета оппо...   \n",
       "2  - Аналитики Deutsche Bank предсказали наступле...   \n",
       "3  - ГИБДД и Минтранс разработали масштабный прое...   \n",
       "4  - Глава Tesla Илон Маск анонсировал вывод на р...   \n",
       "\n",
       "                                  yagpt3_predictions  ...  \\\n",
       "0  Доцент кафедры информатики РЭУ им. Плеханова А...  ...   \n",
       "1  Мария Колесникова, член президиума координацио...  ...   \n",
       "2  Аналитики Deutsche Bank предсказали наступлени...  ...   \n",
       "3  ГИБДД совместно с Минтрансом разработали масшт...  ...   \n",
       "4  На конференции Battery Day Илон Маск объявил о...  ...   \n",
       "\n",
       "   mbart_predictions_meteor  mt5_predictions_meteor  \\\n",
       "0                  0.126459                0.053648   \n",
       "1                  0.248829                0.101734   \n",
       "2                  0.309631                0.086664   \n",
       "3                  0.306315                0.082645   \n",
       "4                  0.098891                0.100573   \n",
       "\n",
       "   summarunner_predictions_meteor  llama_7b_predictions_meteor  \\\n",
       "0                        0.168245                     0.207257   \n",
       "1                        0.263807                     0.231588   \n",
       "2                        0.314012                     0.262029   \n",
       "3                        0.233184                     0.256739   \n",
       "4                        0.146562                     0.227205   \n",
       "\n",
       "   starling_predictions_meteor  yagpt_predictions_meteor  \\\n",
       "0                     0.127202                  0.168304   \n",
       "1                     0.310913                  0.327753   \n",
       "2                     0.238650                  0.295642   \n",
       "3                     0.270406                  0.338463   \n",
       "4                     0.193430                  0.202198   \n",
       "\n",
       "   yagpt3_predictions_meteor  mbart_predictions_bleu.1  \\\n",
       "0                   0.139373                       NaN   \n",
       "1                   0.224195                       NaN   \n",
       "2                   0.311487                       NaN   \n",
       "3                   0.296722                       NaN   \n",
       "4                   0.251442                       NaN   \n",
       "\n",
       "   mt5_predictions_bleu.1  summarunner_predictions_bleu.1  \n",
       "0                     NaN                             NaN  \n",
       "1                     NaN                             NaN  \n",
       "2                     NaN                             NaN  \n",
       "3                     NaN                             NaN  \n",
       "4                     NaN                             NaN  \n",
       "\n",
       "[5 rows x 76 columns]"
      ]
     },
     "execution_count": 33,
     "metadata": {},
     "output_type": "execute_result"
    }
   ],
   "source": [
    "import scipy.stats as stats\n",
    "import pandas as pd\n",
    "import statistics\n",
    "\n",
    "tau_metrics = metrics[:-1]\n",
    "models = [file.split(\".\")[0] for file in files[1:]]\n",
    "summary_dataset = pd.read_csv(\"metrics_data.csv\")\n",
    "summary_dataset.head()"
   ]
  },
  {
   "cell_type": "markdown",
   "id": "77e0b941-8a3e-4eb4-b6fa-df58f9421f77",
   "metadata": {},
   "source": [
    "## BLEU"
   ]
  },
  {
   "cell_type": "code",
   "execution_count": 94,
   "id": "e10a1049-4a6e-4679-9bd2-7723f3f2272d",
   "metadata": {
    "scrolled": true
   },
   "outputs": [
    {
     "name": "stdout",
     "output_type": "stream",
     "text": [
      "yagpt3_predictions_Согласованность\n",
      "100\n",
      "yagpt3_predictions_Согласованность\n",
      "100\n",
      "yagpt3_predictions_Согласованность\n",
      "100\n",
      "yagpt3_predictions_Согласованность\n",
      "100\n",
      "yagpt3_predictions_Согласованность\n",
      "100\n",
      "yagpt3_predictions_Согласованность\n",
      "100\n",
      "yagpt3_predictions_Согласованность\n",
      "100\n"
     ]
    }
   ],
   "source": [
    "auto_data = []\n",
    "human_data = []\n",
    "for model in models:\n",
    "    auto_metric_field_name = f\"{model}_bleu\"\n",
    "    auto_data.append(statistics.mean(list(summary_dataset[auto_metric_field_name])))\n",
    "\n",
    "    human_metrics_fields = [f\"{model}_{metric}\" for metric in tau_metrics]\n",
    "    print(field)\n",
    "    print(len(data_dict[field]))\n",
    "    human_data.append(statistics.mean([sum([data_dict[field][i] for field in human_metrics_fields]) for i in range(100)]))"
   ]
  },
  {
   "cell_type": "code",
   "execution_count": 95,
   "id": "42492bdf-57ce-473a-ba60-b3200d5ce909",
   "metadata": {},
   "outputs": [
    {
     "name": "stdout",
     "output_type": "stream",
     "text": [
      "[0.07454518996381095, 0.03482288482386278, 0.06296546604470492, 0.03924924421008021, 0.04943124822302839, 0.03759253697014962, 0.04725150438658131]\n",
      "[17.43, 14.2, 17, 16.99, 17.21, 16.49, 18.01]\n"
     ]
    }
   ],
   "source": [
    "print(auto_data)\n",
    "print(human_data)"
   ]
  },
  {
   "cell_type": "code",
   "execution_count": 96,
   "id": "68031a64-808e-4bd6-b200-07abe6361cac",
   "metadata": {},
   "outputs": [],
   "source": [
    "tau, p_value = stats.kendalltau(auto_data, human_data)"
   ]
  },
  {
   "cell_type": "code",
   "execution_count": 97,
   "id": "0c51884b-ca8a-44b0-b877-ad996cc11d68",
   "metadata": {},
   "outputs": [
    {
     "name": "stdout",
     "output_type": "stream",
     "text": [
      "0.6190476190476191 0.06904761904761905\n"
     ]
    }
   ],
   "source": [
    "print(tau, p_value)"
   ]
  },
  {
   "cell_type": "code",
   "execution_count": 100,
   "id": "1d873596-0441-4e6d-b51d-27387b875fc0",
   "metadata": {},
   "outputs": [
    {
     "name": "stdout",
     "output_type": "stream",
     "text": [
      "Kendall's tau: 0.6190476190476191\n",
      "Confidence Interval: (-0.02458134410853644, 0.8998642128954149)\n",
      "P-value: 0.06904761904761905\n"
     ]
    }
   ],
   "source": [
    "from correlation import corr\n",
    "import numpy as np\n",
    "\n",
    "# Example data\n",
    "x = np.array(auto_data)\n",
    "y = np.array(human_data)\n",
    "\n",
    "# Calculate Kendall's tau and its confidence interval\n",
    "tau, ci_lower, ci_upper, p = corr(x, y, method='kendall_tau')\n",
    "\n",
    "print(f\"Kendall's tau: {tau}\")\n",
    "print(f\"Confidence Interval: ({ci_lower}, {ci_upper})\")\n",
    "print(f\"P-value: {p}\")"
   ]
  },
  {
   "cell_type": "markdown",
   "id": "13077d49-f4bf-4cbe-b54e-ce76ad88c06f",
   "metadata": {},
   "source": [
    "### ROUGE1"
   ]
  },
  {
   "cell_type": "code",
   "execution_count": 101,
   "id": "c5d3e1a2-ba8c-4eb7-94e4-6c407d8b351d",
   "metadata": {},
   "outputs": [
    {
     "name": "stdout",
     "output_type": "stream",
     "text": [
      "yagpt3_predictions_Согласованность\n",
      "100\n",
      "yagpt3_predictions_Согласованность\n",
      "100\n",
      "yagpt3_predictions_Согласованность\n",
      "100\n",
      "yagpt3_predictions_Согласованность\n",
      "100\n",
      "yagpt3_predictions_Согласованность\n",
      "100\n",
      "yagpt3_predictions_Согласованность\n",
      "100\n",
      "yagpt3_predictions_Согласованность\n",
      "100\n"
     ]
    }
   ],
   "source": [
    "auto_data = []\n",
    "human_data = []\n",
    "for model in models:\n",
    "    auto_metric_field_name = f\"{model}_rouge1\"\n",
    "    auto_data.append(statistics.mean(list(summary_dataset[auto_metric_field_name])))\n",
    "\n",
    "    human_metrics_fields = [f\"{model}_{metric}\" for metric in tau_metrics]\n",
    "    print(field)\n",
    "    print(len(data_dict[field]))\n",
    "    human_data.append(statistics.mean([sum([data_dict[field][i] for field in human_metrics_fields]) for i in range(100)]))"
   ]
  },
  {
   "cell_type": "code",
   "execution_count": 102,
   "id": "1c2dad00-8819-4628-8354-64bdb360f3e7",
   "metadata": {},
   "outputs": [
    {
     "name": "stdout",
     "output_type": "stream",
     "text": [
      "[0.26220053453726644, 0.16275358449236588, 0.24640174494055075, 0.21965243007798937, 0.23872758799392704, 0.21414241905046316, 0.23960608632450503]\n",
      "[17.43, 14.2, 17, 16.99, 17.21, 16.49, 18.01]\n"
     ]
    }
   ],
   "source": [
    "print(auto_data)\n",
    "print(human_data)"
   ]
  },
  {
   "cell_type": "code",
   "execution_count": 103,
   "id": "624902f7-b2b5-4500-931c-4268a34bceb3",
   "metadata": {},
   "outputs": [],
   "source": [
    "tau, p_value = stats.kendalltau(auto_data, human_data)"
   ]
  },
  {
   "cell_type": "code",
   "execution_count": 104,
   "id": "d2b30e22-326b-4a36-b09b-b7fc5c55aa4c",
   "metadata": {},
   "outputs": [
    {
     "name": "stdout",
     "output_type": "stream",
     "text": [
      "0.7142857142857143 0.03015873015873016\n"
     ]
    }
   ],
   "source": [
    "print(tau, p_value)"
   ]
  },
  {
   "cell_type": "code",
   "execution_count": 105,
   "id": "783e1cbf-d17d-442b-9391-ce69fad265b6",
   "metadata": {},
   "outputs": [
    {
     "name": "stdout",
     "output_type": "stream",
     "text": [
      "Kendall's tau: 0.7142857142857143\n",
      "Confidence Interval: (0.14676631425536035, 0.9280193408060681)\n",
      "P-value: 0.03015873015873016\n"
     ]
    }
   ],
   "source": [
    "from correlation import corr\n",
    "import numpy as np\n",
    "\n",
    "# Example data\n",
    "x = np.array(auto_data)\n",
    "y = np.array(human_data)\n",
    "\n",
    "# Calculate Kendall's tau and its confidence interval\n",
    "tau, ci_lower, ci_upper, p = corr(x, y, method='kendall_tau')\n",
    "\n",
    "print(f\"Kendall's tau: {tau}\")\n",
    "print(f\"Confidence Interval: ({ci_lower}, {ci_upper})\")\n",
    "print(f\"P-value: {p}\")"
   ]
  },
  {
   "cell_type": "markdown",
   "id": "1c988f8c-0541-4555-ae2b-5f23da491236",
   "metadata": {},
   "source": [
    "### METEOR"
   ]
  },
  {
   "cell_type": "code",
   "execution_count": 106,
   "id": "470a2698-2c92-4645-9a77-280e7737111d",
   "metadata": {},
   "outputs": [],
   "source": [
    "auto_data = []\n",
    "human_data = []\n",
    "for model in models:\n",
    "    auto_metric_field_name = f\"{model}_meteor\"\n",
    "    auto_data.append(statistics.mean(list(summary_dataset[auto_metric_field_name])))\n",
    "\n",
    "    human_metrics_fields = [f\"{model}_{metric}\" for metric in tau_metrics]\n",
    "    human_data.append(statistics.mean([sum([data_dict[field][i] for field in human_metrics_fields]) for i in range(100)]))"
   ]
  },
  {
   "cell_type": "code",
   "execution_count": 107,
   "id": "640c40b9-1e8b-4e5b-85e3-e2bd95e12710",
   "metadata": {},
   "outputs": [
    {
     "name": "stdout",
     "output_type": "stream",
     "text": [
      "[0.19748180196319223, 0.08869614677048965, 0.21484960266853187, 0.22612531305323683, 0.21528908173697095, 0.22122617528408564, 0.24663679055015958]\n",
      "[17.43, 14.2, 17, 16.99, 17.21, 16.49, 18.01]\n"
     ]
    }
   ],
   "source": [
    "print(auto_data)\n",
    "print(human_data)"
   ]
  },
  {
   "cell_type": "code",
   "execution_count": 108,
   "id": "c27bf976-28c8-4ba8-b627-69aeb61b041c",
   "metadata": {},
   "outputs": [],
   "source": [
    "tau, p_value = stats.kendalltau(auto_data, human_data)"
   ]
  },
  {
   "cell_type": "code",
   "execution_count": 109,
   "id": "858594b8-3f12-4748-9b63-34e1505c0da5",
   "metadata": {},
   "outputs": [
    {
     "name": "stdout",
     "output_type": "stream",
     "text": [
      "0.23809523809523814 0.5619047619047619\n"
     ]
    }
   ],
   "source": [
    "print(tau, p_value)"
   ]
  },
  {
   "cell_type": "code",
   "execution_count": 110,
   "id": "143843ab-ca08-43bf-acf4-65817e2d8acd",
   "metadata": {},
   "outputs": [
    {
     "name": "stdout",
     "output_type": "stream",
     "text": [
      "Kendall's tau: 0.23809523809523814\n",
      "Confidence Interval: (-0.4662687533397921, 0.7577031100905322)\n",
      "P-value: 0.5619047619047619\n"
     ]
    }
   ],
   "source": [
    "from correlation import corr\n",
    "import numpy as np\n",
    "\n",
    "# Example data\n",
    "x = np.array(auto_data)\n",
    "y = np.array(human_data)\n",
    "\n",
    "# Calculate Kendall's tau and its confidence interval\n",
    "tau, ci_lower, ci_upper, p = corr(x, y, method='kendall_tau')\n",
    "\n",
    "print(f\"Kendall's tau: {tau}\")\n",
    "print(f\"Confidence Interval: ({ci_lower}, {ci_upper})\")\n",
    "print(f\"P-value: {p}\")"
   ]
  },
  {
   "cell_type": "markdown",
   "id": "41984770-90c6-4b91-97b7-70deffaf0c5d",
   "metadata": {},
   "source": [
    "### BERTScore"
   ]
  },
  {
   "cell_type": "code",
   "execution_count": 111,
   "id": "cf5d0495-4e0e-4a4f-8d51-d15507e0989b",
   "metadata": {},
   "outputs": [],
   "source": [
    "auto_data = []\n",
    "human_data = []\n",
    "for model in models:\n",
    "    auto_metric_field_name = f\"{model}_bertscore_f1\"\n",
    "    auto_data.append(statistics.mean(list(summary_dataset[auto_metric_field_name])))\n",
    "\n",
    "    human_metrics_fields = [f\"{model}_{metric}\" for metric in tau_metrics]\n",
    "    human_data.append(statistics.mean([sum([data_dict[field][i] for field in human_metrics_fields]) for i in range(100)]))"
   ]
  },
  {
   "cell_type": "code",
   "execution_count": 112,
   "id": "392b1281-681c-46e3-8b4c-e3ec1525e001",
   "metadata": {},
   "outputs": [
    {
     "name": "stdout",
     "output_type": "stream",
     "text": [
      "[0.6696224373579025, 0.6392732173204422, 0.6607429033517838, 0.6753411090373993, 0.6702926516532898, 0.6756654751300811, 0.6804703199863433]\n",
      "[17.43, 14.2, 17, 16.99, 17.21, 16.49, 18.01]\n"
     ]
    }
   ],
   "source": [
    "print(auto_data)\n",
    "print(human_data)"
   ]
  },
  {
   "cell_type": "code",
   "execution_count": 113,
   "id": "773ab45e-5cd4-4f09-9d2e-b0960fe42182",
   "metadata": {},
   "outputs": [],
   "source": [
    "tau, p_value = stats.kendalltau(auto_data, human_data)"
   ]
  },
  {
   "cell_type": "code",
   "execution_count": 114,
   "id": "3f8be46c-bf67-4d2f-a5e8-3d5b130fa9e2",
   "metadata": {},
   "outputs": [
    {
     "name": "stdout",
     "output_type": "stream",
     "text": [
      "0.23809523809523814 0.5619047619047619\n"
     ]
    }
   ],
   "source": [
    "print(tau, p_value)"
   ]
  },
  {
   "cell_type": "code",
   "execution_count": 115,
   "id": "adeb7e15-80cd-4000-85cc-e592e4cab5d5",
   "metadata": {},
   "outputs": [
    {
     "name": "stdout",
     "output_type": "stream",
     "text": [
      "Kendall's tau: 0.23809523809523814\n",
      "Confidence Interval: (-0.4662687533397921, 0.7577031100905322)\n",
      "P-value: 0.5619047619047619\n"
     ]
    }
   ],
   "source": [
    "from correlation import corr\n",
    "import numpy as np\n",
    "\n",
    "# Example data\n",
    "x = np.array(auto_data)\n",
    "y = np.array(human_data)\n",
    "\n",
    "# Calculate Kendall's tau and its confidence interval\n",
    "tau, ci_lower, ci_upper, p = corr(x, y, method='kendall_tau')\n",
    "\n",
    "print(f\"Kendall's tau: {tau}\")\n",
    "print(f\"Confidence Interval: ({ci_lower}, {ci_upper})\")\n",
    "print(f\"P-value: {p}\")"
   ]
  },
  {
   "cell_type": "markdown",
   "id": "80e2d079-1d05-4925-9097-7dd4dd0030f1",
   "metadata": {},
   "source": [
    "## Correlation (per-system, M_judge)"
   ]
  },
  {
   "cell_type": "markdown",
   "id": "a159272b-4b53-49a0-81f3-8eca14e1c137",
   "metadata": {},
   "source": [
    "### BLEU"
   ]
  },
  {
   "cell_type": "code",
   "execution_count": 50,
   "id": "1483bf23-e76e-448c-a464-4696c55a4384",
   "metadata": {},
   "outputs": [],
   "source": [
    "auto_data = []\n",
    "human_data = []\n",
    "for model in models:\n",
    "    auto_metric_field_name = f\"{model}_bleu\"\n",
    "    auto_data.append(statistics.mean(list(summary_dataset[auto_metric_field_name])))\n",
    "\n",
    "    human_metrics_fields = [f\"{model}_{metric}\" for metric in tau_metrics]\n",
    "    human_data.append(statistics.mean([sum([data_dict[field][i] for field in human_metrics_fields]) for i in range(100)]))"
   ]
  },
  {
   "cell_type": "code",
   "execution_count": 51,
   "id": "22521f56-c68f-4d29-9e96-84d48c12aba4",
   "metadata": {},
   "outputs": [
    {
     "name": "stdout",
     "output_type": "stream",
     "text": [
      "[0.07454518996381095, 0.03482288482386278, 0.06296546604470492, 0.03924924421008021, 0.04943124822302839, 0.03759253697014962, 0.04725150438658131]\n",
      "[17.43, 14.2, 17, 16.99, 17.21, 16.49, 18.01]\n"
     ]
    }
   ],
   "source": [
    "print(auto_data)\n",
    "print(human_data)"
   ]
  },
  {
   "cell_type": "code",
   "execution_count": 52,
   "id": "8d153469-658e-4aca-9a00-eea1325431c1",
   "metadata": {},
   "outputs": [],
   "source": [
    "tau, p_value = stats.kendalltau(auto_data, human_data)"
   ]
  },
  {
   "cell_type": "code",
   "execution_count": 53,
   "id": "f4842bbf-af10-4a60-b60e-8c177161df1c",
   "metadata": {},
   "outputs": [
    {
     "name": "stdout",
     "output_type": "stream",
     "text": [
      "0.6190476190476191 0.06904761904761905\n"
     ]
    }
   ],
   "source": [
    "print(tau, p_value)"
   ]
  },
  {
   "cell_type": "code",
   "execution_count": 54,
   "id": "a7ca3df1-c171-447e-8c97-3c31360679f2",
   "metadata": {},
   "outputs": [
    {
     "name": "stdout",
     "output_type": "stream",
     "text": [
      "0.6842105263157894\n",
      "0.7999999999999999\n",
      "0.9999999999999999\n",
      "0.6190476190476191\n",
      "0.6\n",
      "0.4666666666666666\n",
      "0.7333333333333333\n",
      "0.4666666666666666\n",
      "0.7333333333333333\n",
      "0.4666666666666666\n",
      "0.8666666666666666\n"
     ]
    },
    {
     "name": "stderr",
     "output_type": "stream",
     "text": [
      "/home/skatori/.local/lib/python3.12/site-packages/scipy/stats/_resampling.py:153: RuntimeWarning: invalid value encountered in scalar divide\n",
      "  alpha_1 = ndtr(z0_hat + num1/(1 - a_hat*num1))\n",
      "/home/skatori/.local/lib/python3.12/site-packages/scipy/stats/_resampling.py:155: RuntimeWarning: invalid value encountered in scalar divide\n",
      "  alpha_2 = ndtr(z0_hat + num2/(1 - a_hat*num2))\n",
      "/tmp/ipykernel_302241/2485683271.py:12: DegenerateDataWarning: The BCa confidence interval cannot be calculated. This problem is known to occur when the distribution is degenerate or the statistic is np.min.\n",
      "  bootstrap_samples = bootstrap(data, calc_kendalltau, n_resamples=3, confidence_level=0.9, random_state=rng, paired=True, vectorized=False)\n"
     ]
    }
   ],
   "source": [
    "from scipy.stats import bootstrap\n",
    "import numpy as np\n",
    "import math\n",
    "\n",
    "def calc_kendalltau(x, y):\n",
    "    tau = stats.kendalltau(x, y)[0]\n",
    "    print(tau)\n",
    "    return tau\n",
    "\n",
    "rng = np.random.default_rng(seed=42)\n",
    "data = (auto_data, human_data)\n",
    "bootstrap_samples = bootstrap(data, calc_kendalltau, n_resamples=3, confidence_level=0.9, random_state=rng, paired=True, vectorized=False)"
   ]
  },
  {
   "cell_type": "code",
   "execution_count": 55,
   "id": "8c67ec8f-b8c3-4d22-8312-9ba2f0a9b37e",
   "metadata": {},
   "outputs": [
    {
     "name": "stdout",
     "output_type": "stream",
     "text": [
      "ConfidenceInterval(low=nan, high=nan)\n"
     ]
    }
   ],
   "source": [
    "print(bootstrap_samples.confidence_interval)"
   ]
  },
  {
   "cell_type": "markdown",
   "id": "e9564689-f195-4349-8fdc-66c00fee7fb5",
   "metadata": {},
   "source": [
    "### ROUGE1"
   ]
  },
  {
   "cell_type": "code",
   "execution_count": 56,
   "id": "29cd633b-6c1b-4b62-ae78-26b7dbf1d86b",
   "metadata": {},
   "outputs": [],
   "source": [
    "auto_data = []\n",
    "human_data = []\n",
    "for model in models:\n",
    "    auto_metric_field_name = f\"{model}_rouge1\"\n",
    "    auto_data.append(statistics.mean(list(summary_dataset[auto_metric_field_name])))\n",
    "\n",
    "    human_metrics_fields = [f\"{model}_{metric}\" for metric in tau_metrics]\n",
    "    human_data.append(statistics.mean([sum([data_dict[field][i] for field in human_metrics_fields]) for i in range(100)]))"
   ]
  },
  {
   "cell_type": "code",
   "execution_count": 57,
   "id": "3e93406b-4747-4eff-923c-e57da6a90008",
   "metadata": {},
   "outputs": [
    {
     "name": "stdout",
     "output_type": "stream",
     "text": [
      "[0.26220053453726644, 0.16275358449236588, 0.24640174494055075, 0.21965243007798937, 0.23872758799392704, 0.21414241905046316, 0.23960608632450503]\n",
      "[17.43, 14.2, 17, 16.99, 17.21, 16.49, 18.01]\n"
     ]
    }
   ],
   "source": [
    "print(auto_data)\n",
    "print(human_data)"
   ]
  },
  {
   "cell_type": "code",
   "execution_count": 58,
   "id": "9909daa5-ee75-4424-9df3-c99a17bec1db",
   "metadata": {},
   "outputs": [],
   "source": [
    "tau, p_value = stats.kendalltau(auto_data, human_data)"
   ]
  },
  {
   "cell_type": "code",
   "execution_count": 59,
   "id": "71de8abb-e684-4a86-b90e-eaa046cd4595",
   "metadata": {},
   "outputs": [
    {
     "name": "stdout",
     "output_type": "stream",
     "text": [
      "0.7142857142857143 0.03015873015873016\n"
     ]
    }
   ],
   "source": [
    "print(tau, p_value)"
   ]
  },
  {
   "cell_type": "code",
   "execution_count": 60,
   "id": "b62932ef-dc6a-4afb-8106-468232d616ba",
   "metadata": {},
   "outputs": [
    {
     "name": "stdout",
     "output_type": "stream",
     "text": [
      "0.7894736842105262\n",
      "0.8999999999999999\n",
      "0.9999999999999999\n",
      "0.7142857142857143\n",
      "0.7333333333333333\n",
      "0.6\n",
      "0.8666666666666666\n",
      "0.6\n",
      "0.7333333333333333\n",
      "0.6\n",
      "0.8666666666666666\n"
     ]
    },
    {
     "name": "stderr",
     "output_type": "stream",
     "text": [
      "/tmp/ipykernel_302241/2485683271.py:12: DegenerateDataWarning: The BCa confidence interval cannot be calculated. This problem is known to occur when the distribution is degenerate or the statistic is np.min.\n",
      "  bootstrap_samples = bootstrap(data, calc_kendalltau, n_resamples=3, confidence_level=0.9, random_state=rng, paired=True, vectorized=False)\n"
     ]
    }
   ],
   "source": [
    "from scipy.stats import bootstrap\n",
    "import numpy as np\n",
    "import math\n",
    "\n",
    "def calc_kendalltau(x, y):\n",
    "    tau = stats.kendalltau(x, y)[0]\n",
    "    print(tau)\n",
    "    return tau\n",
    "\n",
    "rng = np.random.default_rng(seed=42)\n",
    "data = (auto_data, human_data)\n",
    "bootstrap_samples = bootstrap(data, calc_kendalltau, n_resamples=3, confidence_level=0.9, random_state=rng, paired=True, vectorized=False)"
   ]
  },
  {
   "cell_type": "code",
   "execution_count": 61,
   "id": "f9970b88-e3f9-4908-aa17-a0f034e6f69e",
   "metadata": {},
   "outputs": [
    {
     "name": "stdout",
     "output_type": "stream",
     "text": [
      "ConfidenceInterval(low=nan, high=nan)\n"
     ]
    }
   ],
   "source": [
    "print(bootstrap_samples.confidence_interval)"
   ]
  },
  {
   "cell_type": "markdown",
   "id": "783e9d59-1a13-4c71-ae75-da7c2277b28d",
   "metadata": {},
   "source": [
    "### METEOR"
   ]
  },
  {
   "cell_type": "code",
   "execution_count": 62,
   "id": "f153a934-d68b-43da-89c2-6803d3076dc1",
   "metadata": {},
   "outputs": [],
   "source": [
    "auto_data = []\n",
    "human_data = []\n",
    "for model in models:\n",
    "    auto_metric_field_name = f\"{model}_meteor\"\n",
    "    auto_data.append(statistics.mean(list(summary_dataset[auto_metric_field_name])))\n",
    "\n",
    "    human_metrics_fields = [f\"{model}_{metric}\" for metric in tau_metrics]\n",
    "    human_data.append(statistics.mean([sum([data_dict[field][i] for field in human_metrics_fields]) for i in range(100)]))"
   ]
  },
  {
   "cell_type": "code",
   "execution_count": 63,
   "id": "3832550b-6086-46d0-b975-658581eec7fe",
   "metadata": {},
   "outputs": [
    {
     "name": "stdout",
     "output_type": "stream",
     "text": [
      "[0.19748180196319223, 0.08869614677048965, 0.21484960266853187, 0.22612531305323683, 0.21528908173697095, 0.22122617528408564, 0.24663679055015958]\n",
      "[17.43, 14.2, 17, 16.99, 17.21, 16.49, 18.01]\n"
     ]
    }
   ],
   "source": [
    "print(auto_data)\n",
    "print(human_data)"
   ]
  },
  {
   "cell_type": "code",
   "execution_count": 64,
   "id": "695347a8-d8bc-459c-ad63-345f1e3112b0",
   "metadata": {},
   "outputs": [],
   "source": [
    "tau, p_value = stats.kendalltau(auto_data, human_data)"
   ]
  },
  {
   "cell_type": "code",
   "execution_count": 65,
   "id": "37211a03-5503-4cf0-b087-2813529c10b1",
   "metadata": {},
   "outputs": [
    {
     "name": "stdout",
     "output_type": "stream",
     "text": [
      "0.23809523809523814 0.5619047619047619\n"
     ]
    }
   ],
   "source": [
    "print(tau, p_value)"
   ]
  },
  {
   "cell_type": "code",
   "execution_count": 66,
   "id": "d5a8d377-1279-4eca-97a8-444dbb9a1872",
   "metadata": {},
   "outputs": [
    {
     "name": "stdout",
     "output_type": "stream",
     "text": [
      "-0.15789473684210523\n",
      "0.3\n",
      "0.2\n",
      "0.23809523809523814\n",
      "0.4666666666666666\n",
      "-0.06666666666666665\n",
      "0.3333333333333333\n",
      "0.3333333333333333\n",
      "0.3333333333333333\n",
      "0.3333333333333333\n",
      "-0.06666666666666665\n",
      "ConfidenceInterval(low=0.011572739735868892, high=0.29937622681189696)\n"
     ]
    }
   ],
   "source": [
    "from scipy.stats import bootstrap\n",
    "import numpy as np\n",
    "\n",
    "def calc_kendalltau(x, y):\n",
    "    tau = stats.kendalltau(x, y)[0]\n",
    "    print(tau)\n",
    "    if math.isnan(tau):\n",
    "        tau = 0\n",
    "    return tau\n",
    "\n",
    "rng = np.random.default_rng(seed=42)\n",
    "data = (auto_data, human_data)\n",
    "bootstrap_samples = bootstrap(data, calc_kendalltau, n_resamples=3, confidence_level=0.9, random_state=rng, paired=True, vectorized=False)\n",
    "print(bootstrap_samples.confidence_interval)"
   ]
  },
  {
   "cell_type": "markdown",
   "id": "1c817175-bc5f-4e9e-8117-5ab410f1ba9b",
   "metadata": {},
   "source": [
    "### BERTScore"
   ]
  },
  {
   "cell_type": "code",
   "execution_count": 67,
   "id": "3f18644f-7782-4432-9db4-3163cf69f308",
   "metadata": {},
   "outputs": [],
   "source": [
    "auto_data = []\n",
    "human_data = []\n",
    "for model in models:\n",
    "    auto_metric_field_name = f\"{model}_bertscore_f1\"\n",
    "    auto_data.append(statistics.mean(list(summary_dataset[auto_metric_field_name])))\n",
    "\n",
    "    human_metrics_fields = [f\"{model}_{metric}\" for metric in tau_metrics]\n",
    "    human_data.append(statistics.mean([sum([data_dict[field][i] for field in human_metrics_fields]) for i in range(100)]))"
   ]
  },
  {
   "cell_type": "code",
   "execution_count": 68,
   "id": "aaf67aec-56e5-42af-8a6b-9e494da7ac36",
   "metadata": {},
   "outputs": [
    {
     "name": "stdout",
     "output_type": "stream",
     "text": [
      "[0.6696224373579025, 0.6392732173204422, 0.6607429033517838, 0.6753411090373993, 0.6702926516532898, 0.6756654751300811, 0.6804703199863433]\n",
      "[17.43, 14.2, 17, 16.99, 17.21, 16.49, 18.01]\n"
     ]
    }
   ],
   "source": [
    "print(auto_data)\n",
    "print(human_data)"
   ]
  },
  {
   "cell_type": "code",
   "execution_count": 69,
   "id": "242b343e-572a-406d-b72c-3dc129025f22",
   "metadata": {},
   "outputs": [],
   "source": [
    "tau, p_value = stats.kendalltau(auto_data, human_data)"
   ]
  },
  {
   "cell_type": "code",
   "execution_count": 70,
   "id": "6bf9a1f3-9c3f-469b-86b9-cc5f1e07ff86",
   "metadata": {},
   "outputs": [
    {
     "name": "stdout",
     "output_type": "stream",
     "text": [
      "0.23809523809523814 0.5619047619047619\n"
     ]
    }
   ],
   "source": [
    "print(tau, p_value)"
   ]
  },
  {
   "cell_type": "code",
   "execution_count": 71,
   "id": "d8a8a0d6-71e9-4f98-9fbb-e7f36425539c",
   "metadata": {},
   "outputs": [
    {
     "name": "stdout",
     "output_type": "stream",
     "text": [
      "ConfidenceInterval(low=-0.7777777777777779, high=0.7894736842105262)\n"
     ]
    }
   ],
   "source": [
    "from scipy.stats import bootstrap\n",
    "import numpy as np\n",
    "\n",
    "def calc_kendalltau(x, y):\n",
    "    tau = stats.kendalltau(x, y)[0]\n",
    "    if math.isnan(tau):\n",
    "        tau = 0\n",
    "    return tau\n",
    "\n",
    "rng = np.random.default_rng(seed=42)\n",
    "data = (auto_data, human_data)\n",
    "bootstrap_samples = bootstrap(data, calc_kendalltau, n_resamples=1000, confidence_level=0.9, random_state=rng, paired=True, vectorized=False)\n",
    "print(bootstrap_samples.confidence_interval)"
   ]
  },
  {
   "cell_type": "markdown",
   "id": "46e464a9-af0e-493f-832f-78a5d62fc547",
   "metadata": {},
   "source": [
    "## Correlation (per-input)"
   ]
  },
  {
   "cell_type": "markdown",
   "id": "c76ef828-c9e6-4b26-92fb-434e6b7165b1",
   "metadata": {},
   "source": [
    "### BLEU"
   ]
  },
  {
   "cell_type": "code",
   "execution_count": 117,
   "id": "718f2da9-cf1c-420d-91e0-2284c7622705",
   "metadata": {},
   "outputs": [
    {
     "name": "stderr",
     "output_type": "stream",
     "text": [
      "/home/skatori/.local/lib/python3.12/site-packages/scipy/stats/_resampling.py:153: RuntimeWarning: invalid value encountered in scalar divide\n",
      "  alpha_1 = ndtr(z0_hat + num1/(1 - a_hat*num1))\n",
      "/home/skatori/.local/lib/python3.12/site-packages/scipy/stats/_resampling.py:155: RuntimeWarning: invalid value encountered in scalar divide\n",
      "  alpha_2 = ndtr(z0_hat + num2/(1 - a_hat*num2))\n",
      "/tmp/ipykernel_302241/528596638.py:16: DegenerateDataWarning: The BCa confidence interval cannot be calculated. This problem is known to occur when the distribution is degenerate or the statistic is np.min.\n",
      "  bootstrap_samples = bootstrap((auto_data_temp, human_data_temp), calc_kendalltau, n_resamples=3, confidence_level=0.9, random_state=rng, paired=True, vectorized=False)\n"
     ]
    }
   ],
   "source": [
    "import math\n",
    "res = []\n",
    "ci_min = []\n",
    "ci_max = []\n",
    "for i in range(len(data_dict)):\n",
    "    auto_data_temp = []\n",
    "    human_data_temp = []\n",
    "    for model in models:\n",
    "        auto_metric_field_name = f\"{model}_bleu\"\n",
    "        auto_data_temp.append(summary_dataset[auto_metric_field_name][i])\n",
    "    \n",
    "        human_metrics_fields = [f\"{model}_{metric}\" for metric in tau_metrics]\n",
    "        human_data_temp.append(sum([data_dict[field][i] for field in human_metrics_fields]))\n",
    "\n",
    "    \n",
    "    bootstrap_samples = bootstrap((auto_data_temp, human_data_temp), calc_kendalltau, n_resamples=3, confidence_level=0.9, random_state=rng, paired=True, vectorized=False)\n",
    "    ci = bootstrap_samples.confidence_interval\n",
    "    if not math.isnan(ci.low):\n",
    "        ci_min.append(ci.low)\n",
    "    if not math.isnan(ci.high):\n",
    "        ci_max.append(ci.high)\n",
    "    # ci_min.append(ci.low)\n",
    "    # ci_max.append(ci.high)\n",
    "    \n",
    "    tau_temp = stats.kendalltau(auto_data_temp, human_data_temp)[0]\n",
    "    if math.isnan(tau_temp):\n",
    "        tau_temp = 0\n",
    "    res.append(tau_temp)\n",
    "tau = statistics.mean(res)\n",
    "ci = [statistics.mean(ci_min), statistics.mean(ci_max)]"
   ]
  },
  {
   "cell_type": "code",
   "execution_count": 118,
   "id": "11ec16c1-bcc9-48cb-9498-f9c93b13c9cb",
   "metadata": {},
   "outputs": [
    {
     "name": "stdout",
     "output_type": "stream",
     "text": [
      "0.2358723861475769\n",
      "[-0.16317762109356285, 0.5010884948189885]\n"
     ]
    }
   ],
   "source": [
    "print(tau)\n",
    "print(ci)"
   ]
  },
  {
   "cell_type": "code",
   "execution_count": 119,
   "id": "ec9d78c4-87ea-4863-90f2-324b44a56b69",
   "metadata": {},
   "outputs": [
    {
     "name": "stdout",
     "output_type": "stream",
     "text": [
      "Kendall's tau: 0.33333333333333337\n",
      "Confidence Interval: (-0.38120792694603783, 0.7985579537002357)\n",
      "P-value: 0.3813492063492063\n"
     ]
    }
   ],
   "source": [
    "from correlation import corr\n",
    "import numpy as np\n",
    "\n",
    "# Example data\n",
    "x = np.array(auto_data_temp)\n",
    "y = np.array(human_data_temp)\n",
    "\n",
    "# Calculate Kendall's tau and its confidence interval\n",
    "tau, ci_lower, ci_upper, p = corr(x, y, method='kendall_tau')\n",
    "\n",
    "print(f\"Kendall's tau: {tau}\")\n",
    "print(f\"Confidence Interval: ({ci_lower}, {ci_upper})\")\n",
    "print(f\"P-value: {p}\")"
   ]
  },
  {
   "cell_type": "markdown",
   "id": "fc032748-74ba-40d4-b5a2-296295f50fb2",
   "metadata": {},
   "source": [
    "### ROUGE1"
   ]
  },
  {
   "cell_type": "code",
   "execution_count": 123,
   "id": "4fd19b6e-5ab6-47c8-8b5f-407400890a0c",
   "metadata": {},
   "outputs": [
    {
     "name": "stderr",
     "output_type": "stream",
     "text": [
      "/tmp/ipykernel_302241/1945987427.py:16: DegenerateDataWarning: The BCa confidence interval cannot be calculated. This problem is known to occur when the distribution is degenerate or the statistic is np.min.\n",
      "  bootstrap_samples = bootstrap((auto_data_temp, human_data_temp), calc_kendalltau, n_resamples=3, confidence_level=0.9, random_state=rng, paired=True, vectorized=False)\n"
     ]
    }
   ],
   "source": [
    "import math\n",
    "res = []\n",
    "ci_min = []\n",
    "ci_max = []\n",
    "for i in range(len(data_dict)):\n",
    "    auto_data_temp = []\n",
    "    human_data_temp = []\n",
    "    for model in models:\n",
    "        auto_metric_field_name = f\"{model}_rouge1\"\n",
    "        auto_data_temp.append(summary_dataset[auto_metric_field_name][i])\n",
    "    \n",
    "        human_metrics_fields = [f\"{model}_{metric}\" for metric in tau_metrics]\n",
    "        human_data_temp.append(sum([data_dict[field][i] for field in human_metrics_fields]))\n",
    "\n",
    "    \n",
    "    bootstrap_samples = bootstrap((auto_data_temp, human_data_temp), calc_kendalltau, n_resamples=3, confidence_level=0.9, random_state=rng, paired=True, vectorized=False)\n",
    "    ci = bootstrap_samples.confidence_interval\n",
    "    if not math.isnan(ci.low):\n",
    "        ci_min.append(ci.low)\n",
    "    if not math.isnan(ci.high):\n",
    "        ci_max.append(ci.high)\n",
    "    # ci_min.append(ci.low)\n",
    "    # ci_max.append(ci.high)\n",
    "    \n",
    "    tau_temp = stats.kendalltau(auto_data_temp, human_data_temp)[0]\n",
    "    if math.isnan(tau_temp):\n",
    "        tau_temp = 0\n",
    "    res.append(tau_temp)\n",
    "tau = statistics.mean(res)\n",
    "ci = [statistics.mean(ci_min), statistics.mean(ci_max)]"
   ]
  },
  {
   "cell_type": "code",
   "execution_count": 124,
   "id": "7947b333-1b23-4f78-81e4-209d5bd69f90",
   "metadata": {},
   "outputs": [
    {
     "name": "stdout",
     "output_type": "stream",
     "text": [
      "0.24435172937667124\n",
      "[-0.009952020885150447, 0.5372684435130398]\n"
     ]
    }
   ],
   "source": [
    "print(tau)\n",
    "print(ci)"
   ]
  },
  {
   "cell_type": "code",
   "execution_count": 125,
   "id": "3a4a1433-f824-4320-b1a8-08471ce49256",
   "metadata": {},
   "outputs": [
    {
     "name": "stdout",
     "output_type": "stream",
     "text": [
      "Kendall's tau: 0.23809523809523814\n",
      "Confidence Interval: (-0.4662687533397921, 0.7577031100905322)\n",
      "P-value: 0.5619047619047619\n"
     ]
    }
   ],
   "source": [
    "from correlation import corr\n",
    "import numpy as np\n",
    "\n",
    "# Example data\n",
    "x = np.array(auto_data_temp)\n",
    "y = np.array(human_data_temp)\n",
    "\n",
    "# Calculate Kendall's tau and its confidence interval\n",
    "tau, ci_lower, ci_upper, p = corr(x, y, method='kendall_tau')\n",
    "\n",
    "print(f\"Kendall's tau: {tau}\")\n",
    "print(f\"Confidence Interval: ({ci_lower}, {ci_upper})\")\n",
    "print(f\"P-value: {p}\")"
   ]
  },
  {
   "cell_type": "markdown",
   "id": "746f1a65-42ca-4167-a567-841c43622b09",
   "metadata": {},
   "source": [
    "### METEOR"
   ]
  },
  {
   "cell_type": "code",
   "execution_count": 128,
   "id": "d222d1d1-0a16-41be-8c12-9dc48ef45608",
   "metadata": {},
   "outputs": [
    {
     "name": "stderr",
     "output_type": "stream",
     "text": [
      "/tmp/ipykernel_302241/2845691270.py:15: DegenerateDataWarning: The BCa confidence interval cannot be calculated. This problem is known to occur when the distribution is degenerate or the statistic is np.min.\n",
      "  bootstrap_samples = bootstrap((auto_data_temp, human_data_temp), calc_kendalltau, n_resamples=3, confidence_level=0.9, random_state=rng, paired=True, vectorized=False)\n"
     ]
    }
   ],
   "source": [
    "import math\n",
    "res = []\n",
    "ci_min = []\n",
    "ci_max = []\n",
    "for i in range(len(data_dict)):\n",
    "    auto_data_temp = []\n",
    "    human_data_temp = []\n",
    "    for model in models:\n",
    "        auto_metric_field_name = f\"{model}_meteor\"\n",
    "        auto_data_temp.append(summary_dataset[auto_metric_field_name][i])\n",
    "    \n",
    "        human_metrics_fields = [f\"{model}_{metric}\" for metric in tau_metrics]\n",
    "        human_data_temp.append(sum([data_dict[field][i] for field in human_metrics_fields]))\n",
    "\n",
    "    bootstrap_samples = bootstrap((auto_data_temp, human_data_temp), calc_kendalltau, n_resamples=3, confidence_level=0.9, random_state=rng, paired=True, vectorized=False)\n",
    "    ci = bootstrap_samples.confidence_interval\n",
    "    if not math.isnan(ci.low):\n",
    "        ci_min.append(ci.low)\n",
    "    if not math.isnan(ci.high):\n",
    "        ci_max.append(ci.high)\n",
    "        \n",
    "    tau_temp = stats.kendalltau(auto_data_temp, human_data_temp)[0]\n",
    "    if math.isnan(tau_temp):\n",
    "        tau_temp = 0\n",
    "    res.append(tau_temp)\n",
    "tau = statistics.mean(res)\n",
    "ci = [statistics.mean(ci_min), statistics.mean(ci_max)]"
   ]
  },
  {
   "cell_type": "code",
   "execution_count": 129,
   "id": "b3eae85a-f2d3-4fa4-a45c-acdd078d0f89",
   "metadata": {},
   "outputs": [
    {
     "name": "stdout",
     "output_type": "stream",
     "text": [
      "0.23174082764081794\n",
      "[-0.10871192965454869, 0.5014152225295144]\n"
     ]
    }
   ],
   "source": [
    "print(tau)\n",
    "print(ci)"
   ]
  },
  {
   "cell_type": "code",
   "execution_count": 130,
   "id": "f4bcc0c9-b16f-46d4-a9e2-ea01e376364b",
   "metadata": {},
   "outputs": [
    {
     "name": "stdout",
     "output_type": "stream",
     "text": [
      "Kendall's tau: 0.6190476190476191\n",
      "Confidence Interval: (-0.02458134410853644, 0.8998642128954149)\n",
      "P-value: 0.06904761904761905\n"
     ]
    }
   ],
   "source": [
    "from correlation import corr\n",
    "import numpy as np\n",
    "\n",
    "# Example data\n",
    "x = np.array(auto_data_temp)\n",
    "y = np.array(human_data_temp)\n",
    "\n",
    "# Calculate Kendall's tau and its confidence interval\n",
    "tau, ci_lower, ci_upper, p = corr(x, y, method='kendall_tau')\n",
    "\n",
    "print(f\"Kendall's tau: {tau}\")\n",
    "print(f\"Confidence Interval: ({ci_lower}, {ci_upper})\")\n",
    "print(f\"P-value: {p}\")"
   ]
  },
  {
   "cell_type": "markdown",
   "id": "b6b5a1d5-1ef9-4b23-aa4a-97bd63cf9454",
   "metadata": {},
   "source": [
    "### BERTScore"
   ]
  },
  {
   "cell_type": "code",
   "execution_count": 132,
   "id": "2c17a6df-707f-4d85-9d83-b9f0a15393ae",
   "metadata": {},
   "outputs": [
    {
     "name": "stderr",
     "output_type": "stream",
     "text": [
      "/tmp/ipykernel_302241/2694832597.py:15: DegenerateDataWarning: The BCa confidence interval cannot be calculated. This problem is known to occur when the distribution is degenerate or the statistic is np.min.\n",
      "  bootstrap_samples = bootstrap((auto_data_temp, human_data_temp), calc_kendalltau, n_resamples=3, confidence_level=0.9, random_state=rng, paired=True, vectorized=False)\n"
     ]
    }
   ],
   "source": [
    "import math\n",
    "res = []\n",
    "ci_min = []\n",
    "ci_max = []\n",
    "for i in range(len(data_dict)):\n",
    "    auto_data_temp = []\n",
    "    human_data_temp = []\n",
    "    for model in models:\n",
    "        auto_metric_field_name = f\"{model}_bertscore_f1\"\n",
    "        auto_data_temp.append(summary_dataset[auto_metric_field_name][i])\n",
    "    \n",
    "        human_metrics_fields = [f\"{model}_{metric}\" for metric in tau_metrics]\n",
    "        human_data_temp.append(sum([data_dict[field][i] for field in human_metrics_fields]))\n",
    "\n",
    "    bootstrap_samples = bootstrap((auto_data_temp, human_data_temp), calc_kendalltau, n_resamples=3, confidence_level=0.9, random_state=rng, paired=True, vectorized=False)\n",
    "    ci = bootstrap_samples.confidence_interval\n",
    "    if not math.isnan(ci.low):\n",
    "        ci_min.append(ci.low)\n",
    "    if not math.isnan(ci.high):\n",
    "        ci_max.append(ci.high)\n",
    "        \n",
    "    tau_temp = stats.kendalltau(auto_data_temp, human_data_temp)[0]\n",
    "    if math.isnan(tau_temp):\n",
    "        tau_temp = 0\n",
    "    res.append(tau_temp)\n",
    "tau = statistics.mean(res)\n",
    "ci = [statistics.mean(ci_min), statistics.mean(ci_max)]"
   ]
  },
  {
   "cell_type": "code",
   "execution_count": 133,
   "id": "1ff6d905-1cf6-4bd4-906a-605fc3cb60d3",
   "metadata": {},
   "outputs": [
    {
     "name": "stdout",
     "output_type": "stream",
     "text": [
      "0.23137108580731913\n",
      "[-0.02518307012777185, 0.46926167631533094]\n"
     ]
    }
   ],
   "source": [
    "print(tau)\n",
    "print(ci)"
   ]
  },
  {
   "cell_type": "code",
   "execution_count": 134,
   "id": "aed4affd-5d03-43c2-959f-819d3c3aa103",
   "metadata": {},
   "outputs": [
    {
     "name": "stdout",
     "output_type": "stream",
     "text": [
      "Kendall's tau: 0.23809523809523814\n",
      "Confidence Interval: (-0.4662687533397921, 0.7577031100905322)\n",
      "P-value: 0.5619047619047619\n"
     ]
    }
   ],
   "source": [
    "from correlation import corr\n",
    "import numpy as np\n",
    "\n",
    "# Example data\n",
    "x = np.array(auto_data_temp)\n",
    "y = np.array(human_data_temp)\n",
    "\n",
    "# Calculate Kendall's tau and its confidence interval\n",
    "tau, ci_lower, ci_upper, p = corr(x, y, method='kendall_tau')\n",
    "\n",
    "print(f\"Kendall's tau: {tau}\")\n",
    "print(f\"Confidence Interval: ({ci_lower}, {ci_upper})\")\n",
    "print(f\"P-value: {p}\")"
   ]
  },
  {
   "cell_type": "markdown",
   "id": "dd257593-2558-4e21-bbf0-4d54e0d09ec0",
   "metadata": {},
   "source": [
    "## Sys correlation for concrete metrics"
   ]
  },
  {
   "cell_type": "code",
   "execution_count": 135,
   "id": "13b8916a-d31d-4200-bfdc-e5058e0b1ea4",
   "metadata": {},
   "outputs": [
    {
     "name": "stdout",
     "output_type": "stream",
     "text": [
      "['yagpt3_predictions_Актуальность', 'yagpt3_predictions_Последовательность', 'yagpt3_predictions_Беглость', 'yagpt3_predictions_Согласованность']\n"
     ]
    }
   ],
   "source": [
    "import scipy.stats as stats\n",
    "\n",
    "auto_metrics = [\"bleu\", \"rouge1\", \"meteor\", \"bertscore_f1\"]\n",
    "human_metrics_fields = [f\"{model}_{metric}\" for metric in tau_metrics]\n",
    "\n",
    "human_metric_stats = {field_name: {metric: None for metric in auto_metrics} for field_name in tau_metrics}\n",
    "\n",
    "print(human_metrics_fields)\n",
    "\n",
    "\n",
    "for chosen_field in tau_metrics:\n",
    "    for chosen_metric in auto_metrics:\n",
    "        auto_data = []\n",
    "        human_data = []\n",
    "        for model in models:\n",
    "            auto_metric_field_name = f\"{model}_{chosen_metric}\"\n",
    "            auto_data.append(statistics.mean(list(summary_dataset[auto_metric_field_name])))\n",
    "        \n",
    "            human_metrics_fields = f\"{model}_{chosen_field}\"\n",
    "            human_data.append(statistics.mean([data_dict[human_metrics_fields][i] for i in range(100)]))\n",
    "        # print(auto_data)\n",
    "        # print(human_data)\n",
    "        tau, p_value = stats.kendalltau(auto_data, human_data)\n",
    "        human_metric_stats[chosen_field][chosen_metric] = (tau, p_value)"
   ]
  },
  {
   "cell_type": "code",
   "execution_count": null,
   "id": "f295be83-a428-49cb-b5fc-c891f7332403",
   "metadata": {},
   "outputs": [],
   "source": []
  },
  {
   "cell_type": "code",
   "execution_count": 136,
   "id": "e1f62242-a867-4929-a920-99dff4fef344",
   "metadata": {},
   "outputs": [
    {
     "data": {
      "text/html": [
       "<div>\n",
       "<style scoped>\n",
       "    .dataframe tbody tr th:only-of-type {\n",
       "        vertical-align: middle;\n",
       "    }\n",
       "\n",
       "    .dataframe tbody tr th {\n",
       "        vertical-align: top;\n",
       "    }\n",
       "\n",
       "    .dataframe thead th {\n",
       "        text-align: right;\n",
       "    }\n",
       "</style>\n",
       "<table border=\"1\" class=\"dataframe\">\n",
       "  <thead>\n",
       "    <tr style=\"text-align: right;\">\n",
       "      <th></th>\n",
       "      <th>Актуальность</th>\n",
       "      <th>Последовательность</th>\n",
       "      <th>Беглость</th>\n",
       "      <th>Согласованность</th>\n",
       "    </tr>\n",
       "  </thead>\n",
       "  <tbody>\n",
       "    <tr>\n",
       "      <th>bleu</th>\n",
       "      <td>(0.4285714285714286, 0.2388888888888889)</td>\n",
       "      <td>(-0.04761904761904762, 1.0)</td>\n",
       "      <td>(0.5855400437691199, 0.06831386315089874)</td>\n",
       "      <td>(0.6190476190476191, 0.06904761904761905)</td>\n",
       "    </tr>\n",
       "    <tr>\n",
       "      <th>rouge1</th>\n",
       "      <td>(0.5238095238095238, 0.1361111111111111)</td>\n",
       "      <td>(0.04761904761904762, 1.0)</td>\n",
       "      <td>(0.6831300510639733, 0.03344063866399787)</td>\n",
       "      <td>(0.7142857142857143, 0.03015873015873016)</td>\n",
       "    </tr>\n",
       "    <tr>\n",
       "      <th>meteor</th>\n",
       "      <td>(0.4285714285714286, 0.2388888888888889)</td>\n",
       "      <td>(0.9047619047619049, 0.002777777777777778)</td>\n",
       "      <td>(0.29277002188455997, 0.3620501922003584)</td>\n",
       "      <td>(0.04761904761904762, 1.0)</td>\n",
       "    </tr>\n",
       "    <tr>\n",
       "      <th>bertscore_f1</th>\n",
       "      <td>(0.23809523809523814, 0.5619047619047619)</td>\n",
       "      <td>(0.7142857142857143, 0.03015873015873016)</td>\n",
       "      <td>(0.29277002188455997, 0.3620501922003584)</td>\n",
       "      <td>(0.04761904761904762, 1.0)</td>\n",
       "    </tr>\n",
       "  </tbody>\n",
       "</table>\n",
       "</div>"
      ],
      "text/plain": [
       "                                           Актуальность  \\\n",
       "bleu           (0.4285714285714286, 0.2388888888888889)   \n",
       "rouge1         (0.5238095238095238, 0.1361111111111111)   \n",
       "meteor         (0.4285714285714286, 0.2388888888888889)   \n",
       "bertscore_f1  (0.23809523809523814, 0.5619047619047619)   \n",
       "\n",
       "                                      Последовательность  \\\n",
       "bleu                         (-0.04761904761904762, 1.0)   \n",
       "rouge1                        (0.04761904761904762, 1.0)   \n",
       "meteor        (0.9047619047619049, 0.002777777777777778)   \n",
       "bertscore_f1   (0.7142857142857143, 0.03015873015873016)   \n",
       "\n",
       "                                               Беглость  \\\n",
       "bleu          (0.5855400437691199, 0.06831386315089874)   \n",
       "rouge1        (0.6831300510639733, 0.03344063866399787)   \n",
       "meteor        (0.29277002188455997, 0.3620501922003584)   \n",
       "bertscore_f1  (0.29277002188455997, 0.3620501922003584)   \n",
       "\n",
       "                                        Согласованность  \n",
       "bleu          (0.6190476190476191, 0.06904761904761905)  \n",
       "rouge1        (0.7142857142857143, 0.03015873015873016)  \n",
       "meteor                       (0.04761904761904762, 1.0)  \n",
       "bertscore_f1                 (0.04761904761904762, 1.0)  "
      ]
     },
     "execution_count": 136,
     "metadata": {},
     "output_type": "execute_result"
    }
   ],
   "source": [
    "pd.DataFrame(human_metric_stats)"
   ]
  },
  {
   "cell_type": "code",
   "execution_count": 150,
   "id": "3b8b5145-736c-472e-8f15-ff0215619b36",
   "metadata": {
    "scrolled": true
   },
   "outputs": [
    {
     "name": "stdout",
     "output_type": "stream",
     "text": [
      "['yagpt3_predictions_Актуальность', 'yagpt3_predictions_Последовательность', 'yagpt3_predictions_Беглость', 'yagpt3_predictions_Согласованность']\n"
     ]
    }
   ],
   "source": [
    "import scipy.stats as stats\n",
    "\n",
    "auto_metrics = [\"bleu\", \"rouge1\", \"meteor\", \"bertscore_f1\"]\n",
    "human_metrics_fields = [f\"{model}_{metric}\" for metric in tau_metrics]\n",
    "\n",
    "human_metric_stats = {field_name: {metric: None for metric in auto_metrics} for field_name in tau_metrics}\n",
    "\n",
    "print(human_metrics_fields)\n",
    "\n",
    "\n",
    "for chosen_field in tau_metrics:\n",
    "    for chosen_metric in auto_metrics:\n",
    "        auto_data = []\n",
    "        human_data = []\n",
    "        for model in models:\n",
    "            auto_metric_field_name = f\"{model}_{chosen_metric}\"\n",
    "            auto_data.append(statistics.mean(list(summary_dataset[auto_metric_field_name])))\n",
    "        \n",
    "            human_metrics_fields = f\"{model}_{chosen_field}\"\n",
    "            human_data.append(statistics.mean([data_dict[human_metrics_fields][i] for i in range(100)]))\n",
    "        # print(auto_data)\n",
    "        # print(human_data)\n",
    "        tau, ci_lower, ci_upper, p_value = corr(auto_data, human_data, method='kendall_tau')\n",
    "        human_metric_stats[chosen_field][chosen_metric] = (tau, ci_lower, ci_upper, p_value)"
   ]
  },
  {
   "cell_type": "code",
   "execution_count": 151,
   "id": "5b219c27-a2cb-4951-8530-c24feaf05953",
   "metadata": {},
   "outputs": [],
   "source": [
    "df = pd.DataFrame(human_metric_stats)"
   ]
  },
  {
   "cell_type": "code",
   "execution_count": 152,
   "id": "50500818-1f08-488b-b0ba-5e87112d73bc",
   "metadata": {},
   "outputs": [
    {
     "name": "stdout",
     "output_type": "stream",
     "text": [
      "Метрика &  Актуальность & Последовательность & Беглость & Согласованность  \\tabularnewline\n",
      "\\hline\n",
      "bleu  &  0.43 (CI [-0.28;0.84]) & -0.05 (CI [-0.66;0.6]) & 0.59 (CI [-0.08;0.89]) & 0.62 (CI [-0.02;0.9])  \\tabularnewline\n",
      "\\hline\n",
      "rouge1  &  0.52 (CI [-0.16;0.87]) & 0.05 (CI [-0.6;0.66]) & 0.68 (CI [0.09;0.92]) & 0.71 (CI [0.15;0.93])  \\tabularnewline\n",
      "\\hline\n",
      "meteor  &  0.43 (CI [-0.28;0.84]) & 0.9 (CI [0.56;1.0]) & 0.29 (CI [-0.42;0.78]) & 0.05 (CI [-0.6;0.66])  \\tabularnewline\n",
      "\\hline\n",
      "bertscore_f1  &  0.24 (CI [-0.47;0.76]) & 0.71 (CI [0.15;0.93]) & 0.29 (CI [-0.42;0.78]) & 0.05 (CI [-0.6;0.66])  \\tabularnewline\n",
      "\\hline\n"
     ]
    }
   ],
   "source": [
    "print(\"Метрика & \", \" & \".join(df.columns), \" \\\\tabularnewline\")\n",
    "print(\"\\\\hline\")\n",
    "for index, row in df.iterrows():\n",
    "    print(index, \" & \", \" & \".join([f\"{round(row[column][0], 2)} (CI [{round(row[column][1], 2)};{round(row[column][2], 2)}])\" for column in df.columns]), \" \\\\tabularnewline\")\n",
    "    print(\"\\\\hline\")"
   ]
  },
  {
   "cell_type": "code",
   "execution_count": null,
   "id": "6264b63c-7404-4118-af60-98c3deb51854",
   "metadata": {},
   "outputs": [],
   "source": []
  },
  {
   "cell_type": "code",
   "execution_count": 82,
   "id": "7e7365a3-6d42-4d89-b3c5-4dbbdb061b9e",
   "metadata": {},
   "outputs": [],
   "source": [
    "tau, p_value = stats.kendalltau(auto_data, human_data)"
   ]
  },
  {
   "cell_type": "code",
   "execution_count": 83,
   "id": "3f56d724-cb5a-4661-8380-28b51e50bb61",
   "metadata": {},
   "outputs": [
    {
     "name": "stdout",
     "output_type": "stream",
     "text": [
      "0.04761904761904762 1.0\n"
     ]
    }
   ],
   "source": [
    "print(tau, p_value)"
   ]
  },
  {
   "cell_type": "markdown",
   "id": "3c7ed5bb-a0b9-4cfa-afca-5b8c62fda92a",
   "metadata": {
    "jp-MarkdownHeadingCollapsed": true
   },
   "source": [
    "## Export"
   ]
  },
  {
   "cell_type": "code",
   "execution_count": 84,
   "id": "52cd5ffa-6990-4167-976b-57290e797838",
   "metadata": {},
   "outputs": [
    {
     "name": "stdout",
     "output_type": "stream",
     "text": [
      "dict_keys(['text', 'summary', 'summary_Актуальность', 'summary_Последовательность', 'summary_Беглость', 'summary_Согласованность', 'mbart_predictions', 'mbart_predictions_Актуальность', 'mbart_predictions_Последовательность', 'mbart_predictions_Беглость', 'mbart_predictions_Согласованность', 'mt5_predictions', 'mt5_predictions_Актуальность', 'mt5_predictions_Последовательность', 'mt5_predictions_Беглость', 'mt5_predictions_Согласованность', 'summarunner_predictions', 'summarunner_predictions_Актуальность', 'summarunner_predictions_Последовательность', 'summarunner_predictions_Беглость', 'summarunner_predictions_Согласованность', 'llama_7b_predictions', 'llama_7b_predictions_Актуальность', 'llama_7b_predictions_Последовательность', 'llama_7b_predictions_Беглость', 'llama_7b_predictions_Согласованность', 'starling_predictions', 'starling_predictions_Актуальность', 'starling_predictions_Последовательность', 'starling_predictions_Беглость', 'starling_predictions_Согласованность', 'yagpt_predictions', 'yagpt_predictions_Актуальность', 'yagpt_predictions_Последовательность', 'yagpt_predictions_Беглость', 'yagpt_predictions_Согласованность', 'yagpt3_predictions', 'yagpt3_predictions_Актуальность', 'yagpt3_predictions_Последовательность', 'yagpt3_predictions_Беглость', 'yagpt3_predictions_Согласованность'])\n"
     ]
    },
    {
     "ename": "KeyError",
     "evalue": "slice(None, 2, None)",
     "output_type": "error",
     "traceback": [
      "\u001b[0;31m---------------------------------------------------------------------------\u001b[0m",
      "\u001b[0;31mKeyError\u001b[0m                                  Traceback (most recent call last)",
      "Cell \u001b[0;32mIn[84], line 2\u001b[0m\n\u001b[1;32m      1\u001b[0m \u001b[38;5;28mprint\u001b[39m(data_dict\u001b[38;5;241m.\u001b[39mkeys())\n\u001b[0;32m----> 2\u001b[0m \u001b[38;5;28mprint\u001b[39m(\u001b[43mdata_dict\u001b[49m\u001b[43m[\u001b[49m\u001b[38;5;124;43m\"\u001b[39;49m\u001b[38;5;124;43myagpt_predictions\u001b[39;49m\u001b[38;5;124;43m\"\u001b[39;49m\u001b[43m]\u001b[49m\u001b[43m[\u001b[49m\u001b[43m:\u001b[49m\u001b[38;5;241;43m2\u001b[39;49m\u001b[43m]\u001b[49m)\n",
      "\u001b[0;31mKeyError\u001b[0m: slice(None, 2, None)"
     ]
    }
   ],
   "source": [
    "print(data_dict.keys())\n",
    "print(data_dict[\"yagpt_predictions\"][:2])"
   ]
  },
  {
   "cell_type": "code",
   "execution_count": 85,
   "id": "c8f23337-66b9-41e3-9c9c-cd9cf53e7135",
   "metadata": {},
   "outputs": [
    {
     "name": "stdout",
     "output_type": "stream",
     "text": [
      "Index(['title', 'text', 'summary', 'mbart_predictions', 'mt5_predictions',\n",
      "       'summarunner_predictions', 'llama_7b_predictions',\n",
      "       'starling_predictions', 'yagpt_predictions', 'yagpt3_predictions',\n",
      "       'mbart_predictions_bertscore_precision',\n",
      "       'mbart_predictions_bertscore_recall', 'mbart_predictions_bertscore_f1',\n",
      "       'mt5_predictions_bertscore_precision',\n",
      "       'mt5_predictions_bertscore_recall', 'mt5_predictions_bertscore_f1',\n",
      "       'summarunner_predictions_bertscore_precision',\n",
      "       'summarunner_predictions_bertscore_recall',\n",
      "       'summarunner_predictions_bertscore_f1',\n",
      "       'llama_7b_predictions_bertscore_precision',\n",
      "       'llama_7b_predictions_bertscore_recall',\n",
      "       'llama_7b_predictions_bertscore_f1',\n",
      "       'starling_predictions_bertscore_precision',\n",
      "       'starling_predictions_bertscore_recall',\n",
      "       'starling_predictions_bertscore_f1',\n",
      "       'yagpt_predictions_bertscore_precision',\n",
      "       'yagpt_predictions_bertscore_recall', 'yagpt_predictions_bertscore_f1',\n",
      "       'yagpt3_predictions_bertscore_precision',\n",
      "       'yagpt3_predictions_bertscore_recall',\n",
      "       'yagpt3_predictions_bertscore_f1', 'mbart_predictions_bleu',\n",
      "       'mt5_predictions_bleu', 'summarunner_predictions_bleu',\n",
      "       'llama_7b_predictions_bleu', 'starling_predictions_bleu',\n",
      "       'yagpt_predictions_bleu', 'yagpt3_predictions_bleu',\n",
      "       'mbart_predictions_rouge1', 'mbart_predictions_rouge2',\n",
      "       'mbart_predictions_rougeL', 'mbart_predictions_rougeLsum',\n",
      "       'mt5_predictions_rouge1', 'mt5_predictions_rouge2',\n",
      "       'mt5_predictions_rougeL', 'mt5_predictions_rougeLsum',\n",
      "       'summarunner_predictions_rouge1', 'summarunner_predictions_rouge2',\n",
      "       'summarunner_predictions_rougeL', 'summarunner_predictions_rougeLsum',\n",
      "       'llama_7b_predictions_rouge1', 'llama_7b_predictions_rouge2',\n",
      "       'llama_7b_predictions_rougeL', 'llama_7b_predictions_rougeLsum',\n",
      "       'starling_predictions_rouge1', 'starling_predictions_rouge2',\n",
      "       'starling_predictions_rougeL', 'starling_predictions_rougeLsum',\n",
      "       'yagpt_predictions_rouge1', 'yagpt_predictions_rouge2',\n",
      "       'yagpt_predictions_rougeL', 'yagpt_predictions_rougeLsum',\n",
      "       'yagpt3_predictions_rouge1', 'yagpt3_predictions_rouge2',\n",
      "       'yagpt3_predictions_rougeL', 'yagpt3_predictions_rougeLsum',\n",
      "       'mbart_predictions_meteor', 'mt5_predictions_meteor',\n",
      "       'summarunner_predictions_meteor', 'llama_7b_predictions_meteor',\n",
      "       'starling_predictions_meteor', 'yagpt_predictions_meteor',\n",
      "       'yagpt3_predictions_meteor', 'mbart_predictions_bleu.1',\n",
      "       'mt5_predictions_bleu.1', 'summarunner_predictions_bleu.1'],\n",
      "      dtype='object')\n"
     ]
    }
   ],
   "source": [
    "print(summary_dataset.columns)"
   ]
  },
  {
   "cell_type": "code",
   "execution_count": 86,
   "id": "e30b3802-c1e5-4ed3-8667-e1520e04474b",
   "metadata": {},
   "outputs": [],
   "source": [
    "keys = data_dict.keys()\n",
    "for key in keys:\n",
    "    if \"Комментарий\" in key:\n",
    "        continue\n",
    "    if (isinstance(data_dict[key][0], list)):\n",
    "        for i in range(len(data_dict[key])):\n",
    "            data_dict[key][i] = np.mean(data_dict[key][i]) if data_dict[key][i] else None"
   ]
  },
  {
   "cell_type": "code",
   "execution_count": 87,
   "id": "0f574b7d-c7e0-4b29-8f8b-5377ee8ea7c9",
   "metadata": {},
   "outputs": [
    {
     "ename": "KeyError",
     "evalue": "slice(None, 2, None)",
     "output_type": "error",
     "traceback": [
      "\u001b[0;31m---------------------------------------------------------------------------\u001b[0m",
      "\u001b[0;31mKeyError\u001b[0m                                  Traceback (most recent call last)",
      "Cell \u001b[0;32mIn[87], line 1\u001b[0m\n\u001b[0;32m----> 1\u001b[0m \u001b[38;5;28mprint\u001b[39m(\u001b[43mdata_dict\u001b[49m\u001b[43m[\u001b[49m\u001b[38;5;124;43m\"\u001b[39;49m\u001b[38;5;124;43myagpt_predictions\u001b[39;49m\u001b[38;5;124;43m\"\u001b[39;49m\u001b[43m]\u001b[49m\u001b[43m[\u001b[49m\u001b[43m:\u001b[49m\u001b[38;5;241;43m2\u001b[39;49m\u001b[43m]\u001b[49m)\n",
      "\u001b[0;31mKeyError\u001b[0m: slice(None, 2, None)"
     ]
    }
   ],
   "source": [
    "print(data_dict[\"yagpt_predictions\"][:2])"
   ]
  },
  {
   "cell_type": "code",
   "execution_count": 48,
   "id": "acc03595-3253-4325-b77b-fea7c44106a9",
   "metadata": {},
   "outputs": [
    {
     "name": "stdout",
     "output_type": "stream",
     "text": [
      "Index(['Unnamed: 0.3', 'Unnamed: 0.2', 'Unnamed: 0', 'Unnamed: 0.1', 'Ind',\n",
      "       'title', 'text', 'summary', 'mbart_predictions', 'mt5_predictions',\n",
      "       'summarunner_predictions', 'llama_7b_predictions',\n",
      "       'starling_predictions', 'yagpt_predictions', 'yagpt3_predictions',\n",
      "       'mbart_predictions_bertscore_precision',\n",
      "       'mbart_predictions_bertscore_recall', 'mbart_predictions_bertscore_f1',\n",
      "       'mt5_predictions_bertscore_precision',\n",
      "       'mt5_predictions_bertscore_recall', 'mt5_predictions_bertscore_f1',\n",
      "       'summarunner_predictions_bertscore_precision',\n",
      "       'summarunner_predictions_bertscore_recall',\n",
      "       'summarunner_predictions_bertscore_f1',\n",
      "       'llama_7b_predictions_bertscore_precision',\n",
      "       'llama_7b_predictions_bertscore_recall',\n",
      "       'llama_7b_predictions_bertscore_f1',\n",
      "       'starling_predictions_bertscore_precision',\n",
      "       'starling_predictions_bertscore_recall',\n",
      "       'starling_predictions_bertscore_f1',\n",
      "       'yagpt_predictions_bertscore_precision',\n",
      "       'yagpt_predictions_bertscore_recall', 'yagpt_predictions_bertscore_f1',\n",
      "       'yagpt3_predictions_bertscore_precision',\n",
      "       'yagpt3_predictions_bertscore_recall',\n",
      "       'yagpt3_predictions_bertscore_f1', 'mbart_predictions_rouge1',\n",
      "       'mbart_predictions_rouge2', 'mbart_predictions_rougeL',\n",
      "       'mbart_predictions_rougeLsum', 'mt5_predictions_rouge1',\n",
      "       'mt5_predictions_rouge2', 'mt5_predictions_rougeL',\n",
      "       'mt5_predictions_rougeLsum', 'summarunner_predictions_rouge1',\n",
      "       'summarunner_predictions_rouge2', 'summarunner_predictions_rougeL',\n",
      "       'summarunner_predictions_rougeLsum', 'llama_7b_predictions_rouge1',\n",
      "       'llama_7b_predictions_rouge2', 'llama_7b_predictions_rougeL',\n",
      "       'llama_7b_predictions_rougeLsum', 'starling_predictions_rouge1',\n",
      "       'starling_predictions_rouge2', 'starling_predictions_rougeL',\n",
      "       'starling_predictions_rougeLsum', 'yagpt_predictions_rouge1',\n",
      "       'yagpt_predictions_rouge2', 'yagpt_predictions_rougeL',\n",
      "       'yagpt_predictions_rougeLsum', 'yagpt3_predictions_rouge1',\n",
      "       'yagpt3_predictions_rouge2', 'yagpt3_predictions_rougeL',\n",
      "       'yagpt3_predictions_rougeLsum', 'mbart_predictions_meteor',\n",
      "       'mt5_predictions_meteor', 'summarunner_predictions_meteor',\n",
      "       'llama_7b_predictions_meteor', 'starling_predictions_meteor',\n",
      "       'yagpt_predictions_meteor', 'yagpt3_predictions_meteor'],\n",
      "      dtype='object')\n",
      "100 65\n"
     ]
    },
    {
     "data": {
      "text/html": [
       "<div>\n",
       "<style scoped>\n",
       "    .dataframe tbody tr th:only-of-type {\n",
       "        vertical-align: middle;\n",
       "    }\n",
       "\n",
       "    .dataframe tbody tr th {\n",
       "        vertical-align: top;\n",
       "    }\n",
       "\n",
       "    .dataframe thead th {\n",
       "        text-align: right;\n",
       "    }\n",
       "</style>\n",
       "<table border=\"1\" class=\"dataframe\">\n",
       "  <thead>\n",
       "    <tr style=\"text-align: right;\">\n",
       "      <th></th>\n",
       "      <th>Ind</th>\n",
       "      <th>text</th>\n",
       "      <th>summary</th>\n",
       "      <th>summary_Актуальность</th>\n",
       "      <th>summary_Последовательность</th>\n",
       "      <th>summary_Беглость</th>\n",
       "      <th>summary_Согласованность</th>\n",
       "      <th>summary_Комментарий</th>\n",
       "      <th>mbart_predictions</th>\n",
       "      <th>mbart_predictions_Актуальность</th>\n",
       "      <th>...</th>\n",
       "      <th>yagpt3_predictions_rouge2</th>\n",
       "      <th>yagpt3_predictions_rougeL</th>\n",
       "      <th>yagpt3_predictions_rougeLsum</th>\n",
       "      <th>mbart_predictions_meteor</th>\n",
       "      <th>mt5_predictions_meteor</th>\n",
       "      <th>summarunner_predictions_meteor</th>\n",
       "      <th>llama_7b_predictions_meteor</th>\n",
       "      <th>starling_predictions_meteor</th>\n",
       "      <th>yagpt_predictions_meteor</th>\n",
       "      <th>yagpt3_predictions_meteor</th>\n",
       "    </tr>\n",
       "  </thead>\n",
       "  <tbody>\n",
       "    <tr>\n",
       "      <th>0</th>\n",
       "      <td>53</td>\n",
       "      <td>Постоянно включенный Bluetooth на смартфоне гр...</td>\n",
       "      <td>Активированный в смартфоне Bluetooth может пре...</td>\n",
       "      <td>5.0</td>\n",
       "      <td>5.0</td>\n",
       "      <td>5.0</td>\n",
       "      <td>5.0</td>\n",
       "      <td>[nan]</td>\n",
       "      <td>Постоянно включенный Bluetooth на смартфоне гр...</td>\n",
       "      <td>4.0</td>\n",
       "      <td>...</td>\n",
       "      <td>0.011561</td>\n",
       "      <td>0.102857</td>\n",
       "      <td>0.114286</td>\n",
       "      <td>0.126459</td>\n",
       "      <td>0.053648</td>\n",
       "      <td>0.168245</td>\n",
       "      <td>0.207257</td>\n",
       "      <td>0.127202</td>\n",
       "      <td>0.168304</td>\n",
       "      <td>0.139373</td>\n",
       "    </tr>\n",
       "    <tr>\n",
       "      <th>1</th>\n",
       "      <td>204</td>\n",
       "      <td>Китайское издание Sina высоко оценило новый ро...</td>\n",
       "      <td>Новый российский боевой железнодорожный ракетн...</td>\n",
       "      <td>5.0</td>\n",
       "      <td>5.0</td>\n",
       "      <td>5.0</td>\n",
       "      <td>5.0</td>\n",
       "      <td>[nan]</td>\n",
       "      <td>Китайское издание Sina высоко оценило новый ро...</td>\n",
       "      <td>4.0</td>\n",
       "      <td>...</td>\n",
       "      <td>NaN</td>\n",
       "      <td>NaN</td>\n",
       "      <td>NaN</td>\n",
       "      <td>NaN</td>\n",
       "      <td>NaN</td>\n",
       "      <td>NaN</td>\n",
       "      <td>NaN</td>\n",
       "      <td>NaN</td>\n",
       "      <td>NaN</td>\n",
       "      <td>NaN</td>\n",
       "    </tr>\n",
       "    <tr>\n",
       "      <th>2</th>\n",
       "      <td>217</td>\n",
       "      <td>8 сентября в Японии официально стартовала изби...</td>\n",
       "      <td>Генеральный секретарь кабинета министров Япони...</td>\n",
       "      <td>5.0</td>\n",
       "      <td>5.0</td>\n",
       "      <td>5.0</td>\n",
       "      <td>5.0</td>\n",
       "      <td>[nan]</td>\n",
       "      <td>В Японии официально стартовала избирательная к...</td>\n",
       "      <td>4.0</td>\n",
       "      <td>...</td>\n",
       "      <td>NaN</td>\n",
       "      <td>NaN</td>\n",
       "      <td>NaN</td>\n",
       "      <td>NaN</td>\n",
       "      <td>NaN</td>\n",
       "      <td>NaN</td>\n",
       "      <td>NaN</td>\n",
       "      <td>NaN</td>\n",
       "      <td>NaN</td>\n",
       "      <td>NaN</td>\n",
       "    </tr>\n",
       "    <tr>\n",
       "      <th>3</th>\n",
       "      <td>244</td>\n",
       "      <td>Член президиума координационного совета оппози...</td>\n",
       "      <td>Члена президиума оппозиционного Координационно...</td>\n",
       "      <td>5.0</td>\n",
       "      <td>5.0</td>\n",
       "      <td>5.0</td>\n",
       "      <td>5.0</td>\n",
       "      <td>[nan]</td>\n",
       "      <td>Член президиума координационного совета оппози...</td>\n",
       "      <td>4.0</td>\n",
       "      <td>...</td>\n",
       "      <td>0.031250</td>\n",
       "      <td>0.164948</td>\n",
       "      <td>0.175258</td>\n",
       "      <td>0.248829</td>\n",
       "      <td>0.101734</td>\n",
       "      <td>0.263807</td>\n",
       "      <td>0.231588</td>\n",
       "      <td>0.310913</td>\n",
       "      <td>0.327753</td>\n",
       "      <td>0.224195</td>\n",
       "    </tr>\n",
       "    <tr>\n",
       "      <th>4</th>\n",
       "      <td>260</td>\n",
       "      <td>Аналитики Deutsche Bank обнародовали исследова...</td>\n",
       "      <td>В истории человечества наступает эпоха беспоря...</td>\n",
       "      <td>5.0</td>\n",
       "      <td>5.0</td>\n",
       "      <td>5.0</td>\n",
       "      <td>5.0</td>\n",
       "      <td>[nan]</td>\n",
       "      <td>В 2020 году в мире наступит новая эпоха беспор...</td>\n",
       "      <td>4.0</td>\n",
       "      <td>...</td>\n",
       "      <td>0.078431</td>\n",
       "      <td>0.193548</td>\n",
       "      <td>0.245161</td>\n",
       "      <td>0.309631</td>\n",
       "      <td>0.086664</td>\n",
       "      <td>0.314012</td>\n",
       "      <td>0.262029</td>\n",
       "      <td>0.238650</td>\n",
       "      <td>0.295642</td>\n",
       "      <td>0.311487</td>\n",
       "    </tr>\n",
       "  </tbody>\n",
       "</table>\n",
       "<p>5 rows × 120 columns</p>\n",
       "</div>"
      ],
      "text/plain": [
       "   Ind                                               text  \\\n",
       "0   53  Постоянно включенный Bluetooth на смартфоне гр...   \n",
       "1  204  Китайское издание Sina высоко оценило новый ро...   \n",
       "2  217  8 сентября в Японии официально стартовала изби...   \n",
       "3  244  Член президиума координационного совета оппози...   \n",
       "4  260  Аналитики Deutsche Bank обнародовали исследова...   \n",
       "\n",
       "                                             summary  summary_Актуальность  \\\n",
       "0  Активированный в смартфоне Bluetooth может пре...                   5.0   \n",
       "1  Новый российский боевой железнодорожный ракетн...                   5.0   \n",
       "2  Генеральный секретарь кабинета министров Япони...                   5.0   \n",
       "3  Члена президиума оппозиционного Координационно...                   5.0   \n",
       "4  В истории человечества наступает эпоха беспоря...                   5.0   \n",
       "\n",
       "   summary_Последовательность  summary_Беглость  summary_Согласованность  \\\n",
       "0                         5.0               5.0                      5.0   \n",
       "1                         5.0               5.0                      5.0   \n",
       "2                         5.0               5.0                      5.0   \n",
       "3                         5.0               5.0                      5.0   \n",
       "4                         5.0               5.0                      5.0   \n",
       "\n",
       "  summary_Комментарий                                  mbart_predictions  \\\n",
       "0               [nan]  Постоянно включенный Bluetooth на смартфоне гр...   \n",
       "1               [nan]  Китайское издание Sina высоко оценило новый ро...   \n",
       "2               [nan]  В Японии официально стартовала избирательная к...   \n",
       "3               [nan]  Член президиума координационного совета оппози...   \n",
       "4               [nan]  В 2020 году в мире наступит новая эпоха беспор...   \n",
       "\n",
       "   mbart_predictions_Актуальность  ...  yagpt3_predictions_rouge2  \\\n",
       "0                             4.0  ...                   0.011561   \n",
       "1                             4.0  ...                        NaN   \n",
       "2                             4.0  ...                        NaN   \n",
       "3                             4.0  ...                   0.031250   \n",
       "4                             4.0  ...                   0.078431   \n",
       "\n",
       "   yagpt3_predictions_rougeL  yagpt3_predictions_rougeLsum  \\\n",
       "0                   0.102857                      0.114286   \n",
       "1                        NaN                           NaN   \n",
       "2                        NaN                           NaN   \n",
       "3                   0.164948                      0.175258   \n",
       "4                   0.193548                      0.245161   \n",
       "\n",
       "  mbart_predictions_meteor mt5_predictions_meteor  \\\n",
       "0                 0.126459               0.053648   \n",
       "1                      NaN                    NaN   \n",
       "2                      NaN                    NaN   \n",
       "3                 0.248829               0.101734   \n",
       "4                 0.309631               0.086664   \n",
       "\n",
       "   summarunner_predictions_meteor  llama_7b_predictions_meteor  \\\n",
       "0                        0.168245                     0.207257   \n",
       "1                             NaN                          NaN   \n",
       "2                             NaN                          NaN   \n",
       "3                        0.263807                     0.231588   \n",
       "4                        0.314012                     0.262029   \n",
       "\n",
       "   starling_predictions_meteor  yagpt_predictions_meteor  \\\n",
       "0                     0.127202                  0.168304   \n",
       "1                          NaN                       NaN   \n",
       "2                          NaN                       NaN   \n",
       "3                     0.310913                  0.327753   \n",
       "4                     0.238650                  0.295642   \n",
       "\n",
       "  yagpt3_predictions_meteor  \n",
       "0                  0.139373  \n",
       "1                       NaN  \n",
       "2                       NaN  \n",
       "3                  0.224195  \n",
       "4                  0.311487  \n",
       "\n",
       "[5 rows x 120 columns]"
      ]
     },
     "execution_count": 48,
     "metadata": {},
     "output_type": "execute_result"
    }
   ],
   "source": [
    "predictions = [\n",
    "    \"mbart_predictions\",\n",
    "    \"mt5_predictions\",\n",
    "    \"summarunner_predictions\",\n",
    "    \"llama_7b_predictions\",\n",
    "    \"starling_predictions\",\n",
    "    \"yagpt_predictions\",\n",
    "    \"yagpt3_predictions\"\n",
    "]\n",
    "\n",
    "export_data = pd.DataFrame(data_dict)\n",
    "print(summary_dataset.columns)\n",
    "#summary_dataset = summary_dataset.rename(columns={'Unnamed: 0.1': 'Ind'})\n",
    "\n",
    "#full_export_data = export_data[export_data[\"Ind\"].isin(list(summary_dataset[\"Ind\"]))]\n",
    "full_export_data = export_data\n",
    "print(len(full_export_data), len(summary_dataset))\n",
    "full_export_data = pd.concat([full_export_data.set_index(\"Ind\"), summary_dataset.set_index(\"Ind\")], axis=1).reset_index()\n",
    "#full_export_data = pd.concat([full_export_data.drop(predictions, axis=1), summary_dataset.set_index(full_export_data.index)], axis=1)\n",
    "#full_export_data = full_export_data.loc[:,~full_export_data.columns.duplicated()].copy()\n",
    "# print(full_export_data[full_export_data.columns.duplicated()])\n",
    "#full_export_data = full_export_data[full_export_data[\"yagpt_predictions\"] != \"К сожалению, я не могу ничего сказать об этом. Давайте сменим тему?\"]\n",
    "full_export_data.head()"
   ]
  },
  {
   "cell_type": "code",
   "execution_count": 49,
   "id": "919d84a1-ec6b-426d-a23b-35a21ea471d2",
   "metadata": {},
   "outputs": [
    {
     "name": "stdout",
     "output_type": "stream",
     "text": [
      "100\n"
     ]
    }
   ],
   "source": [
    "print(len(full_export_data))\n",
    "full_export_data.to_csv(\"export_data.csv\", index=False)"
   ]
  },
  {
   "cell_type": "code",
   "execution_count": 82,
   "id": "7c32d40e-fb06-4f84-bb27-84509050ece4",
   "metadata": {},
   "outputs": [
    {
     "name": "stdout",
     "output_type": "stream",
     "text": [
      "Index(['text', 'summary', 'summary_Актуальность', 'summary_Последовательность',\n",
      "       'summary_Беглость', 'summary_Согласованность', 'mbart_predictions',\n",
      "       'mbart_predictions_Актуальность',\n",
      "       'mbart_predictions_Последовательность', 'mbart_predictions_Беглость',\n",
      "       'mbart_predictions_Согласованность', 'mt5_predictions',\n",
      "       'mt5_predictions_Актуальность', 'mt5_predictions_Последовательность',\n",
      "       'mt5_predictions_Беглость', 'mt5_predictions_Согласованность',\n",
      "       'summarunner_predictions', 'summarunner_predictions_Актуальность',\n",
      "       'summarunner_predictions_Последовательность',\n",
      "       'summarunner_predictions_Беглость',\n",
      "       'summarunner_predictions_Согласованность', 'llama_7b_predictions',\n",
      "       'llama_7b_predictions_Актуальность',\n",
      "       'llama_7b_predictions_Последовательность',\n",
      "       'llama_7b_predictions_Беглость', 'llama_7b_predictions_Согласованность',\n",
      "       'starling_predictions', 'starling_predictions_Актуальность',\n",
      "       'starling_predictions_Последовательность',\n",
      "       'starling_predictions_Беглость', 'starling_predictions_Согласованность',\n",
      "       'yagpt_predictions', 'yagpt_predictions_Актуальность',\n",
      "       'yagpt_predictions_Последовательность', 'yagpt_predictions_Беглость',\n",
      "       'yagpt_predictions_Согласованность', 'yagpt3_predictions',\n",
      "       'yagpt3_predictions_Актуальность',\n",
      "       'yagpt3_predictions_Последовательность', 'yagpt3_predictions_Беглость',\n",
      "       'yagpt3_predictions_Согласованность'],\n",
      "      dtype='object')\n"
     ]
    }
   ],
   "source": [
    "res = {}\n",
    "print(expert_data.columns)\n",
    "for column in expert_data.columns:\n",
    "    if any([\"Актуальность\" in column, \"Последовательность\" in column, \"Беглость\" in column, \"Согласованность\" in column]):\n",
    "        res[column] = expert_data.loc[:, column].mean()"
   ]
  },
  {
   "cell_type": "code",
   "execution_count": 83,
   "id": "2a25a4b1-00f3-4f6d-871f-cec9d5afd69d",
   "metadata": {},
   "outputs": [
    {
     "data": {
      "text/plain": [
       "{'summary_Актуальность': 4.151515151515151,\n",
       " 'summary_Последовательность': 4.787878787878788,\n",
       " 'summary_Беглость': 4.9393939393939394,\n",
       " 'summary_Согласованность': 4.9393939393939394,\n",
       " 'mbart_predictions_Актуальность': 3.68,\n",
       " 'mbart_predictions_Последовательность': 4.1,\n",
       " 'mbart_predictions_Беглость': 4.85,\n",
       " 'mbart_predictions_Согласованность': 4.8,\n",
       " 'mt5_predictions_Актуальность': 2.48,\n",
       " 'mt5_predictions_Последовательность': 3.06,\n",
       " 'mt5_predictions_Беглость': 4.41,\n",
       " 'mt5_predictions_Согласованность': 4.27,\n",
       " 'summarunner_predictions_Актуальность': 3.7,\n",
       " 'summarunner_predictions_Последовательность': 4.21,\n",
       " 'summarunner_predictions_Беглость': 4.63,\n",
       " 'summarunner_predictions_Согласованность': 4.46,\n",
       " 'llama_7b_predictions_Актуальность': 3.59,\n",
       " 'llama_7b_predictions_Последовательность': 4.44,\n",
       " 'llama_7b_predictions_Беглость': 4.57,\n",
       " 'llama_7b_predictions_Согласованность': 4.39,\n",
       " 'starling_predictions_Актуальность': 3.79,\n",
       " 'starling_predictions_Последовательность': 4.42,\n",
       " 'starling_predictions_Беглость': 4.42,\n",
       " 'starling_predictions_Согласованность': 4.58,\n",
       " 'yagpt_predictions_Актуальность': 3.54,\n",
       " 'yagpt_predictions_Последовательность': 4.34,\n",
       " 'yagpt_predictions_Беглость': 4.53,\n",
       " 'yagpt_predictions_Согласованность': 4.08,\n",
       " 'yagpt3_predictions_Актуальность': 3.85,\n",
       " 'yagpt3_predictions_Последовательность': 4.54,\n",
       " 'yagpt3_predictions_Беглость': 4.85,\n",
       " 'yagpt3_predictions_Согласованность': 4.77}"
      ]
     },
     "execution_count": 83,
     "metadata": {},
     "output_type": "execute_result"
    }
   ],
   "source": [
    "res"
   ]
  },
  {
   "cell_type": "code",
   "execution_count": 87,
   "id": "b3f49346-1460-47dc-9934-43f4285ae07a",
   "metadata": {},
   "outputs": [
    {
     "name": "stdout",
     "output_type": "stream",
     "text": [
      "\n",
      "summary\n",
      "4.15 & 4.78 & 4.93 & 4.93\n",
      "mbart\n",
      "3.68 & 4.1 & 4.85 & 4.8\n",
      "mt5\n",
      "2.48 & 3.06 & 4.41 & 4.27\n",
      "summarunner\n",
      "3.7 & 4.21 & 4.63 & 4.46\n",
      "llama\n",
      "3.59 & 4.44 & 4.57 & 4.39\n",
      "starling\n",
      "3.79 & 4.42 & 4.42 & 4.58\n",
      "yagpt\n",
      "3.54 & 4.34 & 4.53 & 4.08\n",
      "yagpt3\n"
     ]
    }
   ],
   "source": [
    "count = 0\n",
    "\n",
    "\n",
    "temp_vals = []\n",
    "for key, value in res.items():\n",
    "    if (count % 4 == 0):\n",
    "        print(\" & \".join([str(x)[:4] for x in temp_vals]))\n",
    "        temp_vals = []\n",
    "        print(key.split(\"_\")[0])\n",
    "    temp_vals.append(value)\n",
    "    count += 1\n",
    "    "
   ]
  },
  {
   "cell_type": "code",
   "execution_count": null,
   "id": "32ff5e29-10ee-42b1-bf44-4efa494ce906",
   "metadata": {},
   "outputs": [],
   "source": []
  }
 ],
 "metadata": {
  "kernelspec": {
   "display_name": "Python 3 (ipykernel)",
   "language": "python",
   "name": "python3"
  },
  "language_info": {
   "codemirror_mode": {
    "name": "ipython",
    "version": 3
   },
   "file_extension": ".py",
   "mimetype": "text/x-python",
   "name": "python",
   "nbconvert_exporter": "python",
   "pygments_lexer": "ipython3",
   "version": "3.12.3"
  }
 },
 "nbformat": 4,
 "nbformat_minor": 5
}
